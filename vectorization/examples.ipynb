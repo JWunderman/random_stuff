{
 "cells": [
  {
   "cell_type": "markdown",
   "source": [
    "## Conditional selection from an array"
   ],
   "metadata": {
    "collapsed": false
   }
  },
  {
   "cell_type": "code",
   "execution_count": 3,
   "outputs": [],
   "source": [
    "#loop\n",
    "array = [1, 2, 3, 4, 5]\n",
    "even_numbers = []\n",
    "for item in array:\n",
    "    if item % 2 == 0:\n",
    "        even_numbers.append(item)"
   ],
   "metadata": {
    "collapsed": false
   }
  },
  {
   "cell_type": "code",
   "execution_count": 4,
   "outputs": [],
   "source": [
    "\n",
    "#vectorized\n",
    "import numpy as np\n",
    "array = np.array([1, 2, 3, 4, 5])\n",
    "even_numbers = array[array % 2 == 0]\n"
   ],
   "metadata": {
    "collapsed": false
   }
  },
  {
   "cell_type": "markdown",
   "source": [
    "## Summing elements in an array"
   ],
   "metadata": {
    "collapsed": false
   }
  },
  {
   "cell_type": "code",
   "execution_count": 5,
   "outputs": [],
   "source": [
    "total = 0\n",
    "array = [1, 2, 3, 4, 5]\n",
    "for item in array:\n",
    "    total += item\n"
   ],
   "metadata": {
    "collapsed": false
   }
  },
  {
   "cell_type": "code",
   "execution_count": 6,
   "outputs": [],
   "source": [
    "import numpy as np\n",
    "array = np.array([1, 2, 3, 4, 5])\n",
    "total = np.sum(array)\n"
   ],
   "metadata": {
    "collapsed": false
   }
  },
  {
   "cell_type": "markdown",
   "source": [
    "## Assigning values based on multiple conditions"
   ],
   "metadata": {
    "collapsed": false
   }
  },
  {
   "cell_type": "code",
   "execution_count": null,
   "outputs": [],
   "source": [
    "#loop version\n",
    "import numpy as np\n",
    "array = np.array([10, 20, 30, 40, 50])\n",
    "result = np.empty_like(array)\n",
    "for i in range(len(array)):\n",
    "    if array[i] < 20:\n",
    "        result[i] = 1\n",
    "    elif 20 <= array[i] <= 40:\n",
    "        result[i] = 2\n",
    "    else:\n",
    "        result[i] = 3\n"
   ],
   "metadata": {
    "collapsed": false
   }
  },
  {
   "cell_type": "code",
   "execution_count": null,
   "outputs": [],
   "source": [
    "#np.where version\n",
    "import numpy as np\n",
    "array = np.array([10, 20, 30, 40, 50])\n",
    "result = np.where(array < 20, 1, np.where((20 <= array) & (array <= 40), 2, 3))\n"
   ],
   "metadata": {
    "collapsed": false
   }
  },
  {
   "cell_type": "markdown",
   "source": [
    "## creating a new array based on comparison of 2 arrays"
   ],
   "metadata": {
    "collapsed": false
   }
  },
  {
   "cell_type": "code",
   "execution_count": null,
   "outputs": [],
   "source": [
    "#loop version\n",
    "import numpy as np\n",
    "array1 = np.array([5, 10, 15, 20, 25])\n",
    "array2 = np.array([3, 12, 15, 18, 28])\n",
    "new_array = np.empty_like(array1)\n",
    "for i in range(len(array1)):\n",
    "    if array1[i] > array2[i]:\n",
    "        new_array[i] = array1[i] - array2[i]\n",
    "    else:\n",
    "        new_array[i] = array2[i] + 5\n"
   ],
   "metadata": {
    "collapsed": false
   }
  },
  {
   "cell_type": "code",
   "execution_count": null,
   "outputs": [],
   "source": [
    "#np.where version\n",
    "import numpy as np\n",
    "array1 = np.array([5, 10, 15, 20, 25])\n",
    "array2 = np.array([3, 12, 15, 18, 28])\n",
    "new_array = np.where(array1 > array2, array1 - array2, array2 + 5)\n"
   ],
   "metadata": {
    "collapsed": false
   }
  },
  {
   "cell_type": "markdown",
   "source": [
    "## Replacing negative values in the array with the mean of the positive"
   ],
   "metadata": {
    "collapsed": false
   }
  },
  {
   "cell_type": "code",
   "execution_count": 7,
   "outputs": [],
   "source": [
    "#loop version\n",
    "import numpy as np\n",
    "array = np.array([-1, 2, -3, 4, 5, -6])\n",
    "positive_mean = np.mean(array[array > 0])\n",
    "for i in range(len(array)):\n",
    "    if array[i] < 0:\n",
    "        array[i] = positive_mean\n"
   ],
   "metadata": {
    "collapsed": false
   }
  },
  {
   "cell_type": "code",
   "execution_count": null,
   "outputs": [],
   "source": [
    "#np.where version\n",
    "import numpy as np\n",
    "array = np.array([-1, 2, -3, 4, 5, -6])\n",
    "positive_mean = np.mean(array[array > 0])\n",
    "array = np.where(array < 0, positive_mean, array)\n"
   ],
   "metadata": {
    "collapsed": false
   }
  },
  {
   "cell_type": "markdown",
   "source": [
    "## Multiplying Matrices Element-wise and Summing the Result"
   ],
   "metadata": {
    "collapsed": false
   }
  },
  {
   "cell_type": "code",
   "execution_count": null,
   "outputs": [],
   "source": [
    "# nested loop\n",
    "result = 0\n",
    "matrix1 = [[1, 2, 3], [4, 5, 6], [7, 8, 9]]\n",
    "matrix2 = [[9, 8, 7], [6, 5, 4], [3, 2, 1]]\n",
    "\n",
    "for i in range(len(matrix1)):\n",
    "    for j in range(len(matrix1[0])):\n",
    "        result += matrix1[i][j] * matrix2[i][j]"
   ],
   "metadata": {
    "collapsed": false
   }
  },
  {
   "cell_type": "code",
   "execution_count": null,
   "outputs": [],
   "source": [
    "\n",
    "# vectorized approach\n",
    "import numpy as np\n",
    "\n",
    "matrix1 = np.array([[1, 2, 3], [4, 5, 6], [7, 8, 9]])\n",
    "matrix2 = np.array([[9, 8, 7], [6, 5, 4], [3, 2, 1]])\n",
    "\n",
    "result = np.sum(matrix1 * matrix2)\n",
    "\n"
   ],
   "metadata": {
    "collapsed": false
   }
  },
  {
   "cell_type": "markdown",
   "source": [
    "## Evaluating a Polynomial Over a Grid of Points"
   ],
   "metadata": {
    "collapsed": false
   }
  },
  {
   "cell_type": "code",
   "execution_count": null,
   "outputs": [],
   "source": [
    "# nested loop approach\n",
    "\n",
    "# Given coefficients of a polynomial a + bx + cx^2 + dx^3\n",
    "coefficients = [1, 2, 3, 4]\n",
    "x_values = range(10)\n",
    "y_values = range(10)\n",
    "output_grid = [[0 for y in y_values] for x in x_values]\n",
    "\n",
    "for i in x_values:\n",
    "    for j in y_values:\n",
    "        x = i / 10.0\n",
    "        y = j / 10.0\n",
    "        for k, coef in enumerate(coefficients):\n",
    "            output_grid[i][j] += coef * (x ** k + y ** k)\n"
   ],
   "metadata": {
    "collapsed": false
   }
  },
  {
   "cell_type": "code",
   "execution_count": null,
   "outputs": [],
   "source": [
    "import numpy as np\n",
    "\n",
    "coefficients = np.array([1, 2, 3, 4])\n",
    "x_values = np.linspace(0, 1, 10)\n",
    "y_values = np.linspace(0, 1, 10)\n",
    "X, Y = np.meshgrid(x_values, y_values)\n",
    "output_grid = np.zeros_like(X)\n",
    "\n",
    "for k, coef in enumerate(coefficients):\n",
    "    output_grid += coef * (X ** k + Y ** k)\n"
   ],
   "metadata": {
    "collapsed": false
   }
  },
  {
   "cell_type": "markdown",
   "source": [
    "## Cannot be Vectorized"
   ],
   "metadata": {
    "collapsed": false
   }
  },
  {
   "cell_type": "code",
   "execution_count": null,
   "outputs": [],
   "source": [
    "\n"
   ],
   "metadata": {
    "collapsed": false
   }
  }
 ],
 "metadata": {
  "kernelspec": {
   "display_name": "Python 3",
   "language": "python",
   "name": "python3"
  },
  "language_info": {
   "codemirror_mode": {
    "name": "ipython",
    "version": 2
   },
   "file_extension": ".py",
   "mimetype": "text/x-python",
   "name": "python",
   "nbconvert_exporter": "python",
   "pygments_lexer": "ipython2",
   "version": "2.7.6"
  }
 },
 "nbformat": 4,
 "nbformat_minor": 0
}
