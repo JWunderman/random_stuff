{
 "cells": [
  {
   "cell_type": "markdown",
   "source": [
    "Delegation in object-oriented programming refers to a design pattern where an object hands over its responsibilities to a second helper object. Delegation helps in code reuse and can achieve a composition-based design as opposed to inheritance-based design."
   ],
   "metadata": {
    "collapsed": false
   }
  },
  {
   "cell_type": "markdown",
   "source": [
    "The delegation design pattern is a powerful tool in object-oriented programming, offering various advantages and use cases. Here’s why and when you should consider using it:\n",
    "\n",
    "### Why Use Delegation?\n",
    "\n",
    "#### 1. **Encapsulation and Code Reuse**:\n",
    "   - Delegation allows you to reuse functionality from different classes without creating a strict inheritance hierarchy.\n",
    "   - You can encapsulate specific behaviors in separate classes and delegate tasks to these classes, promoting code reuse.\n",
    "\n",
    "#### 2. **Flexibility and Maintainability**:\n",
    "   - Delegation promotes a composition-based design, which is generally more flexible than an inheritance-based one.\n",
    "   - It's easier to modify or extend the behavior of a class by changing its delegate rather than altering an entire inheritance chain.\n",
    "\n",
    "#### 3. **Simplifying Complex Systems**:\n",
    "   - Delegation can help in breaking down complex systems into simpler, more manageable parts.\n",
    "   - Each class has a specific, well-defined responsibility, making the system easier to understand and maintain.\n",
    "\n",
    "#### 4. **Avoiding the Diamond Problem**:\n",
    "   - In languages that support multiple inheritance, delegation can be used to avoid the diamond problem, where a class inherits from two classes that share a common ancestor.\n",
    "\n",
    "#### 5. **Dynamic Behavior Changes**:\n",
    "   - Delegation allows for dynamic changes in behavior at runtime. You can change the delegate of an object to alter its behavior without needing to create a new subclass.\n",
    "\n",
    "### When to Use Delegation?\n",
    "\n",
    "#### 1. **When Composition is Preferred Over Inheritance**:\n",
    "   - If you find yourself wanting to inherit from multiple classes, it might be a sign that delegation is a more appropriate choice.\n",
    "\n",
    "#### 2. **When You Need to Share Functionality Among Unrelated Classes**:\n",
    "   - If several classes need to share behavior but don’t have a logical is-a relationship, delegation allows them to share functionality without forcing a contrived inheritance hierarchy.\n",
    "\n",
    "#### 3. **When You Want to Expose a Simplified Interface**:\n",
    "   - You can use delegation to expose a simpler or more specific interface to clients, even if the actual implementation relies on complex or generalized classes.\n",
    "\n",
    "#### 4. **When You Want to Avoid Class Explosion**:\n",
    "   - Sometimes, using inheritance can lead to an explosion of small, highly specialized classes. Delegation allows you to achieve the same functionality with fewer classes.\n",
    "\n",
    "#### 5. **When You Need to Implement Protocols or Interfaces**:\n",
    "   - If a class needs to conform to a certain protocol or interface but already inherits from another class, delegation can be used to implement the required behaviors.\n",
    "\n",
    "By considering these factors, you can make informed decisions about when and how to use the delegation design pattern to structure your code in a way that promotes maintainability, flexibility, and simplicity."
   ],
   "metadata": {
    "collapsed": false
   }
  },
  {
   "cell_type": "code",
   "execution_count": null,
   "outputs": [],
   "source": [
    "#example 1\n",
    "class Engine:\n",
    "    def start(self):\n",
    "        return \"Engine is starting\"\n",
    "\n",
    "    def stop(self):\n",
    "        return \"Engine is stopping\"\n",
    "\n",
    "class Car:\n",
    "    def __init__(self):\n",
    "        self.engine = Engine()\n",
    "\n",
    "    def start(self):\n",
    "        return self.engine.start()\n",
    "\n",
    "    def stop(self):\n",
    "        return self.engine.stop()\n",
    "\n",
    "car = Car()\n",
    "print(car.start())  # Output: Engine is starting\n",
    "print(car.stop())   # Output: Engine is stopping\n"
   ],
   "metadata": {
    "collapsed": false
   }
  },
  {
   "cell_type": "code",
   "execution_count": null,
   "outputs": [],
   "source": [
    "# example 2\n",
    "class Writer:\n",
    "    def write(self, message):\n",
    "        return f\"Writing: {message}\"\n",
    "\n",
    "class Printer:\n",
    "    def __init__(self):\n",
    "        self.writer = Writer()\n",
    "\n",
    "    def print(self, message):\n",
    "        return self.writer.write(message)\n",
    "\n",
    "printer = Printer()\n",
    "print(printer.print(\"Hello, World!\"))  # Output: Writing: Hello, World!\n"
   ],
   "metadata": {
    "collapsed": false
   }
  },
  {
   "cell_type": "markdown",
   "source": [
    "## Replace superclass with delegate"
   ],
   "metadata": {
    "collapsed": false
   },
   "execution_count": 1
  },
  {
   "cell_type": "code",
   "execution_count": null,
   "outputs": [],
   "source": [
    "\n",
    "#### Before: Using Inheritance\n",
    "\n",
    "#Here, `Square` inherits from `Rectangle`, even though a square isn’t a kind of rectangle in all circumstances (e.g., a square's width and height should always be equal).\n",
    "\n",
    "class Rectangle:\n",
    "    def __init__(self, width, height):\n",
    "        self.width = width\n",
    "        self.height = height\n",
    "\n",
    "    def area(self):\n",
    "        return self.width * self.height\n",
    "\n",
    "class Square(Rectangle):\n",
    "    def __init__(self, side):\n",
    "        super().__init__(side, side)\n",
    "\n",
    "square = Square(4)\n",
    "print(square.area())  # Output: 16\n",
    "\n",
    "\n",
    "#### After: Using Delegation\n",
    "\n",
    "#A more flexible design might have `Square` use a `Rectangle` object internally, delegating the area calculation to it. This way, we avoid the restrictive \"is-a\" relationship.\n",
    "\n",
    "class Rectangle:\n",
    "    def __init__(self, width, height):\n",
    "        self.width = width\n",
    "        self.height = height\n",
    "\n",
    "    def area(self):\n",
    "        return self.width * self.height\n",
    "\n",
    "class Square:\n",
    "    def __init__(self, side):\n",
    "        self.side = side\n",
    "        self.rectangle = Rectangle(side, side)\n",
    "\n",
    "    def area(self):\n",
    "        return self.rectangle.area()\n",
    "\n",
    "square = Square(4)\n",
    "print(square.area())  # Output: 16\n"
   ],
   "metadata": {
    "collapsed": false
   }
  },
  {
   "cell_type": "markdown",
   "source": [
    "\n",
    "In this refactored example, `Square` is no longer a subtype of `Rectangle`, but instead uses a `Rectangle` to perform the area calculation, which is a \"has-a\" relationship.\n",
    "\n",
    "These examples demonstrate how the relationships between classes can be restructured to better represent the domain model and make the codebase more flexible and maintainable."
   ],
   "metadata": {
    "collapsed": false
   }
  },
  {
   "cell_type": "markdown",
   "source": [
    "## Replacing Delegation with Inheritance"
   ],
   "metadata": {
    "collapsed": false
   }
  },
  {
   "cell_type": "code",
   "execution_count": null,
   "outputs": [],
   "source": [
    "\n",
    "### 1. Replacing Delegation with Inheritance\n",
    "\n",
    "#### Before: Using Delegation\n",
    "#Here, the `Rectangle` class is used by the `Square` class through delegation. `Square` has a `Rectangle` object and forwards calls to it, which is unnecessary because a square is a specific type of rectangle.\n",
    "\n",
    "\n",
    "class Rectangle:\n",
    "    def __init__(self, width, height):\n",
    "        self.width = width\n",
    "        self.height = height\n",
    "\n",
    "    def area(self):\n",
    "        return self.width * self.height\n",
    "\n",
    "class Square:\n",
    "    def __init__(self, side):\n",
    "        self.rectangle = Rectangle(side, side)\n",
    "\n",
    "    def area(self):\n",
    "        return self.rectangle.area()\n",
    "\n",
    "square = Square(4)\n",
    "print(square.area())  # Output: 16"
   ],
   "metadata": {
    "collapsed": false
   }
  },
  {
   "cell_type": "code",
   "execution_count": null,
   "outputs": [],
   "source": [
    "\n",
    "\n",
    "#### After: Using Inheritance\n",
    "\n",
    "#A more natural design would be for `Square` to inherit from `Rectangle`, as a square is a special case of a rectangle.\n",
    "\n",
    "\n",
    "class Rectangle:\n",
    "    def __init__(self, width, height):\n",
    "        self.width = width\n",
    "        self.height = height\n",
    "\n",
    "    def area(self):\n",
    "        return self.width * self.height\n",
    "\n",
    "class Square(Rectangle):\n",
    "    def __init__(self, side):\n",
    "        super().__init__(side, side)\n",
    "\n",
    "square = Square(4)\n",
    "print(square.area())  # Output: 16\n",
    "\n",
    "\n",
    "#In this refactored example, `Square` directly inherits from `Rectangle`, eliminating the need for delegation.\n",
    "\n"
   ],
   "metadata": {
    "collapsed": false
   }
  },
  {
   "cell_type": "markdown",
   "source": [
    "## Delegation vs Composition"
   ],
   "metadata": {
    "collapsed": false
   }
  },
  {
   "cell_type": "code",
   "execution_count": null,
   "outputs": [],
   "source": [
    "#In object-oriented programming, delegation and composition are two design patterns that help to create flexible and reusable code. They both promote the use of composition over inheritance, but they achieve it in slightly different ways.\n",
    "\n",
    "### Delegation\n",
    "\n",
    "#In delegation, an object handles a request by passing it to a second helper object (the delegate). The original object may perform some operations before or after forwarding the request, effectively “borrowing” the behavior of the delegate.\n",
    "\n",
    "### Composition\n",
    "\n",
    "#Composition involves forming complex types by combining objects of other types, having objects as members. It represents a “has-a” relationship between objects. The composed object does not necessarily delegate tasks to its member objects; it may coordinate or use them in various ways.\n",
    "\n",
    "### Example: Drawing Shapes\n",
    "\n",
    "#### Delegation Example\n",
    "\n",
    "\n",
    "class LineDrawer:\n",
    "    def draw_line(self):\n",
    "        return \"Drawing a line\"\n",
    "\n",
    "class RectangleDrawer:\n",
    "    def draw_rectangle(self):\n",
    "        return \"Drawing a rectangle\"\n",
    "\n",
    "class ShapeDrawer:\n",
    "    def __init__(self):\n",
    "        self.line_drawer = LineDrawer()\n",
    "        self.rectangle_drawer = RectangleDrawer()\n",
    "\n",
    "    def draw_shape(self, shape_type):\n",
    "        if shape_type == 'line':\n",
    "            return self.line_drawer.draw_line()\n",
    "        elif shape_type == 'rectangle':\n",
    "            return self.rectangle_drawer.draw_rectangle()\n",
    "\n",
    "drawer = ShapeDrawer()\n",
    "print(drawer.draw_shape('line'))  # Drawing a line\n",
    "print(drawer.draw_shape('rectangle'))  # Drawing a rectangle\n",
    "\n",
    "\n",
    "#In this example, `ShapeDrawer` delegates the task of drawing specific shapes to either `LineDrawer` or `RectangleDrawer`."
   ],
   "metadata": {
    "collapsed": false
   }
  },
  {
   "cell_type": "code",
   "execution_count": null,
   "outputs": [],
   "source": [
    "\n",
    "#### Composition Example\n",
    "\n",
    "\n",
    "class Line:\n",
    "    def draw(self):\n",
    "        return \"Drawing a line\"\n",
    "\n",
    "class Rectangle:\n",
    "    def draw(self):\n",
    "        return \"Drawing a rectangle\"\n",
    "\n",
    "class Canvas:\n",
    "    def __init__(self):\n",
    "        self.shapes = []\n",
    "\n",
    "    def add_shape(self, shape):\n",
    "        self.shapes.append(shape)\n",
    "\n",
    "    def render(self):\n",
    "        for shape in self.shapes:\n",
    "            print(shape.draw())\n",
    "\n",
    "line = Line()\n",
    "rectangle = Rectangle()\n",
    "canvas = Canvas()\n",
    "canvas.add_shape(line)\n",
    "canvas.add_shape(rectangle)\n",
    "canvas.render()\n",
    "# Drawing a line\n",
    "# Drawing a rectangle\n",
    "\n",
    "\n",
    "#In this example, `Canvas` is composed of shapes, and it directly calls the `draw` method on each shape. It does not delegate the drawing task to another object but instead coordinates the drawing of its member shapes."
   ],
   "metadata": {
    "collapsed": false
   }
  },
  {
   "cell_type": "markdown",
   "source": [
    "\n",
    "### Summary:\n",
    "\n",
    "- **Delegation** is about an object passing a task onto another object.\n",
    "- **Composition** is about an object being made up of other objects, either by including them as members or by inheriting from them.\n",
    "\n",
    "While these two concepts are related and can sometimes be used interchangeably, understanding the distinction helps in choosing the most appropriate design for a given problem."
   ],
   "metadata": {
    "collapsed": false
   }
  }
 ],
 "metadata": {
  "kernelspec": {
   "display_name": "Python 3",
   "language": "python",
   "name": "python3"
  },
  "language_info": {
   "codemirror_mode": {
    "name": "ipython",
    "version": 2
   },
   "file_extension": ".py",
   "mimetype": "text/x-python",
   "name": "python",
   "nbconvert_exporter": "python",
   "pygments_lexer": "ipython2",
   "version": "2.7.6"
  }
 },
 "nbformat": 4,
 "nbformat_minor": 0
}
