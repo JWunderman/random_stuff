{
 "cells": [
  {
   "cell_type": "markdown",
   "id": "7a397ab4",
   "metadata": {},
   "source": [
    "## Property Decorator "
   ]
  },
  {
   "cell_type": "markdown",
   "id": "05a80aaa",
   "metadata": {},
   "source": [
    "https://realpython.com/python-property/"
   ]
  },
  {
   "cell_type": "markdown",
   "id": "3fabbd2d",
   "metadata": {},
   "source": [
    "## Getter setter pattern with `@property`"
   ]
  },
  {
   "cell_type": "markdown",
   "id": "dc86a77d",
   "metadata": {},
   "source": [
    "Resource: https://realpython.com/python-getter-setter/"
   ]
  },
  {
   "cell_type": "code",
   "execution_count": null,
   "id": "37dfb838",
   "metadata": {},
   "outputs": [],
   "source": [
    "# Example 1: Using a getter and setter method to modify a private attribute\n",
    "class Person:\n",
    "    def __init__(self, name):\n",
    "        self._name = name\n",
    "\n",
    "    @property\n",
    "    def name(self):\n",
    "        return self._name\n",
    "\n",
    "    @name.setter\n",
    "    def name(self, name):\n",
    "        self._name = name\n",
    "\n",
    "person = Person(\"John\")\n",
    "print(person.name) # Output: John\n",
    "person.name = \"Smith\"\n",
    "print(person.name) # Output: Smith\n",
    "```\n",
    "\n",
    "#Example 2: Using a getter method to modify an attribute based on some logic\n",
    "\n",
    "```\n",
    "class Circle:\n",
    "    def __init__(self, radius):\n",
    "        self._radius = radius\n",
    "\n",
    "    @property\n",
    "    def diameter(self):\n",
    "        return self._radius * 2\n",
    "\n",
    "circle = Circle(5)\n",
    "print(circle.diameter) # Output: 10\n",
    "```\n",
    "\n",
    "# Example 3: Using a setter method to modify an attribute based on some logic\n",
    "\n",
    "```\n",
    "class Rectangle:\n",
    "    def __init__(self, width, height):\n",
    "        self._width = width\n",
    "        self._height = height\n",
    "\n",
    "    @property\n",
    "    def area(self):\n",
    "        return self._width * self._height\n",
    "\n",
    "    @property\n",
    "    def width(self):\n",
    "        return self._width\n",
    "\n",
    "    @width.setter\n",
    "    def width(self, value):\n",
    "        if value < 0:\n",
    "            raise ValueError(\"Width cannot be negative\")\n",
    "        self._width = value\n",
    "\n",
    "    @property\n",
    "    def height(self):\n",
    "        return self._height\n",
    "\n",
    "    @height.setter\n",
    "    def height(self, value):\n",
    "        if value < 0:\n",
    "            raise ValueError(\"Height cannot be negative\")\n",
    "        self._height = value\n",
    "\n",
    "rectangle = Rectangle(5, 3)\n",
    "print(rectangle.area) # Output: 15\n",
    "rectangle.width = 4\n",
    "rectangle.height = 2\n",
    "print(rectangle.area) # Output: 8\n",
    "\n",
    "\n",
    "#4. Example 4: Using a getter method to access private attributes\n",
    "\n",
    "class Employee:\n",
    "    def __init__(self, name, salary):\n",
    "        self._name = name\n",
    "        self._salary = salary\n",
    "\n",
    "    @property\n",
    "    def name(self):\n",
    "        return self._name\n",
    "\n",
    "    @property\n",
    "    def salary(self):\n",
    "        return self._salary\n",
    "\n",
    "employee = Employee(\"John\", 5000)\n",
    "print(employee.name) # Output: John\n",
    "print(employee.salary) # Output: 5000\n",
    "\n",
    "\n",
    "#5. Example 5: Using a setter method to validate attribute values\n",
    "\n",
    "\n",
    "class Car:\n",
    "    def __init__(self, make, model, year):\n",
    "        self._make = make\n",
    "        self._model = model\n",
    "        self._year = year\n",
    "\n",
    "    @property\n",
    "    def make(self):\n",
    "        return self._make\n",
    "\n",
    "    @property\n",
    "    def model(self):\n",
    "        return self._model\n",
    "\n",
    "    @property\n",
    "    def year(self):\n",
    "        return self._year\n",
    "\n",
    "    @year.setter\n",
    "    def year(self, value):\n",
    "        if value < 1900 or value > 2023:\n",
    "            raise ValueError(\"Invalid year\")\n",
    "        self._year = value\n",
    "\n",
    "car = Car(\"Toyota\", \"Corolla\", 2005)\n",
    "print(car.year) # Output: 2005\n",
    "car.year = 2024 # Raises"
   ]
  },
  {
   "cell_type": "markdown",
   "id": "b8d37d02",
   "metadata": {},
   "source": [
    "## Common uses of `**kwargs` in Python "
   ]
  },
  {
   "cell_type": "code",
   "execution_count": null,
   "id": "7f7bf20a",
   "metadata": {},
   "outputs": [],
   "source": []
  },
  {
   "cell_type": "markdown",
   "id": "3fd83658",
   "metadata": {},
   "source": [
    "## When not to use Kwargs? "
   ]
  },
  {
   "cell_type": "code",
   "execution_count": null,
   "id": "5c057695",
   "metadata": {},
   "outputs": [],
   "source": []
  },
  {
   "cell_type": "markdown",
   "id": "c643e388",
   "metadata": {},
   "source": [
    "## Basic of Meta Classes "
   ]
  },
  {
   "cell_type": "code",
   "execution_count": null,
   "id": "4a664d08",
   "metadata": {},
   "outputs": [],
   "source": []
  },
  {
   "cell_type": "markdown",
   "id": "d103164c",
   "metadata": {},
   "source": [
    "## Most common dunders "
   ]
  },
  {
   "cell_type": "code",
   "execution_count": null,
   "id": "4d46dd88",
   "metadata": {},
   "outputs": [],
   "source": []
  },
  {
   "cell_type": "markdown",
   "id": "e382db51",
   "metadata": {},
   "source": [
    "## Common patterns for using super "
   ]
  },
  {
   "cell_type": "code",
   "execution_count": null,
   "id": "fcf95689",
   "metadata": {},
   "outputs": [],
   "source": []
  },
  {
   "cell_type": "markdown",
   "id": "9a811a24",
   "metadata": {},
   "source": [
    "## Using super with kwargs "
   ]
  },
  {
   "cell_type": "code",
   "execution_count": null,
   "id": "fb0600f5",
   "metadata": {},
   "outputs": [],
   "source": []
  },
  {
   "cell_type": "markdown",
   "id": "d1d757db",
   "metadata": {},
   "source": [
    "## What if we didn't have super?"
   ]
  },
  {
   "cell_type": "code",
   "execution_count": null,
   "id": "97c9ebec",
   "metadata": {},
   "outputs": [],
   "source": []
  },
  {
   "cell_type": "markdown",
   "id": "00f98414",
   "metadata": {},
   "source": [
    "##  What is Encapsulation"
   ]
  },
  {
   "cell_type": "code",
   "execution_count": null,
   "id": "757d3733",
   "metadata": {},
   "outputs": [],
   "source": []
  },
  {
   "cell_type": "markdown",
   "id": "1887e611",
   "metadata": {},
   "source": [
    "## What is Polymorphism? "
   ]
  },
  {
   "cell_type": "code",
   "execution_count": null,
   "id": "49cd70c5",
   "metadata": {},
   "outputs": [],
   "source": []
  },
  {
   "cell_type": "markdown",
   "id": "14dda8dd",
   "metadata": {},
   "source": [
    "## How are private methods handled in other languages - vs Python "
   ]
  },
  {
   "cell_type": "code",
   "execution_count": null,
   "id": "4fdaf2e7",
   "metadata": {},
   "outputs": [],
   "source": []
  },
  {
   "cell_type": "markdown",
   "id": "9bb6c6fb",
   "metadata": {},
   "source": [
    "## Tips for using inheritance "
   ]
  },
  {
   "cell_type": "code",
   "execution_count": null,
   "id": "1d862053",
   "metadata": {},
   "outputs": [],
   "source": []
  },
  {
   "cell_type": "markdown",
   "id": "b12c2105",
   "metadata": {},
   "source": [
    "## Patterns for using class methods "
   ]
  },
  {
   "cell_type": "code",
   "execution_count": null,
   "id": "036f039d",
   "metadata": {},
   "outputs": [],
   "source": []
  },
  {
   "cell_type": "markdown",
   "id": "4899eedf",
   "metadata": {},
   "source": [
    "## What ways is OOP in python different than Java? "
   ]
  },
  {
   "cell_type": "code",
   "execution_count": null,
   "id": "86a9c23b",
   "metadata": {},
   "outputs": [],
   "source": []
  },
  {
   "cell_type": "markdown",
   "id": "7db1b826",
   "metadata": {},
   "source": [
    "## How to use CLS "
   ]
  },
  {
   "cell_type": "markdown",
   "id": "f3ccbbea",
   "metadata": {},
   "source": [
    "In Python, `@classmethod` is a decorator that defines a method that can be called on a class instead of an instance of the class. Here are 5 different examples of using `@classmethod` in Python:"
   ]
  },
  {
   "cell_type": "markdown",
   "id": "52362aae",
   "metadata": {},
   "source": [
    "### 1. Creating alternative constructors:"
   ]
  },
  {
   "cell_type": "code",
   "execution_count": null,
   "id": "c248d359",
   "metadata": {},
   "outputs": [],
   "source": [
    "class Person:\n",
    "    def __init__(self, name, age):\n",
    "        self.name = name\n",
    "        self.age = age\n",
    "    \n",
    "    @classmethod\n",
    "    def from_birth_year(cls, name, birth_year):\n",
    "        age = datetime.date.today().year - birth_year\n",
    "        return cls(name, age)\n",
    "\n",
    "person = Person.from_birth_year('John', 1990)\n",
    "print(person.name)  # Output: John\n",
    "print(person.age)   # Output: 31"
   ]
  },
  {
   "cell_type": "markdown",
   "id": "2eb717a0",
   "metadata": {},
   "source": [
    "### 2. Accessing class-level attributes:"
   ]
  },
  {
   "cell_type": "code",
   "execution_count": null,
   "id": "14dfabec",
   "metadata": {},
   "outputs": [],
   "source": [
    "class MyClass:\n",
    "    count = 0\n",
    "\n",
    "    def __init__(self):\n",
    "        MyClass.count += 1\n",
    "\n",
    "    @classmethod\n",
    "    def get_count(cls):\n",
    "        return cls.count\n",
    "\n",
    "obj1 = MyClass()\n",
    "obj2 = MyClass()\n",
    "obj3 = MyClass()\n",
    "print(MyClass.get_count())  # Output: 3\n",
    "```"
   ]
  },
  {
   "cell_type": "markdown",
   "id": "461e6d12",
   "metadata": {},
   "source": [
    "### 3. Factory method pattern:"
   ]
  },
  {
   "cell_type": "code",
   "execution_count": null,
   "id": "ac21a06f",
   "metadata": {},
   "outputs": [],
   "source": [
    "class Dog:\n",
    "    def __init__(self, breed):\n",
    "        self.breed = breed\n",
    "\n",
    "    def bark(self):\n",
    "        print('Woof! Woof!')\n",
    "\n",
    "    @classmethod\n",
    "    def create(cls, breed):\n",
    "        if breed == 'husky':\n",
    "            return cls(breed='husky')\n",
    "        elif breed == 'poodle':\n",
    "            return cls(breed='poodle')\n",
    "        else:\n",
    "            raise ValueError('Invalid breed')\n",
    "\n",
    "dog1 = Dog.create('husky')\n",
    "dog1.bark()  # Output: Woof! Woof!\n",
    "\n",
    "dog2 = Dog.create('poodle')\n",
    "dog2.bark()  # Output: Woof! Woof!"
   ]
  },
  {
   "cell_type": "markdown",
   "id": "dc84f797",
   "metadata": {},
   "source": [
    "### 4. Alternative constructor for subclass:"
   ]
  },
  {
   "cell_type": "code",
   "execution_count": null,
   "id": "a20abaa1",
   "metadata": {},
   "outputs": [],
   "source": [
    "class Shape:\n",
    "    def __init__(self, x, y):\n",
    "        self.x = x\n",
    "        self.y = y\n",
    "\n",
    "    @classmethod\n",
    "    def from_tuple(cls, coords):\n",
    "        return cls(*coords)\n",
    "\n",
    "class Circle(Shape):\n",
    "    def __init__(self, x, y, radius):\n",
    "        super().__init__(x, y)\n",
    "        self.radius = radius\n",
    "\n",
    "circle = Circle.from_tuple((0, 0, 5))\n",
    "print(circle.x)       # Output: 0\n",
    "print(circle.y)       # Output: 0\n",
    "print(circle.radius)  # Output: 5\n"
   ]
  },
  {
   "cell_type": "markdown",
   "id": "a4a3bfad",
   "metadata": {},
   "source": [
    "### 5. Building dynamic APIs:"
   ]
  },
  {
   "cell_type": "code",
   "execution_count": null,
   "id": "b2c47811",
   "metadata": {},
   "outputs": [],
   "source": [
    "class API:\n",
    "    def __init__(self, endpoint):\n",
    "        self.endpoint = endpoint\n",
    "\n",
    "    @classmethod\n",
    "    def from_environment(cls):\n",
    "        endpoint = os.environ.get('API_ENDPOINT')\n",
    "        if not endpoint:\n",
    "            raise ValueError('API_ENDPOINT environment variable is not set')\n",
    "        return cls(endpoint)\n",
    "\n",
    "api = API.from_environment()"
   ]
  },
  {
   "cell_type": "markdown",
   "id": "5f51a732",
   "metadata": {},
   "source": [
    "## What is \"self\" in python oop? How is self different from cls?"
   ]
  },
  {
   "cell_type": "code",
   "execution_count": 4,
   "id": "18e60b35",
   "metadata": {},
   "outputs": [
    {
     "name": "stdout",
     "output_type": "stream",
     "text": [
      "My name is Alice and I am 25 years old.\n"
     ]
    }
   ],
   "source": [
    "#In Python OOP, `self` is a reference to the instance of the class, while `cls` is a reference to the class itself. \n",
    "#When a method is called on an instance of a class, `self` is automatically passed as the first argument to the method. This allows the method to access and manipulate the instance's attributes. For example:\n",
    "\n",
    "class Person:\n",
    "    def __init__(self, name, age):\n",
    "        self.name = name\n",
    "        self.age = age\n",
    "\n",
    "    def introduce(self):\n",
    "        print(f\"My name is {self.name} and I am {self.age} years old.\")\n",
    "\n",
    "person = Person(\"Alice\", 25)\n",
    "person.introduce()  # Output: My name is Alice and I am 25 years old.\n",
    "\n",
    "#In the above example, the `introduce` method takes `self` as its first argument. When it is called on the `person` object, `self` refers to the `person` object.\n",
    "\n",
    "#On the other hand, `cls` is used in class methods and is a reference to the class itself, not an instance of the class. Class methods are defined using the `@classmethod` decorator and take `cls` as their first argument. For example:"
   ]
  },
  {
   "cell_type": "code",
   "execution_count": 5,
   "id": "38244b08",
   "metadata": {},
   "outputs": [
    {
     "name": "stdout",
     "output_type": "stream",
     "text": [
      "Class name is MyClass.\n"
     ]
    }
   ],
   "source": [
    "class MyClass:\n",
    "    @classmethod\n",
    "    def print_class_name(cls):\n",
    "        print(f\"Class name is {cls.__name__}.\")\n",
    "\n",
    "MyClass.print_class_name()  # Output: Class name is MyClass.\n",
    "\n",
    "#In the above example, the `print_class_name` method is a class method, and `cls` refers to the `MyClass` class. \n",
    "#In summary, `self` refers to an instance of a class, while `cls` refers to the class itself. Methods that manipulate instance attributes typically use `self`, while class methods typically use `cls`."
   ]
  },
  {
   "cell_type": "markdown",
   "id": "48e24f7c",
   "metadata": {},
   "source": [
    "## Examples of using static methods "
   ]
  },
  {
   "cell_type": "code",
   "execution_count": null,
   "id": "b6d729ee",
   "metadata": {},
   "outputs": [],
   "source": []
  },
  {
   "cell_type": "markdown",
   "id": "23361b4c",
   "metadata": {},
   "source": [
    "## How are interfaces defined in Python? "
   ]
  },
  {
   "cell_type": "markdown",
   "id": "fe18c5f0",
   "metadata": {},
   "source": [
    "Python does not have an explicit `interface` keyword like some other object-oriented programming languages, but the concept of an interface can still be used and implemented in Python. An interface is a contract that specifies the methods and properties that a class must implement in order to be considered as implementing that interface. In other words, an interface is a blueprint that defines what methods a class should have without specifying how those methods should be implemented.\n",
    "\n",
    "In Python, interfaces are typically defined as abstract base classes (ABCs) using the `abc` module. An abstract base class is a class that cannot be instantiated on its own, but can be used as a parent class for other classes that implement its methods.\n",
    "\n",
    "Here are three examples of interfaces in Python:\n",
    "\n",
    "1. `Iterable` interface: The `Iterable` interface specifies that a class should implement an `__iter__` method, which returns an iterator that can be used to iterate over the class's elements. The `list` and `tuple` classes are examples of classes that implement the `Iterable` interface.\n",
    "\n",
    "2. `Sequence` interface: The `Sequence` interface specifies that a class should implement the methods required for a sequence, such as indexing and slicing (`__getitem__`) and finding the length of the sequence (`__len__`). The `list` and `tuple` classes are examples of classes that implement the `Sequence` interface.\n",
    "\n",
    "3. `Hashable` interface: The `Hashable` interface specifies that a class should implement a `__hash__` method, which returns a hash value for the object, and an `__eq__` method, which compares the object with another object for equality. The `str` and `tuple` classes are examples of classes that implement the `Hashable` interface.\n",
    "\n",
    "By using interfaces in your Python code, you can write more flexible and modular code that is easier to test and maintain."
   ]
  },
  {
   "cell_type": "markdown",
   "id": "2ed3ff80",
   "metadata": {},
   "source": [
    "The Pythonic way of using an interface is to define an abstract base class (ABC) using the `abc` module, and then to create concrete classes that inherit from the ABC and implement its methods. This allows you to define a contract that specifies the methods and properties that a class must implement in order to be considered as implementing that interface, while allowing for flexibility in how those methods are implemented.\n",
    "\n",
    "Here's an example of using an interface in a Pythonic way:"
   ]
  },
  {
   "cell_type": "code",
   "execution_count": null,
   "id": "f1b44553",
   "metadata": {},
   "outputs": [],
   "source": [
    "import abc\n",
    "\n",
    "class Shape(metaclass=abc.ABCMeta):\n",
    "    @abc.abstractmethod\n",
    "    def area(self):\n",
    "        pass\n",
    "    \n",
    "    @abc.abstractmethod\n",
    "    def perimeter(self):\n",
    "        pass\n",
    "\n",
    "class Rectangle(Shape):\n",
    "    def __init__(self, width, height):\n",
    "        self.width = width\n",
    "        self.height = height\n",
    "    \n",
    "    def area(self):\n",
    "        return self.width * self.height\n",
    "    \n",
    "    def perimeter(self):\n",
    "        return 2 * (self.width + self.height)\n",
    "\n",
    "class Circle(Shape):\n",
    "    def __init__(self, radius):\n",
    "        self.radius = radius\n",
    "    \n",
    "    def area(self):\n",
    "        return 3.14 * (self.radius ** 2)\n",
    "    \n",
    "    def perimeter(self):\n",
    "        return 2 * 3.14 * self.radius"
   ]
  },
  {
   "cell_type": "markdown",
   "id": "4a94e6de",
   "metadata": {},
   "source": [
    "In this example, `Shape` is an abstract base class that defines the interface for shapes, requiring that concrete classes implement the `area` and `perimeter` methods. The `Rectangle` and `Circle` classes inherit from `Shape` and implement its methods in their own way, providing different implementations of the same interface.\n",
    "\n",
    "Using this approach allows you to write code that can work with any object that implements the `Shape` interface, regardless of its specific implementation. For example:"
   ]
  },
  {
   "cell_type": "code",
   "execution_count": null,
   "id": "e85a8625",
   "metadata": {},
   "outputs": [],
   "source": [
    "def print_shape_info(shape):\n",
    "    print(\"Area:\", shape.area())\n",
    "    print(\"Perimeter:\", shape.perimeter())\n",
    "\n",
    "rect = Rectangle(5, 10)\n",
    "print_shape_info(rect)  # Output: Area: 50, Perimeter: 30\n",
    "\n",
    "circ = Circle(7)\n",
    "print_shape_info(circ)  # Output: Area: 153.86, Perimeter: 43.96"
   ]
  },
  {
   "cell_type": "markdown",
   "id": "7869d9e3",
   "metadata": {},
   "source": [
    "This approach is a key part of Python's \"duck typing\" philosophy, which emphasizes the importance of an object's behavior (i.e., the methods it provides) over its specific type or class."
   ]
  },
  {
   "cell_type": "markdown",
   "id": "e588cc02",
   "metadata": {},
   "source": [
    "## Most common examples of using super "
   ]
  },
  {
   "cell_type": "code",
   "execution_count": null,
   "id": "74c8c551",
   "metadata": {},
   "outputs": [],
   "source": [
    "In Python, `super()` is used to call a method from a parent class. Some common examples of using `super()` in Python include:\n",
    "\n",
    "1. Initializing a subclass: When a subclass is created, it often needs to inherit some attributes and methods from the parent class. The `super()` function can be used to initialize the subclass with the parent class attributes and methods.\n",
    "\n",
    "```\n",
    "class ParentClass:\n",
    "    def __init__(self, name):\n",
    "        self.name = name\n",
    "\n",
    "class ChildClass(ParentClass):\n",
    "    def __init__(self, name, age):\n",
    "        super().__init__(name)\n",
    "        self.age = age\n",
    "```\n",
    "\n",
    "2. Overriding a parent class method: If a method in a subclass needs to override a method in the parent class, `super()` can be used to call the parent class method.\n",
    "\n",
    "```\n",
    "class ParentClass:\n",
    "    def print_info(self):\n",
    "        print(\"This is the parent class\")\n",
    "\n",
    "class ChildClass(ParentClass):\n",
    "    def print_info(self):\n",
    "        super().print_info()\n",
    "        print(\"This is the child class\")\n",
    "```\n",
    "\n",
    "3. Multiple inheritance: When a class inherits from multiple parent classes, `super()` can be used to call methods in each parent class.\n",
    "\n",
    "```\n",
    "class ParentClass1:\n",
    "    def method1(self):\n",
    "        print(\"This is method 1 of parent class 1\")\n",
    "\n",
    "class ParentClass2:\n",
    "    def method2(self):\n",
    "        print(\"This is method 2 of parent class 2\")\n",
    "\n",
    "class ChildClass(ParentClass1, ParentClass2):\n",
    "    def method3(self):\n",
    "        super().method1()\n",
    "        super().method2()\n",
    "```\n",
    "\n",
    "4. Cooperative methods: When a method in one class depends on a method in another class, `super()` can be used to call the dependent method.\n",
    "\n",
    "```\n",
    "class ParentClass:\n",
    "    def do_something(self):\n",
    "        pass\n",
    "\n",
    "class ChildClass(ParentClass):\n",
    "    def do_something(self):\n",
    "        super().do_something()\n",
    "        # do something else\n",
    "```\n",
    "\n",
    "5. Dynamic delegation: If the parent class of a subclass is unknown, `super()` can be used to dynamically delegate the method to the next available class in the Method Resolution Order.\n",
    "\n",
    "```\n",
    "class A:\n",
    "    def method(self):\n",
    "        print(\"A\")\n",
    "\n",
    "class B(A):\n",
    "    def method(self):\n",
    "        print(\"B\")\n",
    "        super().method()\n",
    "\n",
    "class C(A):\n",
    "    def method(self):\n",
    "        print(\"C\")\n",
    "        super().method()\n",
    "\n",
    "class D(B, C):\n",
    "    def method(self):\n",
    "        print(\"D\")\n",
    "        super().method()\n",
    "```\n",
    "\n",
    "In this example, calling the `method()` of class D will print:\n",
    "```\n",
    "D\n",
    "B\n",
    "C\n",
    "A\n",
    "```"
   ]
  }
 ],
 "metadata": {
  "kernelspec": {
   "display_name": "Python 3 (ipykernel)",
   "language": "python",
   "name": "python3"
  },
  "language_info": {
   "codemirror_mode": {
    "name": "ipython",
    "version": 3
   },
   "file_extension": ".py",
   "mimetype": "text/x-python",
   "name": "python",
   "nbconvert_exporter": "python",
   "pygments_lexer": "ipython3",
   "version": "3.9.12"
  }
 },
 "nbformat": 4,
 "nbformat_minor": 5
}
