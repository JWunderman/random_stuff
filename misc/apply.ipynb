{
 "cells": [
  {
   "cell_type": "markdown",
   "source": [
    "## Different ways to use Apply"
   ],
   "metadata": {
    "collapsed": false
   }
  },
  {
   "cell_type": "markdown",
   "source": [
    "Example 1: Applying a Function to a DataFrame Column"
   ],
   "metadata": {
    "collapsed": false
   }
  },
  {
   "cell_type": "code",
   "execution_count": null,
   "outputs": [],
   "source": [
    "\n",
    "import pandas as pd\n",
    "\n",
    "df = pd.DataFrame({'numbers': [1, 2, 3, 4, 5]})\n",
    "\n",
    "def square(x):\n",
    "    return x ** 2\n",
    "\n",
    "df['squared'] = df['numbers'].apply(square)\n",
    "print(df)"
   ],
   "metadata": {
    "collapsed": false
   }
  },
  {
   "cell_type": "markdown",
   "source": [
    "\n",
    "\n",
    "Example 2: Applying a Lambda Function to a Series"
   ],
   "metadata": {
    "collapsed": false
   }
  },
  {
   "cell_type": "code",
   "execution_count": null,
   "outputs": [],
   "source": [
    "\n",
    "import pandas as pd\n",
    "\n",
    "s = pd.Series([1, 2, 3, 4, 5])\n",
    "\n",
    "s_squared = s.apply(lambda x: x ** 2)\n",
    "print(s_squared)\n"
   ],
   "metadata": {
    "collapsed": false
   }
  },
  {
   "cell_type": "markdown",
   "source": [
    "\n",
    "Example 3: Applying a Function to Each Element of a List"
   ],
   "metadata": {
    "collapsed": false
   }
  },
  {
   "cell_type": "code",
   "execution_count": null,
   "outputs": [],
   "source": [
    "numbers = [1, 2, 3, 4, 5]\n",
    "\n",
    "def double(x):\n",
    "    return x * 2\n",
    "\n",
    "doubled_numbers = list(map(double, numbers))\n",
    "print(doubled_numbers)\n",
    "```\n",
    "Output:\n",
    "```\n",
    "[2, 4, 6, 8, 10]\n",
    "```"
   ],
   "metadata": {
    "collapsed": false
   }
  },
  {
   "cell_type": "markdown",
   "source": [
    "\n",
    "Example 4: Applying a Function to Grouped Data"
   ],
   "metadata": {
    "collapsed": false
   }
  },
  {
   "cell_type": "code",
   "execution_count": null,
   "outputs": [],
   "source": [
    "\n",
    "import pandas as pd\n",
    "\n",
    "df = pd.DataFrame({'group': ['A', 'A', 'B', 'B', 'B'],\n",
    "                   'value': [1, 2, 3, 4, 5]})\n",
    "\n",
    "def sum_group(group):\n",
    "    return group.sum()\n",
    "\n",
    "grouped_data = df.groupby('group')['value'].apply(sum_group)\n",
    "print(grouped_data)\n"
   ],
   "metadata": {
    "collapsed": false
   }
  },
  {
   "cell_type": "markdown",
   "source": [
    "\n",
    "Example 5: Applying a Function to Rows of a DataFrame"
   ],
   "metadata": {
    "collapsed": false
   }
  },
  {
   "cell_type": "code",
   "execution_count": null,
   "outputs": [],
   "source": [
    "df = pd.DataFrame({'name': ['Alice', 'Bob', 'Charlie'],\n",
    "                   'age': [25, 30, 35]})\n",
    "\n",
    "def get_info(row):\n",
    "    return f\"Name: {row['name']}, Age: {row['age']}\"\n",
    "\n",
    "df['info'] = df.apply(get_info, axis=1)\n",
    "print(df)"
   ],
   "metadata": {
    "collapsed": false
   }
  },
  {
   "cell_type": "markdown",
   "source": [
    "\n",
    "\n",
    "These examples demonstrate various use cases of the `apply` function. You can apply a function to a DataFrame column, a Series, each element of a list, grouped data, or rows of a DataFrame. `apply` provides a flexible way to transform data based on your specific requirements."
   ],
   "metadata": {
    "collapsed": false
   }
  },
  {
   "cell_type": "markdown",
   "source": [
    "## Cons of `apply`"
   ],
   "metadata": {
    "collapsed": false
   }
  },
  {
   "cell_type": "markdown",
   "source": [
    "While the `apply` function in Python and pandas is a powerful tool for data manipulation, there are a few cons to consider:\n",
    "\n",
    "1. Performance Impact: The `apply` function can be slower compared to other vectorized operations provided by pandas, such as using built-in functions or operations on entire arrays. This is because `apply` processes data row by row or element by element, which can be slower for large datasets. If performance is a critical concern, it's worth exploring alternative approaches.\n",
    "\n",
    "2. Limited Flexibility with External Functions: When using `apply` with external functions, especially non-vectorized functions or complex transformations, it can be challenging to optimize or parallelize the operation. In some cases, it may require additional iterations over the data, leading to decreased performance.\n",
    "\n",
    "3. Difficulty Handling Missing Values: The `apply` function treats missing values (NaN or None) inconsistently. It may skip rows or fail to handle missing values in the desired way, depending on the applied function. This can introduce unexpected behavior and make it necessary to handle missing data explicitly before applying the function.\n",
    "\n",
    "4. Potential for Code Complexity: Overuse of `apply` can sometimes lead to complex and less readable code. Nesting multiple `apply` calls or using it within loops can make the code harder to understand and maintain. In such cases, it might be beneficial to explore alternative approaches that leverage vectorized operations or pandas' built-in functions.\n",
    "\n",
    "5. Limited Scope for Optimization: Certain operations performed within an `apply` call may not benefit from parallelization or other optimizations provided by pandas. This can result in suboptimal performance when dealing with large datasets or computationally intensive tasks.\n",
    "\n",
    "While the cons listed above highlight potential drawbacks of using `apply`, it's important to note that these limitations may not always be relevant or significant for every use case. The appropriateness of `apply` depends on the specific requirements of your data manipulation tasks. In many cases, `apply` provides a convenient and effective way to transform data, especially when working with small to medium-sized datasets or when custom operations are needed."
   ],
   "metadata": {
    "collapsed": false
   }
  },
  {
   "cell_type": "code",
   "execution_count": null,
   "outputs": [],
   "source": [],
   "metadata": {
    "collapsed": false
   }
  }
 ],
 "metadata": {
  "kernelspec": {
   "display_name": "Python 3",
   "language": "python",
   "name": "python3"
  },
  "language_info": {
   "codemirror_mode": {
    "name": "ipython",
    "version": 2
   },
   "file_extension": ".py",
   "mimetype": "text/x-python",
   "name": "python",
   "nbconvert_exporter": "python",
   "pygments_lexer": "ipython2",
   "version": "2.7.6"
  }
 },
 "nbformat": 4,
 "nbformat_minor": 0
}
