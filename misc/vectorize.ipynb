{
 "cells": [
  {
   "cell_type": "markdown",
   "source": [
    "## Example 1: Summing Elements in a List"
   ],
   "metadata": {
    "collapsed": false
   }
  },
  {
   "cell_type": "code",
   "execution_count": null,
   "outputs": [],
   "source": [
    "\n",
    "#Original Loop Version:\n",
    "\n",
    "numbers = [1, 2, 3, 4, 5]\n",
    "total = 0\n",
    "\n",
    "for num in numbers:\n",
    "    total += num\n",
    "\n",
    "print(total)\n",
    "\n",
    "\n",
    "#Vectorized Version:\n",
    "\n",
    "import numpy as np\n",
    "\n",
    "numbers = [1, 2, 3, 4, 5]\n",
    "total = np.sum(numbers)\n",
    "\n",
    "print(total)\n"
   ],
   "metadata": {
    "collapsed": false
   }
  },
  {
   "cell_type": "markdown",
   "source": [
    "\n",
    "## Example 2: Element-wise Multiplication of Two Lists"
   ],
   "metadata": {
    "collapsed": false
   },
   "execution_count": 1
  },
  {
   "cell_type": "code",
   "execution_count": null,
   "outputs": [],
   "source": [
    "\n",
    "#Original Loop Version:\n",
    "\n",
    "list1 = [1, 2, 3, 4, 5]\n",
    "list2 = [2, 3, 4, 5, 6]\n",
    "result = []\n",
    "\n",
    "for i in range(len(list1)):\n",
    "    result.append(list1[i] * list2[i])\n",
    "\n",
    "print(result)\n",
    "\n",
    "\n",
    "#Vectorized Version:\n",
    "\n",
    "list1 = [1, 2, 3, 4, 5]\n",
    "list2 = [2, 3, 4, 5, 6]\n",
    "result = np.multiply(list1, list2)\n",
    "\n",
    "print(result)"
   ],
   "metadata": {
    "collapsed": false
   }
  },
  {
   "cell_type": "markdown",
   "source": [
    "## Example 3: Finding Maximum Element in a List"
   ],
   "metadata": {
    "collapsed": false
   }
  },
  {
   "cell_type": "code",
   "execution_count": null,
   "outputs": [],
   "source": [
    "#Original Loop Version:\n",
    "\n",
    "numbers = [3, 1, 5, 2, 4]\n",
    "max_value = numbers[0]\n",
    "\n",
    "for num in numbers:\n",
    "    if num > max_value:\n",
    "        max_value = num\n",
    "\n",
    "print(max_value)\n",
    "\n",
    "\n",
    "#Vectorized Version:\n",
    "\n",
    "import numpy as np\n",
    "\n",
    "numbers = [3, 1, 5, 2, 4]\n",
    "max_value = np.max(numbers)\n",
    "\n",
    "print(max_value)"
   ],
   "metadata": {
    "collapsed": false
   }
  },
  {
   "cell_type": "markdown",
   "source": [
    "\n",
    "In these examples, the original code is written using loops to perform operations on lists. The vectorized versions utilize NumPy functions to achieve the same results in a more concise and efficient manner.\n",
    "\n",
    "By using vectorized operations, you can take advantage of optimized C code execution in NumPy, which leads to faster and more efficient computations. Vectorized code typically eliminates the need for explicit loops and leverages optimized array operations for improved performance.\n",
    "\n",
    "It's important to note that not all code can be easily vectorized, and the feasibility of vectorization depends on the specific task and data structures involved. However, when dealing with numerical operations on arrays or lists, utilizing vectorized functions and operations provided by libraries like NumPy can often lead to significant performance improvements."
   ],
   "metadata": {
    "collapsed": false
   }
  },
  {
   "cell_type": "markdown",
   "source": [
    "## Vectorize Pandas Code"
   ],
   "metadata": {
    "collapsed": false
   }
  },
  {
   "cell_type": "markdown",
   "source": [
    "Example 1: Iterating over DataFrame Rows"
   ],
   "metadata": {
    "collapsed": false
   }
  },
  {
   "cell_type": "code",
   "execution_count": 8,
   "outputs": [],
   "source": [
    "\n",
    "#Inefficient Loop Version:\n",
    "\n",
    "import pandas as pd\n",
    "\n",
    "df = pd.DataFrame({'A': [1, 2, 3], 'B': [4, 5, 6]})\n",
    "\n",
    "result = []\n",
    "for index, row in df.iterrows():\n",
    "    result.append(row['A'] + row['B'])\n",
    "\n",
    "df['C'] = result\n",
    "\n",
    "\n",
    "#Vectorized Version:\n",
    "\n",
    "import pandas as pd\n",
    "\n",
    "df = pd.DataFrame({'A': [1, 2, 3], 'B': [4, 5, 6]})\n",
    "\n",
    "df['C'] = df['A'] + df['B']\n"
   ],
   "metadata": {
    "collapsed": false
   }
  },
  {
   "cell_type": "markdown",
   "source": [
    "\n",
    "Example 2: Applying Functions to DataFrame Columns"
   ],
   "metadata": {
    "collapsed": false
   }
  },
  {
   "cell_type": "code",
   "execution_count": null,
   "outputs": [],
   "source": [
    "#Inefficient Loop Version:\n",
    "\n",
    "import pandas as pd\n",
    "\n",
    "df = pd.DataFrame({'A': [1, 2, 3]})\n",
    "\n",
    "def square(x):\n",
    "    return x ** 2\n",
    "\n",
    "df['B'] = df['A'].apply(square)\n",
    "\n",
    "\n",
    "#Vectorized Version:\n",
    "\n",
    "import pandas as pd\n",
    "\n",
    "df = pd.DataFrame({'A': [1, 2, 3]})\n",
    "\n",
    "df['B'] = df['A'] ** 2\n"
   ],
   "metadata": {
    "collapsed": false
   }
  },
  {
   "cell_type": "markdown",
   "source": [
    "\n",
    "Example 3: Iterating over DataFrame Rows with Conditional Logic"
   ],
   "metadata": {
    "collapsed": false
   }
  },
  {
   "cell_type": "code",
   "execution_count": null,
   "outputs": [],
   "source": [
    "#Inefficient Loop Version:\n",
    "\n",
    "import pandas as pd\n",
    "\n",
    "df = pd.DataFrame({'A': [1, 2, 3], 'B': [4, 5, 6]})\n",
    "\n",
    "result = []\n",
    "for index, row in df.iterrows():\n",
    "    if row['A'] > 1:\n",
    "        result.append(row['B'])\n",
    "\n",
    "df['C'] = result\n",
    "\n",
    "\n",
    "#Vectorized Version:\n",
    "\n",
    "import pandas as pd\n",
    "\n",
    "df = pd.DataFrame({'A': [1, 2, 3], 'B': [4, 5, 6]})\n",
    "\n",
    "df['C'] = df.loc[df['A'] > 1, 'B']\n"
   ],
   "metadata": {
    "collapsed": false
   }
  },
  {
   "cell_type": "markdown",
   "source": [
    "\n",
    "Example 4: Grouping and Aggregating DataFrame"
   ],
   "metadata": {
    "collapsed": false
   }
  },
  {
   "cell_type": "code",
   "execution_count": null,
   "outputs": [],
   "source": [
    "#Inefficient Loop Version:\n",
    "\n",
    "import pandas as pd\n",
    "\n",
    "df = pd.DataFrame({'Group': ['A', 'A', 'B', 'B'], 'Value': [1, 2, 3, 4]})\n",
    "\n",
    "result = {}\n",
    "for group, group_df in df.groupby('Group'):\n",
    "    result[group] = group_df['Value'].sum()\n",
    "\n",
    "summary_df = pd.DataFrame.from_dict(result, orient='index', columns=['Sum'])\n",
    "\n",
    "\n",
    "#Vectorized Version:\n",
    "\n",
    "import pandas as pd\n",
    "\n",
    "df = pd.DataFrame({'Group': ['A', 'A', 'B', 'B'], 'Value': [1, 2, 3, 4]})\n",
    "\n",
    "summary_df = df.groupby('Group')['Value'].sum().reset_index(name='Sum')\n"
   ],
   "metadata": {
    "collapsed": false
   }
  },
  {
   "cell_type": "markdown",
   "source": [
    "\n",
    "In these examples, the original code is inefficient as it relies on iterative operations or explicit loops to perform operations on pandas DataFrames. By leveraging vectorized operations provided by pandas, such as using built-in functions or applying operations on entire columns, the code becomes more concise and efficient. Vectorization allows for faster computations and improved performance, especially when dealing with large datasets."
   ],
   "metadata": {
    "collapsed": false
   }
  },
  {
   "cell_type": "markdown",
   "source": [
    "## Using Numpy to Vectorize"
   ],
   "metadata": {
    "collapsed": false
   }
  },
  {
   "cell_type": "markdown",
   "source": [
    "### Example 1: Calculating Euclidean Distance Matrix"
   ],
   "metadata": {
    "collapsed": false
   }
  },
  {
   "cell_type": "code",
   "execution_count": 0,
   "outputs": [],
   "source": [
    "#Original Non-Vectorized Version:\n",
    "\n",
    "import pandas as pd\n",
    "import numpy as np\n",
    "\n",
    "df = pd.DataFrame({'A': [1, 2, 3], 'B': [4, 5, 6], 'C': [7, 8, 9]})\n",
    "\n",
    "dist_matrix = np.zeros((len(df), len(df)))\n",
    "\n",
    "for i in range(len(df)):\n",
    "    for j in range(len(df)):\n",
    "        dist_matrix[i, j] = np.sqrt(np.sum((df.iloc[i] - df.iloc[j]) ** 2))\n",
    "\n",
    "print(dist_matrix)\n",
    "\n",
    "\n",
    "#Vectorized Version:\n",
    "\n",
    "import pandas as pd\n",
    "import numpy as np\n",
    "\n",
    "df = pd.DataFrame({'A': [1, 2, 3], 'B': [4, 5, 6], 'C': [7, 8, 9]})\n",
    "\n",
    "dist_matrix = np.sqrt(np.sum((df.values[:, np.newaxis] - df.values) ** 2, axis=2))\n",
    "\n",
    "print(dist_matrix)\n"
   ],
   "metadata": {
    "collapsed": false
   }
  },
  {
   "cell_type": "markdown",
   "source": [
    "\n",
    "### Example 2: Group-Wise Standardization of DataFrame Columns"
   ],
   "metadata": {
    "collapsed": false
   }
  },
  {
   "cell_type": "code",
   "execution_count": 0,
   "outputs": [],
   "source": [
    "#Original Non-Vectorized Version:\n",
    "\n",
    "df = pd.DataFrame({'Group': ['A', 'A', 'B', 'B'], 'Value': [1, 2, 3, 4]})\n",
    "\n",
    "result = pd.DataFrame()\n",
    "\n",
    "for group, group_df in df.groupby('Group'):\n",
    "    group_mean = group_df['Value'].mean()\n",
    "    group_std = group_df['Value'].std()\n",
    "    group_df['Standardized'] = (group_df['Value'] - group_mean) / group_std\n",
    "    result = pd.concat([result, group_df])\n",
    "\n",
    "print(result)\n",
    "\n",
    "\n",
    "#Vectorized Version:\n",
    "\n",
    "import pandas as pd\n",
    "import numpy as np\n",
    "\n",
    "df = pd.DataFrame({'Group': ['A', 'A', 'B', 'B'], 'Value': [1, 2, 3, 4]})\n",
    "\n",
    "group_mean = df.groupby('Group')['Value'].transform('mean')\n",
    "group_std = df.groupby('Group')['Value'].transform('std')\n",
    "df['Standardized'] = (df['Value'] - group_mean) / group_std\n",
    "\n",
    "print(df)\n"
   ],
   "metadata": {
    "collapsed": false
   }
  },
  {
   "cell_type": "markdown",
   "source": [
    "\n",
    "### Example 3: Computing Rolling Mean with Variable Window Size"
   ],
   "metadata": {
    "collapsed": false
   }
  },
  {
   "cell_type": "code",
   "execution_count": 0,
   "outputs": [],
   "source": [
    "#Original Non-Vectorized Version:\n",
    "\n",
    "df = pd.DataFrame({'A': [1, 2, 3, 4, 5], 'B': [6, 7, 8, 9, 10]})\n",
    "\n",
    "window_sizes = [2, 3, 4]\n",
    "result = pd.DataFrame()\n",
    "\n",
    "for window_size in window_sizes:\n",
    "    rolling_mean = df.rolling(window_size).mean()\n",
    "    result = pd.concat([result, rolling_mean.add_suffix(f'_mean_{window_size}')], axis=1)\n",
    "\n",
    "print(result)\n",
    "\n",
    "\n",
    "#Vectorized Version:\n",
    "\n",
    "df = pd.DataFrame({'A': [1, 2, 3, 4, 5], 'B': [6, 7, 8, 9, 10]})\n",
    "\n",
    "window_sizes = [2, 3, 4]\n",
    "result = pd.concat([df.rolling(window_size).mean().add_suffix(f'_mean_{window_size}') for window_size in window_sizes], axis=1)\n",
    "\n",
    "print(result)\n"
   ],
   "metadata": {
    "collapsed": false
   }
  },
  {
   "cell_type": "markdown",
   "source": [
    "\n",
    "In these examplmes, NumPy is used to vectorize the pandas code, resulting in more efficient and concise computations. The vectorized versions leverage NumPy's array operations to perform calculations"
   ],
   "metadata": {
    "collapsed": false
   }
  },
  {
   "cell_type": "markdown",
   "source": [
    "## Example of code that can't be vectorized"
   ],
   "metadata": {
    "collapsed": false
   }
  },
  {
   "cell_type": "markdown",
   "source": [
    "\n",
    "### Example 1: File I/O Operations"
   ],
   "metadata": {
    "collapsed": false
   }
  },
  {
   "cell_type": "markdown",
   "source": [
    "Code involving reading or writing to files typically cannot be vectorized as it relies on external I/O operations, which are inherently sequential and cannot be parallelized efficiently."
   ],
   "metadata": {
    "collapsed": false
   }
  },
  {
   "cell_type": "code",
   "execution_count": null,
   "outputs": [],
   "source": [
    "\n",
    "with open('input.txt', 'r') as file:\n",
    "    lines = file.readlines()\n",
    "    for line in lines:\n",
    "        # Process each line\n",
    "        pass\n"
   ],
   "metadata": {
    "collapsed": false
   }
  },
  {
   "cell_type": "markdown",
   "source": [
    "\n",
    "### Example 2: User Input and Interactive Prompts"
   ],
   "metadata": {
    "collapsed": false
   }
  },
  {
   "cell_type": "markdown",
   "source": [
    "Code that relies on user input or interactive prompts cannot be vectorized since it depends on real-time interaction with the user, which cannot be parallelized."
   ],
   "metadata": {
    "collapsed": false
   }
  },
  {
   "cell_type": "code",
   "execution_count": null,
   "outputs": [],
   "source": [
    "\n",
    "name = input(\"Enter your name: \")\n",
    "print(f\"Hello, {name}!\")\n"
   ],
   "metadata": {
    "collapsed": false
   }
  },
  {
   "cell_type": "markdown",
   "source": [
    "\n",
    "### Example 3: Network Operations"
   ],
   "metadata": {
    "collapsed": false
   }
  },
  {
   "cell_type": "markdown",
   "source": [
    "Code involving network operations, such as making HTTP requests or socket communications, cannot be vectorized since it depends on external network responses, which are sequential and require I/O operations."
   ],
   "metadata": {
    "collapsed": false
   }
  },
  {
   "cell_type": "code",
   "execution_count": null,
   "outputs": [],
   "source": [
    "import requests\n",
    "\n",
    "response = requests.get('https://www.example.com')\n",
    "print(response.status_code)\n"
   ],
   "metadata": {
    "collapsed": false
   }
  },
  {
   "cell_type": "markdown",
   "source": [
    "\n",
    "### Example 4: Recursive Algorithms"
   ],
   "metadata": {
    "collapsed": false
   }
  },
  {
   "cell_type": "markdown",
   "source": [
    "Recursive algorithms, by their nature, rely on sequential function calls and cannot be vectorized. Each recursion depends on the previous recursive call, making it difficult to parallelize."
   ],
   "metadata": {
    "collapsed": false
   }
  },
  {
   "cell_type": "code",
   "execution_count": null,
   "outputs": [],
   "source": [
    "def fibonacci(n):\n",
    "    if n <= 1:\n",
    "        return n\n",
    "    else:\n",
    "        return fibonacci(n-1) + fibonacci(n-2)\n",
    "\n",
    "result = fibonacci(10)\n",
    "print(result)"
   ],
   "metadata": {
    "collapsed": false
   }
  },
  {
   "cell_type": "markdown",
   "source": [
    "\n",
    "\n",
    "### Example 5: Dynamic Code Execution"
   ],
   "metadata": {
    "collapsed": false
   }
  },
  {
   "cell_type": "markdown",
   "source": [
    "Code that involves dynamically generated or executed code cannot be easily vectorized. Dynamic code execution often relies on evaluating or executing code based on runtime conditions, making it challenging to parallelize."
   ],
   "metadata": {
    "collapsed": false
   }
  },
  {
   "cell_type": "code",
   "execution_count": null,
   "outputs": [],
   "source": [
    "\n",
    "code = \"\"\"\n",
    "result = 0\n",
    "for i in range(100):\n",
    "    result += i\n",
    "print(result)\n",
    "\"\"\"\n",
    "\n",
    "exec(code)\n"
   ],
   "metadata": {
    "collapsed": false
   }
  },
  {
   "cell_type": "markdown",
   "source": [
    "\n",
    "### Example 6: Non-Uniform Data Access"
   ],
   "metadata": {
    "collapsed": false
   }
  },
  {
   "cell_type": "markdown",
   "source": [
    "Code that requires non-uniform access to data, such as searching or sorting, cannot be efficiently vectorized since it relies on sequential operations based on specific conditions or comparisons."
   ],
   "metadata": {
    "collapsed": false
   }
  },
  {
   "cell_type": "code",
   "execution_count": null,
   "outputs": [],
   "source": [
    "numbers = [5, 2, 8, 3, 1]\n",
    "sorted_numbers = sorted(numbers)\n",
    "print(sorted_numbers)"
   ],
   "metadata": {
    "collapsed": false
   }
  },
  {
   "cell_type": "markdown",
   "source": [
    "\n",
    "### Example 7: Dynamic Data Structures"
   ],
   "metadata": {
    "collapsed": false
   }
  },
  {
   "cell_type": "markdown",
   "source": [
    "Code that involves dynamic data structures, such as linked lists or trees, often relies on non-sequential access patterns and cannot be effectively vectorized for performance improvements."
   ],
   "metadata": {
    "collapsed": false
   }
  },
  {
   "cell_type": "code",
   "execution_count": null,
   "outputs": [],
   "source": [
    "\n",
    "class Node:\n",
    "    def __init__(self, data):\n",
    "        self.data = data\n",
    "        self.next = None\n",
    "\n",
    "# Manipulating linked list\n",
    "head = Node(1)\n",
    "head.next = Node(2)\n",
    "head.next.next = Node(3)"
   ],
   "metadata": {
    "collapsed": false
   }
  },
  {
   "cell_type": "markdown",
   "source": [
    "\n",
    "\n",
    "In these examples, the code involves operations that rely on external I/O, user interaction, network responses, recursion, dynamic code execution, non-uniform data access, or dynamic data structures. These scenarios do not lend themselves well to vectorization due to their inherent sequential or dynamic nature. It's important to consider the specific requirements and constraints of the problem at hand when determining whether vectorization can be effectively applied for performance improvements."
   ],
   "metadata": {
    "collapsed": false
   }
  },
  {
   "cell_type": "code",
   "execution_count": null,
   "outputs": [],
   "source": [],
   "metadata": {
    "collapsed": false
   }
  }
 ],
 "metadata": {
  "kernelspec": {
   "display_name": "Python 3",
   "language": "python",
   "name": "python3"
  },
  "language_info": {
   "codemirror_mode": {
    "name": "ipython",
    "version": 2
   },
   "file_extension": ".py",
   "mimetype": "text/x-python",
   "name": "python",
   "nbconvert_exporter": "python",
   "pygments_lexer": "ipython2",
   "version": "2.7.6"
  }
 },
 "nbformat": 4,
 "nbformat_minor": 0
}
