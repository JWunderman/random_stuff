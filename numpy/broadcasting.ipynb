{
 "cells": [
  {
   "cell_type": "markdown",
   "source": [
    "## What is Broadcasting"
   ],
   "metadata": {
    "collapsed": false
   }
  },
  {
   "cell_type": "markdown",
   "source": [
    "`Broadcasting` in NumPy is a powerful feature that allows operations to be performed on arrays of different shapes. It does this by automatically expanding the smaller array along the larger array's dimensions:\n",
    "- Starting with the trailing dimensions: The broadcasting operation starts by comparing the shapes of the two arrays from the end (trailing dimensions) towards the front.\n",
    "- Compatibility Check: Two dimensions are compatible for broadcasting if:\n",
    "    - they are equal, or\n",
    "    - one of them is 1.\n",
    "- Stretching the smaller dimension: If one of the arrays has a smaller dimension, NumPy will 'broadcast' the smaller array across the larger array so that they have compatible shapes. Broadcasting a dimension of size 1 means replicating the values along that dimension.\n",
    "- No new data is created: It's important to note that broadcasting does not actually duplicate the smaller array; instead, it virtually replicates the array in memory during the operation.\n",
    "- Performing the operation: Once the arrays have been virtually expanded to have compatible shapes, the element-wise operation is performed."
   ],
   "metadata": {
    "collapsed": false
   }
  },
  {
   "cell_type": "code",
   "execution_count": 1,
   "outputs": [
    {
     "name": "stdout",
     "output_type": "stream",
     "text": [
      "[[ 2  2  4]\n",
      " [ 5  5  7]\n",
      " [ 8  8 10]\n",
      " [11 11 13]]\n"
     ]
    }
   ],
   "source": [
    "# example\n",
    "\n",
    "import numpy as np\n",
    "\n",
    "A = np.array([[1, 2, 3],\n",
    "              [4, 5, 6],\n",
    "              [7, 8, 9],\n",
    "              [10, 11, 12]])\n",
    "\n",
    "B = np.array([1, 0, 1])\n",
    "\n",
    "# B is broadcast to the shape of A and added to A\n",
    "C = A + B\n",
    "\n",
    "print(C)"
   ],
   "metadata": {
    "collapsed": false
   }
  },
  {
   "cell_type": "code",
   "execution_count": null,
   "outputs": [],
   "source": [],
   "metadata": {
    "collapsed": false
   }
  }
 ],
 "metadata": {
  "kernelspec": {
   "display_name": "Python 3",
   "language": "python",
   "name": "python3"
  },
  "language_info": {
   "codemirror_mode": {
    "name": "ipython",
    "version": 2
   },
   "file_extension": ".py",
   "mimetype": "text/x-python",
   "name": "python",
   "nbconvert_exporter": "python",
   "pygments_lexer": "ipython2",
   "version": "2.7.6"
  }
 },
 "nbformat": 4,
 "nbformat_minor": 0
}
