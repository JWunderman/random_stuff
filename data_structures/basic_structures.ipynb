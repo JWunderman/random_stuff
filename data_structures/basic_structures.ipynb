{
 "cells": [
  {
   "cell_type": "markdown",
   "source": [
    "Looking up elements by a key: Lists are indexed by integers, which is not efficient when you need to look up elements by a specific key. If you find yourself using lists and then iterating over them to find elements by a non-integer key, a dictionary is a better choice because dictionaries provide O(1) lookup time using keys.\n",
    "\n",
    "Maintaining unique keys and values: When you need to ensure that no duplicates are present and each key is associated with a unique value, dictionaries enforce this inherently with unique keys. Using lists, you might end up with duplicates and have to iterate to check for existing values before adding new ones, which is inefficient.\n",
    "\n",
    "Associating pairs of related data: If you're using a list of tuples or lists to store related pairs of data (like (key, value) pairs), a dictionary is often a better choice. With a dictionary, you can directly access the value associated with a key without iterating.\n",
    "\n",
    "Updating values for existing keys: Lists are not ideal for scenarios where you frequently update the value of an element associated with a key. With lists, you would have to find the index of the item first, which is O(n) operation, while dictionaries allow direct updating by key.\n",
    "\n",
    "Data structures with dynamic keys: If you are using a list and find that you need to track elements by keys that can change dynamically, a dictionary would manage this more efficiently. Dictionaries can easily accommodate the dynamic addition and removal of key-value pairs.\n",
    "\n",
    "Ordering is not important: If the data doesn't need to be ordered, or you don't need to maintain the order of insertion (prior to Python 3.7 where dictionaries were unordered), using a list can lead to inefficient operations when what you actually need is the constant-time access of a dictionary.\n",
    "\n",
    "Large datasets with frequent lookups: When dealing with large amounts of data where you need to perform frequent lookups, lists can become inefficient because lookups can require O(n) time complexity, whereas dictionaries are optimized for quick lookups.\n",
    "\n",
    "Counting occurrences of items: If you're using a list to count occurrences by iterating and updating counts, this can be done much more efficiently with a dictionary (often implemented with collections.Counter) which can do this in a single pass.\n",
    "\n",
    "Relationships between data: When representing a graph or a tree structure, dictionaries provide a more intuitive and performant way to map relationships between data points, rather than using lists of lists or lists of tuples.\n",
    "\n",
    "In general, if you find yourself using a list and any of the following are true: you're identifying elements by a unique identifier, you're ensuring no duplicates, you're performing lots of lookups, or you're frequently updating elements, it's likely a sign that a dictionary would be a more suitable data structure."
   ],
   "metadata": {
    "collapsed": false
   }
  },
  {
   "cell_type": "code",
   "execution_count": null,
   "outputs": [],
   "source": [],
   "metadata": {
    "collapsed": false
   }
  }
 ],
 "metadata": {
  "kernelspec": {
   "display_name": "Python 3",
   "language": "python",
   "name": "python3"
  },
  "language_info": {
   "codemirror_mode": {
    "name": "ipython",
    "version": 2
   },
   "file_extension": ".py",
   "mimetype": "text/x-python",
   "name": "python",
   "nbconvert_exporter": "python",
   "pygments_lexer": "ipython2",
   "version": "2.7.6"
  }
 },
 "nbformat": 4,
 "nbformat_minor": 0
}
