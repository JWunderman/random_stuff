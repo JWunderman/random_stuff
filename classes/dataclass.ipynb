{
 "cells": [
  {
   "cell_type": "markdown",
   "source": [
    "# Data Classes"
   ],
   "metadata": {
    "collapsed": false
   }
  },
  {
   "cell_type": "markdown",
   "source": [
    "In Python, a dataclass is a class that is specifically designed to hold data, typically with minimal functionality and without extensive custom methods. It is a convenient way to define classes for simple data storage and manipulation, reducing boilerplate code and providing useful default behaviors.\n",
    "\n",
    "Dataclasses were introduced in Python 3.7 as a part of the `dataclasses` module, and they aim to simplify the creation of classes primarily used for data representation. By using the `@dataclass` decorator, you can define a dataclass with minimal code, and the decorator takes care of automatically generating several common methods."
   ],
   "metadata": {
    "collapsed": false
   }
  },
  {
   "cell_type": "code",
   "execution_count": null,
   "outputs": [],
   "source": [
    "\n",
    "from dataclasses import dataclass\n",
    "\n",
    "@dataclass\n",
    "class Person:\n",
    "    name: str\n",
    "    age: int\n",
    "    city: str"
   ],
   "metadata": {
    "collapsed": false
   }
  },
  {
   "cell_type": "markdown",
   "source": [
    "\n",
    "\n",
    "In this example, we define a `Person` dataclass with three attributes: `name`, `age`, and `city`. The types of the attributes are specified using type hints. With the `@dataclass` decorator, the class automatically gains the following functionalities:\n",
    "\n",
    "1. `__init__` method: The decorator generates an `__init__` method, which initializes the instance variables based on their annotations. This saves you from writing the initialization code manually.\n",
    "\n",
    "2. `__repr__` method: The decorator generates a `__repr__` method, which provides a string representation of the object. It is useful for debugging and printing the object.\n",
    "\n",
    "3. Comparison methods: The decorator generates comparison methods such as `__eq__`, `__ne__`, `__lt__`, `__gt__`, `__le__`, and `__ge__` based on the defined fields. This allows you to compare instances of the dataclass based on their attributes."
   ],
   "metadata": {
    "collapsed": false
   },
   "outputs": [
    {
     "ename": "SyntaxError",
     "evalue": "invalid syntax (4134386524.py, line 1)",
     "output_type": "error",
     "traceback": [
      "\u001B[1;36m  Input \u001B[1;32mIn [1]\u001B[1;36m\u001B[0m\n\u001B[1;33m    In this example, we define a `Person` dataclass with three attributes: `name`, `age`, and `city`. The types of the attributes are specified using type hints. With the `@dataclass` decorator, the class automatically gains the following functionalities:\u001B[0m\n\u001B[1;37m       ^\u001B[0m\n\u001B[1;31mSyntaxError\u001B[0m\u001B[1;31m:\u001B[0m invalid syntax\n"
     ]
    }
   ],
   "execution_count": 1
  },
  {
   "cell_type": "markdown",
   "source": [
    "\n",
    "Additionally, dataclasses support default values for attributes, allowing you to define default values in the field annotations. You can also specify other class-level options like ordering, immutability, and more using field decorators.\n",
    "\n",
    "Dataclasses provide a concise and straightforward way to define classes for data storage, reducing the amount of boilerplate code and providing sensible default behaviors. They are particularly useful when working with structured data, configuration settings, or any scenario where the primary purpose is to store and manipulate data."
   ],
   "metadata": {
    "collapsed": false
   }
  },
  {
   "cell_type": "markdown",
   "source": [
    "## Pros/Cons"
   ],
   "metadata": {
    "collapsed": false
   }
  },
  {
   "cell_type": "markdown",
   "source": [
    "Using dataclasses in Python provides several advantages, but it also has a few limitations. Let's explore the pros and cons of using dataclasses:\n",
    "\n",
    "Pros:\n",
    "1. Concise syntax: Dataclasses offer a compact and readable syntax for defining classes, reducing boilerplate code. The `@dataclass` decorator automatically generates common methods, such as `__init__`, `__repr__`, and comparison methods.\n",
    "2. Automatic initialization: With dataclasses, you don't need to write an explicit `__init__` method. Instead, the decorator generates one for you, initializing the instance variables based on their annotations.\n",
    "3. Immutable by default: Dataclasses are designed to be immutable by default. Once created, their attributes cannot be modified, enforcing immutability and reducing the risk of accidental changes.\n",
    "4. Attribute-based access: Dataclass instances provide attribute-based access, allowing you to access attributes using dot notation (`instance.attribute`), making the code more readable.\n",
    "5. Built-in equality comparison: The `@dataclass` decorator generates the `__eq__` method, enabling straightforward comparison between instances based on their attributes.\n",
    "6. Support for default values and type annotations: Dataclasses support defining default values for attributes and provide better type hinting using annotations, aiding in code clarity and maintainability.\n",
    "\n",
    "Cons:\n",
    "1. Limited customization: Dataclasses provide less flexibility compared to regular classes. Some advanced class customization options, such as defining custom `__setattr__` or `__getattribute__` methods, may not be directly available.\n",
    "2. Mutability of nested objects: Although dataclasses enforce immutability at the top level, nested objects within a dataclass can still be mutable if they are not dataclasses themselves. This can lead to unexpected behavior if not carefully managed.\n",
    "3. Compatibility with older Python versions: Dataclasses were introduced in Python 3.7, so they are not available in earlier versions. If you need to support older Python versions, you may need to use alternative approaches or third-party libraries.\n",
    "4. Additional dependencies: The `dataclasses` module, which provides the `@dataclass` decorator, is part of the Python standard library starting from Python 3.7. If you are using an earlier version, you will need to install the `dataclasses` module separately.\n",
    "\n",
    "In most cases, the benefits of using dataclasses outweigh the limitations, especially for simple classes focused on holding data. However, for more complex scenarios requiring extensive customization or compatibility with older Python versions, traditional class definitions may still be preferable."
   ],
   "metadata": {
    "collapsed": false
   }
  },
  {
   "cell_type": "markdown",
   "source": [
    "# Example"
   ],
   "metadata": {
    "collapsed": false
   }
  },
  {
   "cell_type": "code",
   "execution_count": null,
   "outputs": [],
   "source": [
    "from dataclasses import dataclass\n",
    "\n",
    "@dataclass\n",
    "class Person:\n",
    "    name: str\n",
    "    age: int\n",
    "    city: str\n",
    "\n",
    "person = Person(\"Alice\", 25, \"New York\")\n",
    "print(person)"
   ],
   "metadata": {
    "collapsed": false
   }
  },
  {
   "cell_type": "markdown",
   "source": [
    "\n",
    "\n",
    "In this example, we import the `dataclass` decorator from the `dataclasses` module. We then define a `Person` class and apply the `@dataclass` decorator above the class definition.\n",
    "\n",
    "Inside the `Person` class, we specify three class variables: `name`, `age`, and `city`. The type annotations (`str` and `int`) indicate the expected types of these variables.\n",
    "\n",
    "By using the `@dataclass` decorator, several default functionalities are automatically added to the class:\n",
    "- An implementation of `__init__` method with parameters corresponding to the defined class variables.\n",
    "- A `__repr__` method that provides a string representation of the object, useful for debugging and printing.\n",
    "- Default implementations of other special methods such as `__eq__`, `__ne__`, `__lt__`, `__gt__`, `__le__`, and `__ge__`, based on the defined fields.\n",
    "\n",
    "In the example, we create an instance of the `Person` class with the name \"Alice\", age 25, and city \"New York\". We then print the `person` object, which invokes the `__repr__` method automatically generated by the `@dataclass` decorator.\n",
    "\n"
   ],
   "metadata": {
    "collapsed": false
   }
  },
  {
   "cell_type": "markdown",
   "source": [
    "## Example default values and method"
   ],
   "metadata": {
    "collapsed": false
   }
  },
  {
   "cell_type": "code",
   "execution_count": null,
   "outputs": [],
   "source": [
    "from dataclasses import dataclass, field\n",
    "\n",
    "@dataclass\n",
    "class Rectangle:\n",
    "    width: float\n",
    "    height: float\n",
    "    color: str = field(default=\"white\", init=False)\n",
    "\n",
    "    def area(self):\n",
    "        return self.width * self.height\n",
    "\n",
    "rectangle = Rectangle(5, 10)\n",
    "print(rectangle.area())  # Output: 50\n",
    "print(rectangle.color)   # Output: \"white\"\n"
   ],
   "metadata": {
    "collapsed": false
   }
  },
  {
   "cell_type": "markdown",
   "source": [
    "## Nested Dataclass"
   ],
   "metadata": {
    "collapsed": false
   }
  },
  {
   "cell_type": "code",
   "execution_count": null,
   "outputs": [],
   "source": [
    "from dataclasses import dataclass\n",
    "\n",
    "@dataclass\n",
    "class Point:\n",
    "    x: float\n",
    "    y: float\n",
    "\n",
    "@dataclass\n",
    "class Circle:\n",
    "    center: Point\n",
    "    radius: float\n",
    "\n",
    "circle = Circle(Point(3, 4), 5)\n",
    "print(circle.center.x)   # Output: 3\n",
    "print(circle.center.y)   # Output: 4\n",
    "print(circle.radius)     # Output: 5\n"
   ],
   "metadata": {
    "collapsed": false
   }
  },
  {
   "cell_type": "markdown",
   "source": [
    "## Frozen DataClass"
   ],
   "metadata": {
    "collapsed": false
   }
  },
  {
   "cell_type": "code",
   "execution_count": null,
   "outputs": [],
   "source": [
    "from dataclasses import dataclass\n",
    "\n",
    "@dataclass(frozen=True)\n",
    "class Point:\n",
    "    x: float\n",
    "    y: float\n",
    "\n",
    "point = Point(3, 4)\n",
    "print(point)  # Output: Point(x=3, y=4)\n",
    "\n",
    "point.x = 5  # Raises AttributeError: can't set attribute"
   ],
   "metadata": {
    "collapsed": false
   }
  },
  {
   "cell_type": "markdown",
   "source": [
    "\n",
    "\n",
    "In this example, we define a `Point` dataclass with attributes `x` and `y`. The `@dataclass(frozen=True)` decorator parameter makes the dataclass immutable by setting the `frozen` attribute to `True`.\n",
    "\n",
    "When a dataclass is frozen, its instances become immutable, meaning that once created, their attributes cannot be modified. Any attempt to modify the attributes will raise an `AttributeError`.\n",
    "\n",
    "In the example, we create an instance of the `Point` class with `x=3` and `y=4`. We then print the `point` object, which invokes the automatically generated `__repr__` method, displaying the attribute values.\n",
    "\n",
    "Finally, we attempt to modify the `x` attribute of the `point` object by assigning it a new value of `5`. This raises an `AttributeError` since the dataclass is frozen, and its attributes cannot be modified.\n",
    "\n",
    "Using the `frozen=True` parameter in a dataclass ensures immutability, which can be beneficial in scenarios where you want to guarantee that the data stored in the object remains unchanged after creation. Immutable objects have advantages such as simplified debugging, better thread safety, and reliable hashability for dictionary keys or set elements."
   ],
   "metadata": {
    "collapsed": false
   }
  },
  {
   "cell_type": "markdown",
   "source": [
    "## Data Classes vs Named Tuples"
   ],
   "metadata": {
    "collapsed": false
   }
  },
  {
   "cell_type": "code",
   "execution_count": null,
   "outputs": [],
   "source": [
    "from dataclasses import dataclass\n",
    "from collections import namedtuple\n",
    "\n",
    "# Using a dataclass\n",
    "@dataclass\n",
    "class Person:\n",
    "    name: str\n",
    "    age: int\n",
    "\n",
    "person_dataclass = Person(\"Alice\", 25)\n",
    "print(person_dataclass.name)  # Output: Alice\n",
    "print(person_dataclass.age)   # Output: 25\n",
    "\n",
    "# Using a named tuple\n",
    "PersonTuple = namedtuple(\"PersonTuple\", [\"name\", \"age\"])\n",
    "person_tuple = PersonTuple(\"Bob\", 30)\n",
    "print(person_tuple.name)  # Output: Bob\n",
    "print(person_tuple.age)   # Output: 30"
   ],
   "metadata": {
    "collapsed": false
   }
  },
  {
   "cell_type": "markdown",
   "source": [
    "\n",
    "\n",
    "In this example, we define a `Person` class using a dataclass and a named tuple. Both the dataclass and the named tuple represent a person with attributes `name` and `age`.\n",
    "\n",
    "We create instances of both the dataclass and the named tuple with the same values for `name` and `age`. We can access the attributes of both objects using dot notation (`object.attribute`) as shown in the print statements.\n",
    "\n",
    "The dataclass and the named tuple have similar behavior in terms of attribute access and retrieval. However, there are some differences between them:\n",
    "\n",
    "- Mutability: Dataclasses are mutable by default, meaning you can modify their attributes after creation. Named tuples, on the other hand, are immutable, and their attributes cannot be modified once assigned.\n",
    "\n",
    "- Customization: Dataclasses offer more flexibility for customization. You can define methods, add default values, specify field order, use type annotations, and leverage other dataclass-related features. Named tuples have a fixed structure defined at creation and provide limited customization options.\n",
    "\n",
    "- Memory Efficiency: Named tuples are generally more memory-efficient compared to dataclasses because they are implemented as tuples, which are more compact than dataclass instances.\n",
    "\n",
    "When to use dataclasses:\n",
    "- Use dataclasses when you need more flexibility, such as defining custom methods or leveraging additional dataclass features.\n",
    "- Dataclasses are suitable when you want to mutate the attributes of the instances after creation.\n",
    "\n",
    "When to use named tuples:\n",
    "- Named tuples are great for simple data storage and retrieval scenarios.\n",
    "- If you need immutable objects or memory efficiency is a concern, named tuples are a good choice.\n",
    "- Named tuples can be useful when working with large datasets or when you need to pass around structured data in a memory-efficient manner.\n",
    "\n",
    "In summary, dataclasses provide more flexibility and customization options, while named tuples offer immutability and memory efficiency. Choose the appropriate option based on your specific requirements and use case."
   ],
   "metadata": {
    "collapsed": false
   }
  },
  {
   "cell_type": "code",
   "execution_count": null,
   "outputs": [],
   "source": [],
   "metadata": {
    "collapsed": false
   }
  }
 ],
 "metadata": {
  "kernelspec": {
   "display_name": "Python 3",
   "language": "python",
   "name": "python3"
  },
  "language_info": {
   "codemirror_mode": {
    "name": "ipython",
    "version": 2
   },
   "file_extension": ".py",
   "mimetype": "text/x-python",
   "name": "python",
   "nbconvert_exporter": "python",
   "pygments_lexer": "ipython2",
   "version": "2.7.6"
  }
 },
 "nbformat": 4,
 "nbformat_minor": 0
}
