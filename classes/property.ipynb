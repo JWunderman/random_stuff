{
 "cells": [
  {
   "cell_type": "markdown",
   "source": [
    "## What is Property Decorator?"
   ],
   "metadata": {
    "collapsed": false
   }
  },
  {
   "cell_type": "markdown",
   "source": [
    "In Python, the `property` decorator is used to define getter, setter, and deleter methods for a class attribute, allowing you to control access and modification of that attribute. It allows you to define methods that are accessed like regular attributes, providing additional functionality and control.\n"
   ],
   "metadata": {
    "collapsed": false
   },
   "outputs": [
    {
     "ename": "SyntaxError",
     "evalue": "invalid syntax (3840250684.py, line 1)",
     "output_type": "error",
     "traceback": [
      "\u001B[1;36m  Input \u001B[1;32mIn [1]\u001B[1;36m\u001B[0m\n\u001B[1;33m    In Python, the `property` decorator is used to define getter, setter, and deleter methods for a class attribute, allowing you to control access and modification of that attribute. It allows you to define methods that are accessed like regular attributes, providing additional functionality and control.\u001B[0m\n\u001B[1;37m       ^\u001B[0m\n\u001B[1;31mSyntaxError\u001B[0m\u001B[1;31m:\u001B[0m invalid syntax\n"
     ]
    }
   ],
   "execution_count": 1
  },
  {
   "cell_type": "markdown",
   "source": [
    "## Example of Basic Property Decorator"
   ],
   "metadata": {
    "collapsed": false
   }
  },
  {
   "cell_type": "code",
   "execution_count": null,
   "outputs": [],
   "source": [
    "\n",
    "class MyClass:\n",
    "    def __init__(self):\n",
    "        self._my_attribute = None\n",
    "\n",
    "    @property\n",
    "    def my_attribute(self):\n",
    "        return self._my_attribute\n",
    "\n",
    "    @my_attribute.setter\n",
    "    def my_attribute(self, value):\n",
    "        self._my_attribute = value\n",
    "\n",
    "    @my_attribute.deleter\n",
    "    def my_attribute(self):\n",
    "        del self._my_attribute"
   ],
   "metadata": {
    "collapsed": false
   }
  },
  {
   "cell_type": "markdown",
   "source": [
    "\n",
    "In this example, we define a class `MyClass` with an attribute called `my_attribute`. By using the `property` decorator, we define three methods:\n",
    "\n",
    "- The `my_attribute` method decorated with `@property` acts as a getter method. It is responsible for returning the value of `_my_attribute`.\n",
    "\n",
    "- The `my_attribute` method decorated with `@my_attribute.setter` acts as a setter method. It is responsible for assigning a new value to `_my_attribute`.\n",
    "\n",
    "- The `my_attribute` method decorated with `@my_attribute.deleter` acts as a deleter method. It is responsible for deleting `_my_attribute`.\n",
    "\n",
    "With this setup, you can access and modify `my_attribute` as if it were a regular attribute of the class, while the underlying logic for getting, setting, and deleting is handled by the defined methods."
   ],
   "metadata": {
    "collapsed": false
   }
  },
  {
   "cell_type": "code",
   "execution_count": null,
   "outputs": [],
   "source": [
    "obj = MyClass()\n",
    "\n",
    "# Get the value of my_attribute\n",
    "print(obj.my_attribute)  # Output: None\n",
    "\n",
    "# Set the value of my_attribute\n",
    "obj.my_attribute = 'New Value'\n",
    "print(obj.my_attribute)  # Output: New Value\n",
    "\n",
    "# Delete my_attribute\n",
    "del obj.my_attribute\n",
    "print(obj.my_attribute)  # Raises AttributeError: 'MyClass' object has no attribute '_my_attribute'"
   ],
   "metadata": {
    "collapsed": false
   }
  },
  {
   "cell_type": "markdown",
   "source": [
    "\n",
    "\n",
    "In this example, we create an instance of `MyClass` and use the `my_attribute` property just like a regular attribute, but behind the scenes, the defined getter, setter, and deleter methods are invoked."
   ],
   "metadata": {
    "collapsed": false
   }
  },
  {
   "cell_type": "markdown",
   "source": [
    "## More Examples of using @property decorator"
   ],
   "metadata": {
    "collapsed": false
   }
  },
  {
   "cell_type": "markdown",
   "source": [
    "### Example 1: Simple Getter Method"
   ],
   "metadata": {
    "collapsed": false
   }
  },
  {
   "cell_type": "code",
   "execution_count": null,
   "outputs": [],
   "source": [
    "\n",
    "class Circle:\n",
    "    def __init__(self, radius):\n",
    "        self.radius = radius\n",
    "\n",
    "    @property\n",
    "    def diameter(self):\n",
    "        return 2 * self.radius\n",
    "\n",
    "circle = Circle(5)\n",
    "print(circle.diameter)  # Output: 10"
   ],
   "metadata": {
    "collapsed": false
   }
  },
  {
   "cell_type": "markdown",
   "source": [
    "\n",
    "In this example, we define a `Circle` class with a `radius` attribute. We use the `@property` decorator to create a getter method called `diameter`. The `diameter` method calculates and returns the diameter of the circle based on the radius. By using the `@property` decorator, we can access the `diameter` attribute as if it were a regular attribute, even though it is calculated on-the-fly by the getter method."
   ],
   "metadata": {
    "collapsed": false
   }
  },
  {
   "cell_type": "markdown",
   "source": [
    "\n",
    "### Example 2: Read-only Property"
   ],
   "metadata": {
    "collapsed": false
   }
  },
  {
   "cell_type": "code",
   "execution_count": null,
   "outputs": [],
   "source": [
    "\n",
    "class Rectangle:\n",
    "    def __init__(self, width, height):\n",
    "        self._width = width\n",
    "        self._height = height\n",
    "\n",
    "    @property\n",
    "    def area(self):\n",
    "        return self._width * self._height\n",
    "\n",
    "rectangle = Rectangle(5, 10)\n",
    "print(rectangle.area)  # Output: 50\n",
    "\n",
    "rectangle.area = 100  # Raises AttributeError: can't set attribute"
   ],
   "metadata": {
    "collapsed": false
   }
  },
  {
   "cell_type": "markdown",
   "source": [
    "\n",
    "In this example, we define a `Rectangle` class with `width` and `height` attributes. We use the `@property` decorator to create a read-only property called `area`. The `area` method calculates and returns the area of the rectangle based on the width and height. Since there is no setter method defined, attempting to set the `area` attribute will raise an `AttributeError`, making it read-only."
   ],
   "metadata": {
    "collapsed": false
   }
  },
  {
   "cell_type": "markdown",
   "source": [
    "\n",
    "### Example 3: Computed Property with Setter"
   ],
   "metadata": {
    "collapsed": false
   }
  },
  {
   "cell_type": "code",
   "execution_count": null,
   "outputs": [],
   "source": [
    "\n",
    "class Temperature:\n",
    "    def __init__(self, celsius):\n",
    "        self._celsius = celsius\n",
    "\n",
    "    @property\n",
    "    def fahrenheit(self):\n",
    "        return (self._celsius * 9/5) + 32\n",
    "\n",
    "    @fahrenheit.setter\n",
    "    def fahrenheit(self, value):\n",
    "        self._celsius = (value - 32) * 5/9\n",
    "\n",
    "temp = Temperature(25)\n",
    "print(temp.fahrenheit)  # Output: 77\n",
    "\n",
    "temp.fahrenheit = 86\n",
    "print(temp.fahrenheit)  # Output: 86\n",
    "print(temp._celsius)    # Output: 30"
   ],
   "metadata": {
    "collapsed": false
   }
  },
  {
   "cell_type": "markdown",
   "source": [
    "\n",
    "In this example, we define a `Temperature` class with a `celsius` attribute. We use the `@property` decorator to create a getter method called `fahrenheit`, which calculates and returns the temperature in Fahrenheit based on the Celsius value. Additionally, we define a setter method for `fahrenheit`, which allows us to set the Celsius value based on a Fahrenheit input. This allows us to work with temperature values in both Celsius and Fahrenheit interchangeably using the `fahrenheit` property.\n",
    "\n",
    "These examples demonstrate different ways to use the `@property` decorator to create computed attributes, read-only properties, and properties with custom setters. The `@property` decorator provides flexibility and control over attribute access and modification in Python classes."
   ],
   "metadata": {
    "collapsed": false
   }
  },
  {
   "cell_type": "markdown",
   "source": [
    "## @property setter with conditional"
   ],
   "metadata": {
    "collapsed": false
   }
  },
  {
   "cell_type": "code",
   "execution_count": null,
   "outputs": [],
   "source": [
    "class Person:\n",
    "    def __init__(self, name, age):\n",
    "        self._name = name\n",
    "        self._age = age\n",
    "\n",
    "    @property\n",
    "    def age(self):\n",
    "        return self._age\n",
    "\n",
    "    @age.setter\n",
    "    def age(self, value):\n",
    "        if value >= 0:\n",
    "            self._age = value\n",
    "        else:\n",
    "            raise ValueError(\"Age cannot be negative.\")\n"
   ],
   "metadata": {
    "collapsed": false
   }
  }
 ],
 "metadata": {
  "kernelspec": {
   "display_name": "Python 3",
   "language": "python",
   "name": "python3"
  },
  "language_info": {
   "codemirror_mode": {
    "name": "ipython",
    "version": 2
   },
   "file_extension": ".py",
   "mimetype": "text/x-python",
   "name": "python",
   "nbconvert_exporter": "python",
   "pygments_lexer": "ipython2",
   "version": "2.7.6"
  }
 },
 "nbformat": 4,
 "nbformat_minor": 0
}
