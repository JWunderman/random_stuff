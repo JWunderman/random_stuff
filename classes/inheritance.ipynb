{
 "cells": [
  {
   "cell_type": "markdown",
   "source": [
    "\n",
    "### Example 1: Animals"
   ],
   "metadata": {
    "collapsed": false
   }
  },
  {
   "cell_type": "markdown",
   "source": [
    "\n",
    "#### Before: Without Inheritance\n"
   ],
   "metadata": {
    "collapsed": false
   }
  },
  {
   "cell_type": "code",
   "execution_count": null,
   "outputs": [],
   "source": [
    "\n",
    "class Dog:\n",
    "    def __init__(self, name):\n",
    "        self.name = name\n",
    "\n",
    "    def speak(self):\n",
    "        return \"Woof!\"\n",
    "\n",
    "    def fetch(self):\n",
    "        return \"Fetching!\"\n",
    "\n",
    "class Cat:\n",
    "    def __init__(self, name):\n",
    "        self.name = name\n",
    "\n",
    "    def speak(self):\n",
    "        return \"Meow!\"\n",
    "\n",
    "    def chase_tail(self):\n",
    "        return \"Chasing my tail!\"\n",
    "\n",
    "dog = Dog(\"Buddy\")\n",
    "cat = Cat(\"Whiskers\")\n",
    "print(dog.speak())  # Output: Woof!\n",
    "print(cat.speak())  # Output: Meow!"
   ],
   "metadata": {
    "collapsed": false
   }
  },
  {
   "cell_type": "code",
   "execution_count": null,
   "outputs": [],
   "source": [
    "\n",
    "\n",
    "#In this example, the `speak` method is duplicated in both the `Dog` and `Cat` classes."
   ],
   "metadata": {
    "collapsed": false
   }
  },
  {
   "cell_type": "markdown",
   "source": [
    "\n",
    "#### After: With Inheritance"
   ],
   "metadata": {
    "collapsed": false
   }
  },
  {
   "cell_type": "code",
   "execution_count": null,
   "outputs": [],
   "source": [
    "\n",
    "class Animal:\n",
    "    def __init__(self, name):\n",
    "        self.name = name\n",
    "\n",
    "    def speak(self):\n",
    "        return \"Some generic sound\"\n",
    "\n",
    "class Dog(Animal):\n",
    "    def speak(self):\n",
    "        return \"Woof!\"\n",
    "\n",
    "    def fetch(self):\n",
    "        return \"Fetching!\"\n",
    "\n",
    "class Cat(Animal):\n",
    "    def speak(self):\n",
    "        return \"Meow!\"\n",
    "\n",
    "    def chase_tail(self):\n",
    "        return \"Chasing my tail!\"\n",
    "\n",
    "dog = Dog(\"Buddy\")\n",
    "cat = Cat(\"Whiskers\")\n",
    "print(dog.speak())  # Output: Woof!\n",
    "print(cat.speak())  # Output: Meow!"
   ],
   "metadata": {
    "collapsed": false
   }
  },
  {
   "cell_type": "code",
   "execution_count": null,
   "outputs": [],
   "source": [
    "#In this refactored example, the `speak` method is defined in a common `Animal` base class, allowing `Dog` and `Cat` to inherit from it and override the method if needed.\n"
   ],
   "metadata": {
    "collapsed": false
   }
  },
  {
   "cell_type": "markdown",
   "source": [
    "\n",
    "\n",
    "### Example 2: User Authentication"
   ],
   "metadata": {
    "collapsed": false
   }
  },
  {
   "cell_type": "markdown",
   "source": [
    "\n",
    "#### Before: Without Inheritance\n"
   ],
   "metadata": {
    "collapsed": false
   }
  },
  {
   "cell_type": "code",
   "execution_count": null,
   "outputs": [],
   "source": [
    "\n",
    "class AdminUser:\n",
    "    def __init__(self, username, password):\n",
    "        self.username = username\n",
    "        self.password = password\n",
    "\n",
    "    def authenticate(self):\n",
    "        return f\"Admin {self.username} authenticated!\"\n",
    "\n",
    "class RegularUser:\n",
    "    def __init__(self, username, password):\n",
    "        self.username = username\n",
    "        self.password = password\n",
    "\n",
    "    def authenticate(self):\n",
    "        return f\"Regular user {self.username} authenticated!\"\n",
    "\n",
    "admin = AdminUser(\"admin\", \"securepass\")\n",
    "user = RegularUser(\"johndoe\", \"mypassword\")\n",
    "print(admin.authenticate())  # Output: Admin admin authenticated!\n",
    "print(user.authenticate())  # Output: Regular user johndoe authenticated!\n",
    "\n",
    "\n",
    "#In this example, the `authenticate` method is duplicated in both the `AdminUser` and `RegularUser` classes."
   ],
   "metadata": {
    "collapsed": false
   }
  },
  {
   "cell_type": "markdown",
   "source": [
    "\n",
    "#### After: With Inheritance"
   ],
   "metadata": {
    "collapsed": false
   }
  },
  {
   "cell_type": "code",
   "execution_count": null,
   "outputs": [],
   "source": [
    "\n",
    "\n",
    "class User:\n",
    "    def __init__(self, username, password, user_type=\"Regular\"):\n",
    "        self.username = username\n",
    "        self.password = password\n",
    "        self.user_type = user_type\n",
    "\n",
    "    def authenticate(self):\n",
    "        return f\"{self.user_type} user {self.username} authenticated!\"\n",
    "\n",
    "class AdminUser(User):\n",
    "    def __init__(self, username, password):\n",
    "        super().__init__(username, password, \"Admin\")\n",
    "\n",
    "class RegularUser(User):\n",
    "    pass\n",
    "\n",
    "admin = AdminUser(\"admin\", \"securepass\")\n",
    "user = RegularUser(\"johndoe\", \"mypassword\")\n",
    "print(admin.authenticate())  # Output: Admin user admin authenticated!\n",
    "print(user.authenticate())  # Output: Regular user johndoe authenticated!\n"
   ],
   "metadata": {
    "collapsed": false
   }
  },
  {
   "cell_type": "code",
   "execution_count": null,
   "outputs": [],
   "source": [],
   "metadata": {
    "collapsed": false
   }
  }
 ],
 "metadata": {
  "kernelspec": {
   "display_name": "Python 3",
   "language": "python",
   "name": "python3"
  },
  "language_info": {
   "codemirror_mode": {
    "name": "ipython",
    "version": 2
   },
   "file_extension": ".py",
   "mimetype": "text/x-python",
   "name": "python",
   "nbconvert_exporter": "python",
   "pygments_lexer": "ipython2",
   "version": "2.7.6"
  }
 },
 "nbformat": 4,
 "nbformat_minor": 0
}
