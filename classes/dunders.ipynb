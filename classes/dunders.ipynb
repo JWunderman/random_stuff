{
 "cells": [
  {
   "cell_type": "markdown",
   "source": [
    "## `__new__`"
   ],
   "metadata": {
    "collapsed": false
   }
  },
  {
   "cell_type": "markdown",
   "source": [
    "Used to create a new instance of a class before it is initialized. The __new__ method is a static class method, not an instance method, and it's called when an object is created. It is responsible for returning a new instance of the class."
   ],
   "metadata": {
    "collapsed": false
   }
  },
  {
   "cell_type": "markdown",
   "source": [
    "- It is the first step of instance creation, invoked before __init__.\n",
    "- It takes the class as the first argument and usually forwards any extra arguments to the __init__ method.\n",
    "- It's rarely used, but there are cases where it is necessary or beneficial to override __new__.\n",
    "- It's commonly overridden in the creation of immutable types or metaclasses, or when subclassing immutable built-in types like str, int, tuple, etc."
   ],
   "metadata": {
    "collapsed": false
   }
  },
  {
   "cell_type": "code",
   "execution_count": null,
   "outputs": [],
   "source": [
    "class MyClass(object):\n",
    "\n",
    "    def __new__(cls, *args, **kwargs):\n",
    "        # This is where you would put extra logic that needs to happen\n",
    "        # before an object gets created.\n",
    "\n",
    "        # Create the instance by calling the superclass's __new__ method.\n",
    "        instance = super(MyClass, cls).__new__(cls)\n",
    "\n",
    "        # You could also customize instance creation here by not calling super.\n",
    "        # Example: object.__new__(cls, *args, **kwargs)\n",
    "\n",
    "        return instance\n",
    "\n",
    "    def __init__(self, *args, **kwargs):\n",
    "        # This is where the object is actually initialized.\n",
    "        print(\"The instance is created and now being initialized\")\n",
    "        # Initialize the instance as usual.\n"
   ],
   "metadata": {
    "collapsed": false
   }
  },
  {
   "cell_type": "markdown",
   "source": [
    "Example"
   ],
   "metadata": {
    "collapsed": false
   }
  },
  {
   "cell_type": "code",
   "execution_count": null,
   "outputs": [],
   "source": [],
   "metadata": {
    "collapsed": false
   }
  },
  {
   "cell_type": "markdown",
   "source": [
    "## Examples"
   ],
   "metadata": {
    "collapsed": false
   }
  },
  {
   "cell_type": "code",
   "execution_count": null,
   "outputs": [],
   "source": [
    "\n",
    "#1. Creating a Singleton class:\n",
    " #  A Singleton is a design pattern that restricts the instantiation of a class to one \"single\" instance. Here's how you can use `__new__` to create a Singleton class:\n",
    "\n",
    "\n",
    "class Singleton:\n",
    "    _instance = None\n",
    "\n",
    "    def __new__(cls):\n",
    "        if cls._instance is None:\n",
    "            print(\"Creating the Singleton instance\")\n",
    "            cls._instance = super(Singleton, cls).__new__(cls)\n",
    "        return cls._instance\n",
    "\n",
    "singleton1 = Singleton()\n",
    "singleton2 = Singleton()\n",
    "\n",
    "print(singleton1 is singleton2)  # Output: True\n"
   ],
   "metadata": {
    "collapsed": false
   }
  },
  {
   "cell_type": "code",
   "execution_count": null,
   "outputs": [],
   "source": [
    "\n",
    "#2. Extending an immutable type:\n",
    " #  Here's an example of extending Python's immutable `tuple` type by overriding `__new__`:\n",
    "\n",
    "class VerboseTuple(tuple):\n",
    "    def __new__(cls, iterable):\n",
    "        print(\"Creating a VerboseTuple object with elements:\", iterable)\n",
    "        return super(VerboseTuple, cls).__new__(cls, iterable)\n",
    "\n",
    "verbose_tuple = VerboseTuple((1, 2, 3))  # Output: Creating a VerboseTuple object with elements: (1, 2, 3)\n"
   ],
   "metadata": {
    "collapsed": false
   }
  },
  {
   "cell_type": "code",
   "execution_count": null,
   "outputs": [],
   "source": [
    "\n",
    "#3. Customizing instance creation:\n",
    " #  You can override `__new__` to customize the creation of instances, such as intercepting creation parameters or enforcing additional constraints:\n",
    "\n",
    "class NonNegativeNumber:\n",
    "    def __new__(cls, value):\n",
    "        if value < 0:\n",
    "            raise ValueError(\"Cannot instantiate with a negative number\")\n",
    "        instance = super(NonNegativeNumber, cls).__new__(cls)\n",
    "        instance.value = value\n",
    "        return instance\n",
    "\n",
    "    def __init__(self, value):\n",
    "        # Initialization logic here (already done in __new__ in this case)\n",
    "        pass\n",
    "\n",
    "try:\n",
    "    non_negative = NonNegativeNumber(-10)  # This will raise a ValueError\n",
    "except ValueError as e:\n",
    "    print(e)  # Output: Cannot instantiate with a negative number\n"
   ],
   "metadata": {
    "collapsed": false
   }
  },
  {
   "cell_type": "markdown",
   "source": [
    "\n",
    "In each of these examples, `__new__` is used to control the creation of a new instance of the class. It's a powerful tool that allows for flexibility, but it should be used judiciously since it's a lower-level method and can lead to more complex and harder-to-understand code if not used properly."
   ],
   "metadata": {
    "collapsed": false
   }
  },
  {
   "cell_type": "markdown",
   "source": [
    "## `__slots__`"
   ],
   "metadata": {
    "collapsed": false
   }
  },
  {
   "cell_type": "markdown",
   "source": [
    "The `__slots__` declaration in Python is used within a class definition to declare fixed attributes and properties for instances. Here are the main benefits of using `__slots__`:\n",
    "\n",
    "1. **Memory Savings**: When you use `__slots__`, Python does not need to use a dictionary to store instance variables. Since dictionaries consume a significant amount of memory (due to their underlying hash table structure), replacing them with a static structure can lead to substantial memory savings, especially in programs that create many instances of a class.\n",
    "\n",
    "2. **Faster Attribute Access**: Accessing attributes via `__slots__` is faster than accessing them from a dynamic `__dict__`. This is because slotted attributes are stored in a fixed-size array, not in a dictionary that requires hashing keys and resolving collisions.\n",
    "\n",
    "3. **Preventing Arbitrary New Attributes**: Using `__slots__` can prevent the addition of new attributes to instances, which can be an aid in avoiding bugs due to typoed attribute names. It enforces a more strict class definition, which can help catch errors earlier in the development cycle.\n",
    "\n",
    "4. **Explicit Attributes Declaration**: `__slots__` forces you to explicitly declare data members, which can make it clearer to new readers of the code what the intention of the class design was.\n",
    "\n",
    "Why `__slots__` exists:\n",
    "\n",
    "`__slots__` exists primarily to provide a memory optimization tool. Python objects can be quite memory-intensive, due to the dynamic nature of their attribute storage. Each instance has a dictionary to hold attribute values, which allows for the dynamic addition of attributes but at a memory cost. When you have thousands or millions of instances, that cost adds up.\n",
    "\n",
    "In situations where you know that the set of attributes on instances of a class is going to be fixed, `__slots__` gives you the ability to avoid that overhead. This is particularly useful for classes that might be used as elements in data-intensive scientific computing or in situations where you might be dealing with a large in-memory graph of objects, such as a complex parser.\n",
    "\n",
    "It's important to note that `__slots__` is not always the right choice. It should be used when the benefits outweigh the downsides, such as the loss of dynamic attribute assignment and the inability to support weak references (unless `'__weakref__'` is explicitly included in `__slots__`). Additionally, subclassing needs to be handled with care when `__slots__` is used, as subclasses will also need to define `__slots__` to see the same memory-saving benefits."
   ],
   "metadata": {
    "collapsed": false
   }
  },
  {
   "cell_type": "markdown",
   "source": [
    "In Python, `__slots__` is used to declare a fixed set of attributes for class instances. By doing this, it prevents the creation of an instance dictionary, thus saving memory when you have many instances of a class. `__slots__` is particularly useful for optimizing programs where millions of class instances are created.\n",
    "\n",
    "Here are three examples demonstrating the use of `__slots__`:"
   ],
   "metadata": {
    "collapsed": false
   }
  },
  {
   "cell_type": "code",
   "execution_count": 8,
   "outputs": [
    {
     "name": "stdout",
     "output_type": "stream",
     "text": [
      "1 2\n"
     ]
    }
   ],
   "source": [
    "\n",
    "#1. **Basic Usage of `__slots__`**:\n",
    " #  A class where instances only have an `x` and `y` attribute, and no other instance attributes can be added.\n",
    "\n",
    "class Point:\n",
    "    __slots__ = ('x', 'y')\n",
    "\n",
    "    def __init__(self, x, y):\n",
    "        self.x = x\n",
    "        self.y = y\n",
    "\n",
    "p = Point(1, 2)\n",
    "print(p.x, p.y)  # Output: 1 2\n",
    "# p.z = 3  # This will raise an AttributeError because z is not in __slots__"
   ],
   "metadata": {
    "collapsed": false
   }
  },
  {
   "cell_type": "code",
   "execution_count": null,
   "outputs": [],
   "source": [
    "\n",
    "#2. **Using `__slots__` with Inheritance**:\n",
    " #  If a class defines `__slots__`, then its subclasses also need to define `__slots__` to enforce the restriction on instance attributes.\n",
    "\n",
    "class Shape:\n",
    "    __slots__ = 'color',\n",
    "\n",
    "class Circle(Shape):\n",
    "    __slots__ = 'radius',\n",
    "\n",
    "    def __init__(self, color, radius):\n",
    "        self.color = color\n",
    "        self.radius = radius\n",
    "\n",
    "c = Circle('blue', 5)\n",
    "print(c.color, c.radius)  # Output: blue 5\n",
    "# c.diameter = 10  # This will raise an AttributeError because diameter is not in __slots__\n"
   ],
   "metadata": {
    "collapsed": false
   }
  },
  {
   "cell_type": "code",
   "execution_count": null,
   "outputs": [],
   "source": [
    "\n",
    "#3. **Default Values and Descriptors with `__slots__`**:\n",
    " #  You can combine `__slots__` with property descriptors or provide default values for the slotted attributes.\n",
    "\n",
    "class Rectangle:\n",
    "    __slots__ = ('_width', '_height')\n",
    "\n",
    "    def __init__(self, width, height):\n",
    "        self._width = width\n",
    "        self._height = height\n",
    "\n",
    "    @property\n",
    "    def width(self):\n",
    "        return self._width\n",
    "\n",
    "    @width.setter\n",
    "    def width(self, value):\n",
    "        if value <= 0:\n",
    "            raise ValueError(\"Width must be positive\")\n",
    "        self._width = value\n",
    "\n",
    "    @property\n",
    "    def height(self):\n",
    "        return self._height\n",
    "\n",
    "    @height.setter\n",
    "    def height(self, value):\n",
    "        if value <= 0:\n",
    "            raise ValueError(\"Height must be positive\")\n",
    "        self._height = value\n",
    "\n",
    "r = Rectangle(10, 20)\n",
    "print(r.width, r.height)  # Output: 10 20\n",
    "r.width = 30\n",
    "print(r.width)  # Output: 30\n",
    "# r.width = -5  # This will raise a ValueError because of the check in the setter method"
   ],
   "metadata": {
    "collapsed": false
   }
  },
  {
   "cell_type": "markdown",
   "source": [
    "\n",
    "In all of these examples, `__slots__` has been used to declare static data structures to store instance-specific data, which can lead to significant memory savings when dealing with a large number of instances. However, using `__slots__` also comes with some limitations:\n",
    "\n",
    "- Instances will only be able to have the listed attributes and no others.\n",
    "- You cannot use `__slots__` with classes meant to be subclassed unless the subclasses also use `__slots__`.\n",
    "- It's not compatible with some multiple inheritance scenarios.\n",
    "\n",
    "Therefore, `__slots__` should be used when you are sure about the fixed attributes your instances will have, and you require the memory optimizations it provides."
   ],
   "metadata": {
    "collapsed": false
   }
  },
  {
   "cell_type": "code",
   "execution_count": null,
   "outputs": [],
   "source": [],
   "metadata": {
    "collapsed": false
   }
  }
 ],
 "metadata": {
  "kernelspec": {
   "display_name": "Python 3",
   "language": "python",
   "name": "python3"
  },
  "language_info": {
   "codemirror_mode": {
    "name": "ipython",
    "version": 2
   },
   "file_extension": ".py",
   "mimetype": "text/x-python",
   "name": "python",
   "nbconvert_exporter": "python",
   "pygments_lexer": "ipython2",
   "version": "2.7.6"
  }
 },
 "nbformat": 4,
 "nbformat_minor": 0
}
