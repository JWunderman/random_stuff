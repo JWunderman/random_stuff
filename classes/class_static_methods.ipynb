{
 "cells": [
  {
   "cell_type": "markdown",
   "source": [
    "## What are class methods? Common use cases?"
   ],
   "metadata": {
    "collapsed": false
   }
  },
  {
   "cell_type": "markdown",
   "source": [
    "\n",
    "The @classmethod decorator in Python is used to define a method within a class that is bound to the class and not the instance of the class. This means that the method can be called on the class itself, rather than on an instance of the class. It receives the class as the first argument (conventionally named cls) instead of a self reference to an instance of that class."
   ],
   "metadata": {
    "collapsed": false
   }
  },
  {
   "cell_type": "markdown",
   "source": [
    "Factory Methods:\n",
    "One of the most common uses of @classmethod is to define alternative constructors for a class. These are often referred to as factory methods since they can be used to create instances of the class with different initial states or parameters.`mm"
   ],
   "metadata": {
    "collapsed": false
   }
  },
  {
   "cell_type": "code",
   "execution_count": null,
   "outputs": [],
   "source": [
    "class Pizza:\n",
    "    def __init__(self, ingredients):\n",
    "        self.ingredients = ingredients\n",
    "\n",
    "    @classmethod\n",
    "    def margherita(cls):\n",
    "        return cls(['mozzarella', 'tomatoes'])\n",
    "\n",
    "    @classmethod\n",
    "    def prosciutto(cls):\n",
    "        return cls(['mozzarella', 'tomatoes', 'ham'])\n",
    "\n",
    "# Create different types of pizzas using factory methods\n",
    "margherita = Pizza.margherita()\n",
    "prosciutto = Pizza.prosciutto()\n"
   ],
   "metadata": {
    "collapsed": false
   }
  },
  {
   "cell_type": "markdown",
   "source": [
    "Class-Level State Management:\n",
    "@classmethod can be used to manage or modify a class-level state, which is shared among all instances of the class."
   ],
   "metadata": {
    "collapsed": false
   }
  },
  {
   "cell_type": "code",
   "execution_count": null,
   "outputs": [],
   "source": [
    "class Inventory:\n",
    "    items = []\n",
    "\n",
    "    @classmethod\n",
    "    def add_item(cls, item):\n",
    "        cls.items.append(item)\n",
    "\n",
    "    @classmethod\n",
    "    def remove_item(cls, item):\n",
    "        cls.items.remove(item)\n",
    "\n",
    "# Modify the class-level state\n",
    "Inventory.add_item('widget')\n",
    "Inventory.remove_item('widget')\n"
   ],
   "metadata": {
    "collapsed": false
   }
  },
  {
   "cell_type": "markdown",
   "source": [
    "Static Data Access:\n",
    "Sometimes, you want a method that logically pertains to the class and doesn't require an instance, but still, needs to access static class data or properties. @classmethod is perfect for this."
   ],
   "metadata": {
    "collapsed": false
   }
  },
  {
   "cell_type": "code",
   "execution_count": null,
   "outputs": [],
   "source": [
    "class MyClass:\n",
    "    _class_info = 'This is a class'\n",
    "\n",
    "    @classmethod\n",
    "    def get_class_info(cls):\n",
    "        return cls._class_info\n",
    "\n",
    "# Access class information without creating an instance\n",
    "info = MyClass.get_class_info()\n"
   ],
   "metadata": {
    "collapsed": false
   }
  },
  {
   "cell_type": "markdown",
   "source": [
    "In all these patterns, the @classmethod decorator is used because we need access to the class object inside the method to either construct objects or access class attributes. This differs from @staticmethod, which would be used for utility functions that neither need the class object (cls) nor an instance reference (self)."
   ],
   "metadata": {
    "collapsed": false
   }
  },
  {
   "cell_type": "markdown",
   "source": [
    "Alternative Constructor:\n",
    "The @classmethod decorator is particularly useful for creating alternative constructors in Python. An alternative constructor is essentially a class method that returns a new instance of the class, but usually with a different set of parameters than the main constructor __init__.\n"
   ],
   "metadata": {
    "collapsed": false
   }
  },
  {
   "cell_type": "code",
   "execution_count": null,
   "outputs": [],
   "source": [
    "class Date:\n",
    "    # Main constructor\n",
    "    def __init__(self, day=0, month=0, year=0):\n",
    "        self.day = day\n",
    "        self.month = month\n",
    "        self.year = year\n",
    "\n",
    "    # Alternative constructor - from a string\n",
    "    @classmethod\n",
    "    def from_string(cls, date_as_string):\n",
    "        day, month, year = map(int, date_as_string.split('-'))\n",
    "        return cls(day, month, year)\n",
    "\n",
    "    # Another alternative constructor - for a given day of the year\n",
    "    @classmethod\n",
    "    def from_day_of_year(cls, year, day_of_year):\n",
    "        # Logic to convert day of the year to day and month\n",
    "        month = 1\n",
    "        while day_of_year - cls.days_in_month(year, month) > 0:\n",
    "            day_of_year -= cls.days_in_month(year, month)\n",
    "            month += 1\n",
    "        day = day_of_year\n",
    "        return cls(day, month, year)\n",
    "\n",
    "    @staticmethod\n",
    "    def days_in_month(year, month):\n",
    "        # Logic to calculate the number of days in a month\n",
    "        # For simplicity, let's assume every month has 30 days\n",
    "        return 30\n",
    "\n",
    "# Creating a Date object using the main constructor\n",
    "date1 = Date(12, 4, 2020)\n",
    "\n",
    "# Creating a Date object using the alternative constructor from a string\n",
    "date2 = Date.from_string('11-04-2020')\n",
    "\n",
    "# Creating a Date object using the alternative constructor for a given day of the year\n",
    "date3 = Date.from_day_of_year(2020, 102)\n",
    "\n",
    "print(date1.day, date1.month, date1.year) # Output: 12 4 2020\n",
    "print(date2.day, date2.month, date2.year) # Output: 11 4 2020\n",
    "print(date3.day, date3.month, date3.year) # Output: 12 4 2020 assuming each month has 30 days\n"
   ],
   "metadata": {
    "collapsed": false
   }
  },
  {
   "cell_type": "markdown",
   "source": [
    "In this example, Date has two alternative constructors:\n",
    "\n",
    "- from_string takes a date in the form of a string and converts it into a Date object.\n",
    "- from_day_of_year takes a year and a day of the year (e.g., 1st January is day 1, 2nd January is day 2, etc.) and converts it into a Date object, assuming a simple model where each month has 30 days.\n",
    "Alternative constructors are a way to provide additional flexibility for instance creation, allowing users to create instances of a class in various ways that are more convenient for the specific context or data they have."
   ],
   "metadata": {
    "collapsed": false
   }
  },
  {
   "cell_type": "markdown",
   "source": [
    "## Differences between class attributes and instance attributes?"
   ],
   "metadata": {
    "collapsed": false
   }
  },
  {
   "cell_type": "markdown",
   "source": [],
   "metadata": {
    "collapsed": false
   }
  },
  {
   "cell_type": "markdown",
   "source": [
    "Class Attributes:\n",
    "\n",
    "- Class attributes belong to the class itself.\n",
    "- They are shared by all instances of the class. This means that if you change the value of a class attribute, it affects all instances at the same time.\n",
    "- Class attributes are defined within the class construction, but outside of any instance methods (including the __init__ method).\n",
    "- They are often used for constants related to the class, or for tracking data that should be shared among all instances.\n",
    "\n",
    "Instance Attributes:\n",
    "\n",
    "- Instance attributes are specific to each instance of the class.\n",
    "- They can have different values for each object instance.\n",
    "- Instance attributes are usually defined within the __init__ method, which is the constructor of the class.\n",
    "- They are often used to store information that is unique to each instance."
   ],
   "metadata": {
    "collapsed": false
   }
  },
  {
   "cell_type": "markdown",
   "source": [
    "How Class Attributes Are Most Often Used:\n",
    "\n",
    "- Constants: Class attributes can be used to define constants that should be the same for every instance.\n",
    "- Default Values: Sometimes, all instances should have a common default value that can be overridden at the instance level.\n",
    "- Counter or Tracker Variables: Class attributes are useful for keeping count of instances or tracking other class-level information.\n",
    "- Configuration Values: If you have values that configure behavior for all instances and might be adjusted, a class attribute is suitable.\n",
    "- Resource Sharing: When you want to share resources like database connections or cache among all instances.\n",
    "- Class attributes can be particularly powerful when combined with class methods (@classmethod) and static methods (@staticmethod) to perform operations that relate to the class as a whole, rather than individual instances."
   ],
   "metadata": {
    "collapsed": false
   }
  },
  {
   "cell_type": "code",
   "execution_count": null,
   "outputs": [],
   "source": [
    "class Temp:\n",
    "    x=1\n",
    "    def __init__(self,y):\n",
    "        self.y=y"
   ],
   "metadata": {
    "collapsed": false
   }
  },
  {
   "cell_type": "code",
   "execution_count": 2,
   "outputs": [],
   "source": [
    "a = Temp(10)\n",
    "b = Temp(20)"
   ],
   "metadata": {
    "collapsed": false
   }
  },
  {
   "cell_type": "code",
   "execution_count": 3,
   "outputs": [],
   "source": [
    "Temp.x = 100"
   ],
   "metadata": {
    "collapsed": false
   }
  },
  {
   "cell_type": "code",
   "execution_count": 4,
   "outputs": [
    {
     "data": {
      "text/plain": "100"
     },
     "execution_count": 4,
     "metadata": {},
     "output_type": "execute_result"
    }
   ],
   "source": [
    "a.x"
   ],
   "metadata": {
    "collapsed": false
   }
  },
  {
   "cell_type": "code",
   "execution_count": 5,
   "outputs": [
    {
     "data": {
      "text/plain": "100"
     },
     "execution_count": 5,
     "metadata": {},
     "output_type": "execute_result"
    }
   ],
   "source": [
    "b.x"
   ],
   "metadata": {
    "collapsed": false
   }
  }
 ],
 "metadata": {
  "kernelspec": {
   "display_name": "Python 3",
   "language": "python",
   "name": "python3"
  },
  "language_info": {
   "codemirror_mode": {
    "name": "ipython",
    "version": 2
   },
   "file_extension": ".py",
   "mimetype": "text/x-python",
   "name": "python",
   "nbconvert_exporter": "python",
   "pygments_lexer": "ipython2",
   "version": "2.7.6"
  }
 },
 "nbformat": 4,
 "nbformat_minor": 0
}
