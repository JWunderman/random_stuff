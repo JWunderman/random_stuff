{
 "cells": [
  {
   "cell_type": "code",
   "execution_count": null,
   "metadata": {
    "collapsed": true
   },
   "outputs": [],
   "source": [
    "Catching exceptions in Python is done using the `try`, `except` block. Here are three examples to illustrate different ways to catch and handle exceptions:\n",
    "\n",
    "### Example 1: Catching a Specific Exception"
   ]
  },
  {
   "cell_type": "code",
   "execution_count": null,
   "outputs": [],
   "source": [
    "\n",
    "#In this example, we are attempting to divide by zero, which will raise a `ZeroDivisionError`. We catch this specific exception and handle it by printing a custom error message.\n",
    "\n",
    "\n",
    "try:\n",
    "    result = 10 / 0\n",
    "except ZeroDivisionError:\n",
    "    print(\"You can't divide by zero!\")\n",
    "\n",
    "\n",
    "Output:\n",
    "\n",
    "You can't divide by zero!\n"
   ],
   "metadata": {
    "collapsed": false
   }
  },
  {
   "cell_type": "code",
   "execution_count": null,
   "outputs": [],
   "source": [
    "\n",
    "### Example 2: Catching Multiple Exceptions"
   ],
   "metadata": {
    "collapsed": false
   }
  },
  {
   "cell_type": "code",
   "execution_count": null,
   "outputs": [],
   "source": [
    "\n",
    "You might want to catch multiple types of exceptions and handle them differently. In this example, we are attempting to convert a user input to an integer. The input might not be convertible (raising a `ValueError`), or it might be a valid string representation of a number but not a string (raising a `TypeError`).\n",
    "\n",
    "\n",
    "user_input = \"ten\"\n",
    "\n",
    "try:\n",
    "    number = int(user_input)\n",
    "    print(\"The number is:\", number)\n",
    "except ValueError:\n",
    "    print(\"That's not a valid integer!\")\n",
    "except TypeError:\n",
    "    print(\"That's not a string representing a number!\")\n",
    "\n",
    "\n",
    "Output:\n",
    "\n",
    "That's not a valid integer!\n"
   ],
   "metadata": {
    "collapsed": false
   }
  },
  {
   "cell_type": "code",
   "execution_count": null,
   "outputs": [],
   "source": [
    "\n",
    "### Example 3: Catching Any Exception and Accessing the Exception Object"
   ],
   "metadata": {
    "collapsed": false
   }
  },
  {
   "cell_type": "code",
   "execution_count": null,
   "outputs": [],
   "source": [
    "\n",
    "Sometimes you may want to catch any kind of exception, and you might also want to access the exception object itself to gather more information about the error. Here, we are deliberately raising a `RuntimeError` to illustrate this.\n",
    "\n",
    "\n",
    "try:\n",
    "    raise RuntimeError(\"This is a custom error message\")\n",
    "except Exception as e:\n",
    "    print(\"An error occurred:\", str(e))\n",
    "\n",
    "\n",
    "Output:\n",
    "\n",
    "An error occurred: This is a custom error message\n",
    "\n",
    "\n",
    "In this example, `Exception` catches all exceptions (since all Python exceptions are derived from this base class), and `as e` allows us to access the exception object."
   ],
   "metadata": {
    "collapsed": false
   }
  },
  {
   "cell_type": "code",
   "execution_count": null,
   "outputs": [],
   "source": [
    "\n",
    "### Bonus: Using `else` and `finally`"
   ],
   "metadata": {
    "collapsed": false
   }
  },
  {
   "cell_type": "code",
   "execution_count": null,
   "outputs": [],
   "source": [
    "\n",
    "You can also use `else` and `finally` in conjunction with `try` and `except`. The `else` block runs if no exception was raised, and the `finally` block runs no matter what happened before.\n",
    "\n",
    "\n",
    "try:\n",
    "    result = 10 / 2\n",
    "except ZeroDivisionError:\n",
    "    print(\"You can't divide by zero!\")\n",
    "else:\n",
    "    print(\"Division successful:\", result)\n",
    "finally:\n",
    "    print(\"This code runs no matter what happened before\")\n",
    "\n",
    "\n",
    "Output:\n",
    "\n",
    "Division successful: 5.0\n",
    "This code runs no matter what happened before\n",
    "\n",
    "\n",
    "These examples show various ways to catch and handle exceptions in Python, promoting the writing of robust and error-resistant code."
   ],
   "metadata": {
    "collapsed": false
   }
  }
 ],
 "metadata": {
  "kernelspec": {
   "display_name": "Python 3",
   "language": "python",
   "name": "python3"
  },
  "language_info": {
   "codemirror_mode": {
    "name": "ipython",
    "version": 2
   },
   "file_extension": ".py",
   "mimetype": "text/x-python",
   "name": "python",
   "nbconvert_exporter": "python",
   "pygments_lexer": "ipython2",
   "version": "2.7.6"
  }
 },
 "nbformat": 4,
 "nbformat_minor": 0
}
