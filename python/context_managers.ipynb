{
 "cells": [
  {
   "cell_type": "markdown",
   "source": [
    "# Context Managers"
   ],
   "metadata": {
    "collapsed": false
   }
  },
  {
   "cell_type": "markdown",
   "source": [
    "`Context managers` in Python are used to properly manage resources so that they are set up and released appropriately. They are commonly used with the with statement. The main purpose is to ensure that set-up and tear-down code is executed reliably, even if the block of code exits unexpectedly (due to exceptions, for instance).\n",
    "\n",
    "A context manager controls the entry and exit from the block of code. It typically implements two special methods:\n",
    "\n",
    "__enter__: This method sets up the context and is called when execution enters the context of the with statement. It can return an object that is bound to the variable after the as keyword in the with statement (if there is one).\n",
    "__exit__: This method handles the tear-down and is called when execution leaves the context. This could be because the code block finished executing, or because an exception was raised. It can suppress exceptions if it returns True."
   ],
   "metadata": {
    "collapsed": false
   }
  },
  {
   "cell_type": "markdown",
   "source": [
    "## Context managers with File open/close"
   ],
   "metadata": {
    "collapsed": false
   }
  },
  {
   "cell_type": "code",
   "execution_count": 7,
   "outputs": [],
   "source": [
    "with open('example.txt', 'w') as file:\n",
    "    file.write('Hello, World!')\n",
    "# No need to explicitly call file.close(), it's automatically handled by the context manager.\n"
   ],
   "metadata": {
    "collapsed": false
   }
  },
  {
   "cell_type": "markdown",
   "source": [
    "## Acquiring and releasing a lock:"
   ],
   "metadata": {
    "collapsed": false
   }
  },
  {
   "cell_type": "markdown",
   "source": [
    "When working with threads, you may need to ensure that only one thread can access a particular section of code at a time. Using a context manager with a lock allows you to ensure that the lock is acquired when entering the block and released when exiting, even if the code within the block raises an exception."
   ],
   "metadata": {
    "collapsed": false
   }
  },
  {
   "cell_type": "code",
   "execution_count": null,
   "outputs": [],
   "source": [
    "from threading import Lock\n",
    "\n",
    "lock = Lock()\n",
    "\n",
    "with lock:\n",
    "    # Only one thread can execute this block of code at a time.\n",
    "    print('Critical section of code')\n",
    "# Lock is automatically released when block is exited.\n"
   ],
   "metadata": {
    "collapsed": false
   }
  }
 ],
 "metadata": {
  "kernelspec": {
   "display_name": "Python 3",
   "language": "python",
   "name": "python3"
  },
  "language_info": {
   "codemirror_mode": {
    "name": "ipython",
    "version": 2
   },
   "file_extension": ".py",
   "mimetype": "text/x-python",
   "name": "python",
   "nbconvert_exporter": "python",
   "pygments_lexer": "ipython2",
   "version": "2.7.6"
  }
 },
 "nbformat": 4,
 "nbformat_minor": 0
}
