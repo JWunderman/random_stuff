{
 "cells": [
  {
   "cell_type": "markdown",
   "source": [],
   "metadata": {
    "collapsed": false
   }
  },
  {
   "cell_type": "markdown",
   "source": [],
   "metadata": {
    "collapsed": false
   }
  },
  {
   "cell_type": "markdown",
   "source": [
    "Question: create a class called “Calculator” with methods for addition, subtraction, multiplication, and division. For the division method, raise a Division by Zero error."
   ],
   "metadata": {
    "collapsed": false
   }
  },
  {
   "cell_type": "code",
   "execution_count": null,
   "outputs": [],
   "source": [
    "class Calculator:\n",
    "    def add(self, a, b):\n",
    "        return a + b\n",
    "\n",
    "    def subtract(self, a, b):\n",
    "        return a - b\n",
    "\n",
    "    def multiply(self, a, b):\n",
    "        return a * b\n",
    "\n",
    "    def divide(self, a, b):\n",
    "        if b == 0:\n",
    "            raise ZeroDivisionError(\"Division by zero is not allowed\")\n",
    "        return a / b\n",
    "\n",
    "calculator = Calculator()\n",
    "result = calculator.divide(10, 0)  # Handle division by zero"
   ],
   "metadata": {
    "collapsed": false
   }
  },
  {
   "cell_type": "code",
   "execution_count": null,
   "outputs": [],
   "source": [],
   "metadata": {
    "collapsed": false
   }
  },
  {
   "cell_type": "markdown",
   "source": [
    "Question: Create a Python class ReverseSequence that takes a list and iterates over it in reverse order.\n",
    "*Hint: you will have to use dunder methods here*"
   ],
   "metadata": {
    "collapsed": false
   }
  },
  {
   "cell_type": "code",
   "execution_count": null,
   "outputs": [],
   "source": [
    "class ReverseSequence:\n",
    "    def __init__(self, sequence):\n",
    "        self.sequence = sequence\n",
    "        self.index = len(sequence)\n",
    "\n",
    "    def __iter__(self):\n",
    "        return self\n",
    "\n",
    "    def __next__(self):\n",
    "        if self.index == 0:\n",
    "            raise StopIteration\n",
    "        self.index -= 1\n",
    "        return self.sequence[self.index]\n",
    "\n",
    "# Usage\n",
    "rev_seq = ReverseSequence([1, 2, 3, 4, 5])\n",
    "for item in rev_seq:\n",
    "    print(item)\n"
   ],
   "metadata": {
    "collapsed": false
   }
  },
  {
   "cell_type": "code",
   "execution_count": null,
   "outputs": [],
   "source": [],
   "metadata": {
    "collapsed": false
   }
  },
  {
   "cell_type": "markdown",
   "source": [
    "Question: Implement a class User with a private attribute _age. Use the @property decorator to create a getter and setter for age."
   ],
   "metadata": {
    "collapsed": false
   }
  },
  {
   "cell_type": "markdown",
   "source": [
    "[https://realpython.com/python-property/](https://realpython.com/python-property/)\n",
    "Read this article if you need a primer on the `@property` decorator and how to create \"getters\" and \"setters\""
   ],
   "metadata": {
    "collapsed": false
   }
  },
  {
   "cell_type": "code",
   "execution_count": null,
   "outputs": [],
   "source": [
    "class User:\n",
    "    def __init__(self, age=0):\n",
    "        self._age = age\n",
    "\n",
    "    @property\n",
    "    def age(self):\n",
    "        return self._age\n",
    "\n",
    "    @age.setter\n",
    "    def age(self, value):\n",
    "        if value < 0:\n",
    "            raise ValueError(\"Age cannot be negative\")\n",
    "        self._age = value\n",
    "\n",
    "# Usage\n",
    "user = User(25)\n",
    "print(user.age)  # Get age\n",
    "user.age = 30   # Set age\n",
    "print(user.age)\n",
    "# user.age = -5  # Uncommenting this line will raise ValueError\n"
   ],
   "metadata": {
    "collapsed": false
   }
  },
  {
   "cell_type": "code",
   "execution_count": null,
   "outputs": [],
   "source": [],
   "metadata": {
    "collapsed": false
   }
  },
  {
   "cell_type": "markdown",
   "source": [
    "Question: Create a Python program with a class hierarchy to model an organization's employee structure. The base class Employee should have a class attribute that keeps track of the total number of employees. There should be two derived classes: Manager and Developer. Both classes should override a method to display their role-specific information. Additionally, ensure that each time an employee (Manager or Developer) is created, the total employee count is updated."
   ],
   "metadata": {
    "collapsed": false
   }
  },
  {
   "cell_type": "code",
   "execution_count": null,
   "outputs": [],
   "source": [
    "class Employee:\n",
    "    total_employees = 0\n",
    "\n",
    "    def __init__(self, name):\n",
    "        self.name = name\n",
    "        Employee.total_employees += 1\n",
    "\n",
    "    def display_info(self):\n",
    "        return f\"Employee: {self.name}\"\n",
    "\n",
    "class Manager(Employee):\n",
    "    def __init__(self, name, department):\n",
    "        super().__init__(name)\n",
    "        self.department = department\n",
    "\n",
    "    def display_info(self):\n",
    "        return f\"Manager: {self.name}, Department: {self.department}\"\n",
    "\n",
    "class Developer(Employee):\n",
    "    def __init__(self, name, programming_language):\n",
    "        super().__init__(name)\n",
    "        self.programming_language = programming_language\n",
    "\n",
    "    def display_info(self):\n",
    "        return f\"Developer: {self.name}, Language: {self.programming_language}\"\n",
    "\n",
    "# Usage\n",
    "emp1 = Manager(\"Alice\", \"HR\")\n",
    "emp2 = Developer(\"Bob\", \"Python\")\n",
    "emp3 = Developer(\"Charlie\", \"Java\")\n",
    "\n",
    "print(emp1.display_info())\n",
    "print(emp2.display_info())\n",
    "print(emp3.display_info())\n",
    "print(f\"Total Employees: {Employee.total_employees}\")\n"
   ],
   "metadata": {
    "collapsed": false
   }
  },
  {
   "cell_type": "code",
   "execution_count": null,
   "outputs": [],
   "source": [],
   "metadata": {
    "collapsed": false
   }
  },
  {
   "cell_type": "code",
   "execution_count": null,
   "outputs": [],
   "source": [],
   "metadata": {
    "collapsed": false
   }
  },
  {
   "cell_type": "code",
   "execution_count": null,
   "outputs": [],
   "source": [],
   "metadata": {
    "collapsed": false
   }
  },
  {
   "cell_type": "markdown",
   "source": [
    "Question: Create a class LogManager that keeps a record of all log messages in a class attribute. It should have a @classmethod to add messages and another @classmethod to display all messages. Then, create a subclass ErrorLogger that inherits from LogManager and adds a prefix \"[ERROR]\" to each message logged."
   ],
   "metadata": {
    "collapsed": false
   }
  },
  {
   "cell_type": "code",
   "execution_count": 1,
   "outputs": [
    {
     "name": "stdout",
     "output_type": "stream",
     "text": [
      "System started\n",
      "[ERROR] Failed to load module\n"
     ]
    }
   ],
   "source": [
    "class LogManager:\n",
    "    logs = []\n",
    "\n",
    "    @classmethod\n",
    "    def add_message(cls, message):\n",
    "        cls.logs.append(message)\n",
    "\n",
    "    @classmethod\n",
    "    def display_messages(cls):\n",
    "        for message in cls.logs:\n",
    "            print(message)\n",
    "\n",
    "class ErrorLogger(LogManager):\n",
    "    @classmethod\n",
    "    def add_message(cls, message):\n",
    "        super().add_message(f\"[ERROR] {message}\")\n",
    "\n",
    "# Usage\n",
    "LogManager.add_message(\"System started\")\n",
    "ErrorLogger.add_message(\"Failed to load module\")\n",
    "LogManager.display_messages()\n"
   ],
   "metadata": {
    "collapsed": false
   }
  },
  {
   "cell_type": "code",
   "execution_count": null,
   "outputs": [],
   "source": [],
   "metadata": {
    "collapsed": false
   }
  },
  {
   "cell_type": "markdown",
   "source": [
    "Question: Design a class Employee with a class attribute that keeps track of the total number of employees. Include a @classmethod to update this count. Create two subclasses, FullTimeEmployee and PartTimeEmployee. Both subclasses should increment the employee count when a new instance is created. Additionally, implement a @classmethod in Employee to display the total number of employees and specific counts for full-time and part-time employees."
   ],
   "metadata": {
    "collapsed": false
   }
  },
  {
   "cell_type": "code",
   "execution_count": 2,
   "outputs": [
    {
     "name": "stdout",
     "output_type": "stream",
     "text": [
      "Total Employees: 3\n",
      "Full-Time Employees: 2\n",
      "Part-Time Employees: 1\n"
     ]
    }
   ],
   "source": [
    "class Employee:\n",
    "    total_employees = 0\n",
    "    full_time_employees = 0\n",
    "    part_time_employees = 0\n",
    "\n",
    "    def __init__(self):\n",
    "        Employee.total_employees += 1\n",
    "\n",
    "    @classmethod\n",
    "    def display_employee_count(cls):\n",
    "        print(f\"Total Employees: {cls.total_employees}\")\n",
    "        print(f\"Full-Time Employees: {cls.full_time_employees}\")\n",
    "        print(f\"Part-Time Employees: {cls.part_time_employees}\")\n",
    "\n",
    "class FullTimeEmployee(Employee):\n",
    "    def __init__(self):\n",
    "        super().__init__()\n",
    "        Employee.full_time_employees += 1\n",
    "\n",
    "class PartTimeEmployee(Employee):\n",
    "    def __init__(self):\n",
    "        super().__init__()\n",
    "        Employee.part_time_employees += 1\n",
    "\n",
    "# Usage\n",
    "emp1 = FullTimeEmployee()\n",
    "emp2 = PartTimeEmployee()\n",
    "emp3 = FullTimeEmployee()\n",
    "Employee.display_employee_count()\n"
   ],
   "metadata": {
    "collapsed": false
   }
  },
  {
   "cell_type": "code",
   "execution_count": null,
   "outputs": [],
   "source": [],
   "metadata": {
    "collapsed": false
   }
  },
  {
   "cell_type": "markdown",
   "source": [
    "Re-write the following code to use a Python Data Class"
   ],
   "metadata": {
    "collapsed": false
   }
  },
  {
   "cell_type": "code",
   "execution_count": 3,
   "outputs": [
    {
     "name": "stdout",
     "output_type": "stream",
     "text": [
      "Employee(name=John Doe, id=E123, position=Developer)\n"
     ]
    }
   ],
   "source": [
    "class Employee:\n",
    "    def __init__(self, name, id, position):\n",
    "        self.name = name\n",
    "        self.id = id\n",
    "        self.position = position\n",
    "\n",
    "    def __repr__(self):\n",
    "        return f\"Employee(name={self.name}, id={self.id}, position={self.position})\"\n",
    "\n",
    "# Usage\n",
    "emp1 = Employee(\"John Doe\", \"E123\", \"Developer\")\n",
    "print(emp1)\n"
   ],
   "metadata": {
    "collapsed": false
   }
  },
  {
   "cell_type": "code",
   "execution_count": null,
   "outputs": [],
   "source": [],
   "metadata": {
    "collapsed": false
   }
  },
  {
   "cell_type": "markdown",
   "source": [
    "Question: Create a Python program with a class hierarchy representing a zoo. The base class should be Animal, with attributes like name and sound. Create two subclasses, Mammal and Bird. Each subclass should have a unique attribute (like fur_color for Mammal and wing_span for Bird). They should also override a method to display their sound. Ensure the use of super() in subclasses for initialization."
   ],
   "metadata": {
    "collapsed": false
   }
  },
  {
   "cell_type": "code",
   "execution_count": null,
   "outputs": [],
   "source": [
    "class Animal:\n",
    "    def __init__(self, name, sound):\n",
    "        self.name = name\n",
    "        self.sound = sound\n",
    "\n",
    "    def make_sound(self):\n",
    "        return f\"{self.name} says {self.sound}\"\n",
    "\n",
    "class Mammal(Animal):\n",
    "    def __init__(self, name, sound, fur_color):\n",
    "        super().__init__(name, sound)\n",
    "        self.fur_color = fur_color\n",
    "\n",
    "    def display_info(self):\n",
    "        return f\"{super().make_sound()}. It has {self.fur_color} fur.\"\n",
    "\n",
    "class Bird(Animal):\n",
    "    def __init__(self, name, sound, wing_span):\n",
    "        super().__init__(name, sound)\n",
    "        self.wing_span = wing_span\n",
    "\n",
    "    def display_info(self):\n",
    "        return f\"{super().make_sound()}. Its wingspan is {self.wing_span} meters.\"\n",
    "\n",
    "# Usage\n",
    "lion = Mammal(\"Lion\", \"roars\", \"golden\")\n",
    "eagle = Bird(\"Eagle\", \"screeches\", 2)\n",
    "\n",
    "print(lion.display_info())\n",
    "print(eagle.display_info())\n"
   ],
   "metadata": {
    "collapsed": false
   }
  },
  {
   "cell_type": "code",
   "execution_count": null,
   "outputs": [],
   "source": [],
   "metadata": {
    "collapsed": false
   }
  },
  {
   "cell_type": "code",
   "execution_count": null,
   "outputs": [],
   "source": [],
   "metadata": {
    "collapsed": false
   }
  }
 ],
 "metadata": {
  "kernelspec": {
   "display_name": "Python 3",
   "language": "python",
   "name": "python3"
  },
  "language_info": {
   "codemirror_mode": {
    "name": "ipython",
    "version": 2
   },
   "file_extension": ".py",
   "mimetype": "text/x-python",
   "name": "python",
   "nbconvert_exporter": "python",
   "pygments_lexer": "ipython2",
   "version": "2.7.6"
  }
 },
 "nbformat": 4,
 "nbformat_minor": 0
}
