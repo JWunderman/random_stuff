{
 "cells": [
  {
   "cell_type": "markdown",
   "source": [],
   "metadata": {
    "collapsed": false
   }
  },
  {
   "cell_type": "markdown",
   "source": [],
   "metadata": {
    "collapsed": false
   }
  },
  {
   "cell_type": "markdown",
   "source": [
    "Question: create a class called “Calculator” with methods for addition, subtraction, multiplication, and division. For the division method, raise a Division by Zero error."
   ],
   "metadata": {
    "collapsed": false
   }
  },
  {
   "cell_type": "code",
   "execution_count": null,
   "outputs": [],
   "source": [
    "class Calculator:\n",
    "    def add(self, a, b):\n",
    "        return a + b\n",
    "\n",
    "    def subtract(self, a, b):\n",
    "        return a - b\n",
    "\n",
    "    def multiply(self, a, b):\n",
    "        return a * b\n",
    "\n",
    "    def divide(self, a, b):\n",
    "        if b == 0:\n",
    "            raise ZeroDivisionError(\"Division by zero is not allowed\")\n",
    "        return a / b\n",
    "\n",
    "calculator = Calculator()\n",
    "result = calculator.divide(10, 0)  # Handle division by zero"
   ],
   "metadata": {
    "collapsed": false
   }
  },
  {
   "cell_type": "code",
   "execution_count": null,
   "outputs": [],
   "source": [],
   "metadata": {
    "collapsed": false
   }
  },
  {
   "cell_type": "markdown",
   "source": [
    "Objective: Create a mini dice-rolling game with Classes"
   ],
   "metadata": {
    "collapsed": false
   }
  },
  {
   "cell_type": "markdown",
   "source": [
    "Game Rules:\n",
    "Objective: Reach a score of 100 or more.\n",
    "Players: Single player.\n",
    "Gameplay:\n",
    "- In each turn, the player rolls two six-sided dice.\n",
    "- If neither dice shows a '1', their sum is added to the player's total score.\n",
    "- If either dice shows a '1', the player's score for that round becomes 0, and their turn ends.\n",
    "- The player can choose to end their turn after each roll. If they do, their round score is added to their total score.\n",
    "- If the player's total score reaches or exceeds 100, the game ends and the player wins."
   ],
   "metadata": {
    "collapsed": false
   }
  },
  {
   "cell_type": "code",
   "execution_count": null,
   "outputs": [],
   "source": [
    "import random\n",
    "\n",
    "class DiceGame:\n",
    "    def __init__(self):\n",
    "        self.total_score = 0\n",
    "\n",
    "    def roll_dice(self):\n",
    "        return random.randint(1, 6), random.randint(1, 6)\n",
    "\n",
    "    def play_turn(self):\n",
    "        round_score = 0\n",
    "        while True:\n",
    "            input(\"Press Enter to roll the dice...\")\n",
    "            die1, die2 = self.roll_dice()\n",
    "            print(f\"Dice roll: {die1} and {die2}\")\n",
    "\n",
    "            if die1 == 1 or die2 == 1:\n",
    "                round_score = 0\n",
    "                print(\"Rolled a 1! No points this round.\")\n",
    "                break\n",
    "\n",
    "            round_points = die1 + die2\n",
    "            round_score += round_points\n",
    "            print(f\"Round score: {round_score}\")\n",
    "\n",
    "            if input(\"Roll again? (y/n): \") != 'y':\n",
    "                break\n",
    "\n",
    "        self.total_score += round_score\n",
    "        print(f\"Total score: {self.total_score}\")\n",
    "\n",
    "    def play_game(self):\n",
    "        while self.total_score < 100:\n",
    "            self.play_turn()\n",
    "\n",
    "        print(\"Congratulations, you've reached 100 points!\")\n",
    "\n",
    "# Game Execution\n",
    "game = DiceGame()\n",
    "game.play_game()\n"
   ],
   "metadata": {
    "collapsed": false
   }
  },
  {
   "cell_type": "code",
   "execution_count": null,
   "outputs": [],
   "source": [],
   "metadata": {
    "collapsed": false
   }
  },
  {
   "cell_type": "code",
   "execution_count": null,
   "outputs": [],
   "source": [],
   "metadata": {
    "collapsed": false
   }
  },
  {
   "cell_type": "markdown",
   "source": [
    "Question: Create a Python class ReverseSequence that takes a list and iterates over it in reverse order.\n",
    "*Hint: you will have to use dunder methods here*"
   ],
   "metadata": {
    "collapsed": false
   }
  },
  {
   "cell_type": "code",
   "execution_count": null,
   "outputs": [],
   "source": [
    "class ReverseSequence:\n",
    "    def __init__(self, sequence):\n",
    "        self.sequence = sequence\n",
    "        self.index = len(sequence)\n",
    "\n",
    "    def __iter__(self):\n",
    "        return self\n",
    "\n",
    "    def __next__(self):\n",
    "        if self.index == 0:\n",
    "            raise StopIteration\n",
    "        self.index -= 1\n",
    "        return self.sequence[self.index]\n",
    "\n",
    "# Usage\n",
    "rev_seq = ReverseSequence([1, 2, 3, 4, 5])\n",
    "for item in rev_seq:\n",
    "    print(item)\n"
   ],
   "metadata": {
    "collapsed": false
   }
  },
  {
   "cell_type": "code",
   "execution_count": null,
   "outputs": [],
   "source": [],
   "metadata": {
    "collapsed": false
   }
  },
  {
   "cell_type": "markdown",
   "source": [
    "Question: Implement a class User with a private attribute _age. Use the @property decorator to create a getter and setter for age."
   ],
   "metadata": {
    "collapsed": false
   }
  },
  {
   "cell_type": "markdown",
   "source": [
    "[https://realpython.com/python-property/](https://realpython.com/python-property/)\n",
    "Read this article if you need a primer on the `@property` decorator and how to create \"getters\" and \"setters\""
   ],
   "metadata": {
    "collapsed": false
   }
  },
  {
   "cell_type": "code",
   "execution_count": null,
   "outputs": [],
   "source": [
    "class User:\n",
    "    def __init__(self, age=0):\n",
    "        self._age = age\n",
    "\n",
    "    @property\n",
    "    def age(self):\n",
    "        return self._age\n",
    "\n",
    "    @age.setter\n",
    "    def age(self, value):\n",
    "        if value < 0:\n",
    "            raise ValueError(\"Age cannot be negative\")\n",
    "        self._age = value\n",
    "\n",
    "# Usage\n",
    "user = User(25)\n",
    "print(user.age)  # Get age\n",
    "user.age = 30   # Set age\n",
    "print(user.age)\n",
    "# user.age = -5  # Uncommenting this line will raise ValueError\n"
   ],
   "metadata": {
    "collapsed": false
   }
  },
  {
   "cell_type": "code",
   "execution_count": null,
   "outputs": [],
   "source": [],
   "metadata": {
    "collapsed": false
   }
  },
  {
   "cell_type": "markdown",
   "source": [
    "Question: Create a Python program with a class hierarchy to model an organization's employee structure. The base class Employee should have a class attribute that keeps track of the total number of employees. There should be two derived classes: Manager and Developer. Both classes should override a method to display their role-specific information. Additionally, ensure that each time an employee (Manager or Developer) is created, the total employee count is updated."
   ],
   "metadata": {
    "collapsed": false
   }
  },
  {
   "cell_type": "code",
   "execution_count": null,
   "outputs": [],
   "source": [
    "class Employee:\n",
    "    total_employees = 0\n",
    "\n",
    "    def __init__(self, name):\n",
    "        self.name = name\n",
    "        Employee.total_employees += 1\n",
    "\n",
    "    def display_info(self):\n",
    "        return f\"Employee: {self.name}\"\n",
    "\n",
    "class Manager(Employee):\n",
    "    def __init__(self, name, department):\n",
    "        super().__init__(name)\n",
    "        self.department = department\n",
    "\n",
    "    def display_info(self):\n",
    "        return f\"Manager: {self.name}, Department: {self.department}\"\n",
    "\n",
    "class Developer(Employee):\n",
    "    def __init__(self, name, programming_language):\n",
    "        super().__init__(name)\n",
    "        self.programming_language = programming_language\n",
    "\n",
    "    def display_info(self):\n",
    "        return f\"Developer: {self.name}, Language: {self.programming_language}\"\n",
    "\n",
    "# Usage\n",
    "emp1 = Manager(\"Alice\", \"HR\")\n",
    "emp2 = Developer(\"Bob\", \"Python\")\n",
    "emp3 = Developer(\"Charlie\", \"Java\")\n",
    "\n",
    "print(emp1.display_info())\n",
    "print(emp2.display_info())\n",
    "print(emp3.display_info())\n",
    "print(f\"Total Employees: {Employee.total_employees}\")\n"
   ],
   "metadata": {
    "collapsed": false
   }
  },
  {
   "cell_type": "code",
   "execution_count": null,
   "outputs": [],
   "source": [],
   "metadata": {
    "collapsed": false
   }
  },
  {
   "cell_type": "markdown",
   "source": [
    "Question: Create a class LogManager that keeps a record of all log messages in a class attribute. It should have a @classmethod to add messages and another @classmethod to display all messages. Then, create a subclass ErrorLogger that inherits from LogManager and adds a prefix \"[ERROR]\" to each message logged."
   ],
   "metadata": {
    "collapsed": false
   }
  },
  {
   "cell_type": "code",
   "execution_count": 1,
   "outputs": [
    {
     "name": "stdout",
     "output_type": "stream",
     "text": [
      "System started\n",
      "[ERROR] Failed to load module\n"
     ]
    }
   ],
   "source": [
    "class LogManager:\n",
    "    logs = []\n",
    "\n",
    "    @classmethod\n",
    "    def add_message(cls, message):\n",
    "        cls.logs.append(message)\n",
    "\n",
    "    @classmethod\n",
    "    def display_messages(cls):\n",
    "        for message in cls.logs:\n",
    "            print(message)\n",
    "\n",
    "class ErrorLogger(LogManager):\n",
    "    @classmethod\n",
    "    def add_message(cls, message):\n",
    "        super().add_message(f\"[ERROR] {message}\")\n",
    "\n",
    "# Usage\n",
    "LogManager.add_message(\"System started\")\n",
    "ErrorLogger.add_message(\"Failed to load module\")\n",
    "LogManager.display_messages()\n"
   ],
   "metadata": {
    "collapsed": false
   }
  },
  {
   "cell_type": "code",
   "execution_count": null,
   "outputs": [],
   "source": [],
   "metadata": {
    "collapsed": false
   }
  },
  {
   "cell_type": "markdown",
   "source": [
    "Question: Design a class Employee with a class attribute that keeps track of the total number of employees. Include a @classmethod to update this count. Create two subclasses, FullTimeEmployee and PartTimeEmployee. Both subclasses should increment the employee count when a new instance is created. Additionally, implement a @classmethod in Employee to display the total number of employees and specific counts for full-time and part-time employees."
   ],
   "metadata": {
    "collapsed": false
   }
  },
  {
   "cell_type": "code",
   "execution_count": 2,
   "outputs": [
    {
     "name": "stdout",
     "output_type": "stream",
     "text": [
      "Total Employees: 3\n",
      "Full-Time Employees: 2\n",
      "Part-Time Employees: 1\n"
     ]
    }
   ],
   "source": [
    "class Employee:\n",
    "    total_employees = 0\n",
    "    full_time_employees = 0\n",
    "    part_time_employees = 0\n",
    "\n",
    "    def __init__(self):\n",
    "        Employee.total_employees += 1\n",
    "\n",
    "    @classmethod\n",
    "    def display_employee_count(cls):\n",
    "        print(f\"Total Employees: {cls.total_employees}\")\n",
    "        print(f\"Full-Time Employees: {cls.full_time_employees}\")\n",
    "        print(f\"Part-Time Employees: {cls.part_time_employees}\")\n",
    "\n",
    "class FullTimeEmployee(Employee):\n",
    "    def __init__(self):\n",
    "        super().__init__()\n",
    "        Employee.full_time_employees += 1\n",
    "\n",
    "class PartTimeEmployee(Employee):\n",
    "    def __init__(self):\n",
    "        super().__init__()\n",
    "        Employee.part_time_employees += 1\n",
    "\n",
    "# Usage\n",
    "emp1 = FullTimeEmployee()\n",
    "emp2 = PartTimeEmployee()\n",
    "emp3 = FullTimeEmployee()\n",
    "Employee.display_employee_count()\n"
   ],
   "metadata": {
    "collapsed": false
   }
  },
  {
   "cell_type": "code",
   "execution_count": null,
   "outputs": [],
   "source": [],
   "metadata": {
    "collapsed": false
   }
  },
  {
   "cell_type": "markdown",
   "source": [
    "Re-write the following code to use a Python Data Class"
   ],
   "metadata": {
    "collapsed": false
   }
  },
  {
   "cell_type": "code",
   "execution_count": 3,
   "outputs": [
    {
     "name": "stdout",
     "output_type": "stream",
     "text": [
      "Employee(name=John Doe, id=E123, position=Developer)\n"
     ]
    }
   ],
   "source": [
    "class Employee:\n",
    "    def __init__(self, name, id, position):\n",
    "        self.name = name\n",
    "        self.id = id\n",
    "        self.position = position\n",
    "\n",
    "    def __repr__(self):\n",
    "        return f\"Employee(name={self.name}, id={self.id}, position={self.position})\"\n",
    "\n",
    "# Usage\n",
    "emp1 = Employee(\"John Doe\", \"E123\", \"Developer\")\n",
    "print(emp1)\n"
   ],
   "metadata": {
    "collapsed": false
   }
  },
  {
   "cell_type": "code",
   "execution_count": null,
   "outputs": [],
   "source": [],
   "metadata": {
    "collapsed": false
   }
  },
  {
   "cell_type": "markdown",
   "source": [
    "Question: Create a Python program with a class hierarchy representing a zoo. The base class should be Animal, with attributes like name and sound. Create two subclasses, Mammal and Bird. Each subclass should have a unique attribute (like fur_color for Mammal and wing_span for Bird). They should also override a method to display their sound. Ensure the use of super() in subclasses for initialization."
   ],
   "metadata": {
    "collapsed": false
   }
  },
  {
   "cell_type": "code",
   "execution_count": null,
   "outputs": [],
   "source": [
    "class Animal:\n",
    "    def __init__(self, name, sound):\n",
    "        self.name = name\n",
    "        self.sound = sound\n",
    "\n",
    "    def make_sound(self):\n",
    "        return f\"{self.name} says {self.sound}\"\n",
    "\n",
    "class Mammal(Animal):\n",
    "    def __init__(self, name, sound, fur_color):\n",
    "        super().__init__(name, sound)\n",
    "        self.fur_color = fur_color\n",
    "\n",
    "    def display_info(self):\n",
    "        return f\"{super().make_sound()}. It has {self.fur_color} fur.\"\n",
    "\n",
    "class Bird(Animal):\n",
    "    def __init__(self, name, sound, wing_span):\n",
    "        super().__init__(name, sound)\n",
    "        self.wing_span = wing_span\n",
    "\n",
    "    def display_info(self):\n",
    "        return f\"{super().make_sound()}. Its wingspan is {self.wing_span} meters.\"\n",
    "\n",
    "# Usage\n",
    "lion = Mammal(\"Lion\", \"roars\", \"golden\")\n",
    "eagle = Bird(\"Eagle\", \"screeches\", 2)\n",
    "\n",
    "print(lion.display_info())\n",
    "print(eagle.display_info())\n"
   ],
   "metadata": {
    "collapsed": false
   }
  },
  {
   "cell_type": "code",
   "execution_count": null,
   "outputs": [],
   "source": [],
   "metadata": {
    "collapsed": false
   }
  },
  {
   "cell_type": "markdown",
   "source": [
    "Bonus: Code up the game of Blackjack using Python OOP!"
   ],
   "metadata": {
    "collapsed": false
   }
  },
  {
   "cell_type": "markdown",
   "source": [
    "Create a simplified implementation of Blackjack in Python using OOP, multiple classes, data classes, and inheritance...\n",
    "\n",
    "Code Overview:\n",
    "Card (Data Class): Represents a playing card.\n",
    "Deck (Class): Represents a deck of cards.\n",
    "Hand (Class): Represents a player's hand.\n",
    "BlackjackGame (Class): Manages the game logic."
   ],
   "metadata": {
    "collapsed": false
   }
  },
  {
   "cell_type": "code",
   "execution_count": null,
   "outputs": [],
   "source": [
    "from dataclasses import dataclass\n",
    "import random\n",
    "\n",
    "@dataclass\n",
    "class Card:\n",
    "    rank: str\n",
    "    suit: str\n",
    "\n",
    "    @property\n",
    "    def value(self):\n",
    "        if self.rank in ['J', 'Q', 'K']:\n",
    "            return 10\n",
    "        elif self.rank == 'A':\n",
    "            return 11\n",
    "        else:\n",
    "            return int(self.rank)\n",
    "\n",
    "class Deck:\n",
    "    def __init__(self):\n",
    "        ranks = [str(n) for n in range(2, 11)] + list('JQKA')\n",
    "        suits = 'spades diamonds clubs hearts'.split()\n",
    "        self.cards = [Card(rank, suit) for suit in suits for rank in ranks]\n",
    "        random.shuffle(self.cards)\n",
    "\n",
    "    def draw_card(self):\n",
    "        return self.cards.pop()\n",
    "\n",
    "class Hand:\n",
    "    def __init__(self):\n",
    "        self.cards = []\n",
    "\n",
    "    def add_card(self, card):\n",
    "        self.cards.append(card)\n",
    "\n",
    "    @property\n",
    "    def value(self):\n",
    "        value = sum(card.value for card in self.cards)\n",
    "        # Adjust for aces\n",
    "        for card in self.cards:\n",
    "            if card.rank == 'A' and value > 21:\n",
    "                value -= 10\n",
    "        return value\n",
    "\n",
    "    def is_bust(self):\n",
    "        return self.value > 21\n",
    "\n",
    "class BlackjackGame:\n",
    "    def __init__(self):\n",
    "        self.deck = Deck()\n",
    "        self.player_hand = Hand()\n",
    "        self.dealer_hand = Hand()\n",
    "\n",
    "    def deal_initial_cards(self):\n",
    "        for _ in range(2):\n",
    "            self.player_hand.add_card(self.deck.draw_card())\n",
    "            self.dealer_hand.add_card(self.deck.draw_card())\n",
    "\n",
    "    def show_hands(self):\n",
    "        print(f\"Dealer's Hand: {[card.rank for card in self.dealer_hand.cards]}\")\n",
    "        print(f\"Your Hand: {[card.rank for card in self.player_hand.cards]}\")\n",
    "\n",
    "    def player_turn(self):\n",
    "        while True:\n",
    "            choice = input(\"Hit or Stand? (h/s): \")\n",
    "            if choice == 'h':\n",
    "                self.player_hand.add_card(self.deck.draw_card())\n",
    "                self.show_hands()\n",
    "                if self.player_hand.is_bust():\n",
    "                    print(\"You busted!\")\n",
    "                    return False\n",
    "            else:\n",
    "                return True\n",
    "\n",
    "    def dealer_turn(self):\n",
    "        while self.dealer_hand.value < 17:\n",
    "            self.dealer_hand.add_card(self.deck.draw_card())\n",
    "\n",
    "    def play_game(self):\n",
    "        self.deal_initial_cards()\n",
    "        self.show_hands()\n",
    "\n",
    "        if not self.player_turn():\n",
    "            return\n",
    "\n",
    "        self.dealer_turn()\n",
    "        self.show_hands()\n",
    "\n",
    "        if self.dealer_hand.is_bust():\n",
    "            print(\"Dealer busted. You win!\")\n",
    "        elif self.dealer_hand.value >= self.player_hand.value:\n",
    "            print(\"Dealer wins!\")\n",
    "        else:\n",
    "            print(\"You win!\")\n",
    "\n",
    "# Play the game\n",
    "game = BlackjackGame()\n",
    "game.play_game()\n"
   ],
   "metadata": {
    "collapsed": false
   }
  }
 ],
 "metadata": {
  "kernelspec": {
   "display_name": "Python 3",
   "language": "python",
   "name": "python3"
  },
  "language_info": {
   "codemirror_mode": {
    "name": "ipython",
    "version": 2
   },
   "file_extension": ".py",
   "mimetype": "text/x-python",
   "name": "python",
   "nbconvert_exporter": "python",
   "pygments_lexer": "ipython2",
   "version": "2.7.6"
  }
 },
 "nbformat": 4,
 "nbformat_minor": 0
}
