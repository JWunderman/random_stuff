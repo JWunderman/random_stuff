{
 "cells": [
  {
   "cell_type": "markdown",
   "source": [
    "# Write your own `apply` function"
   ],
   "metadata": {
    "collapsed": false
   }
  },
  {
   "cell_type": "code",
   "execution_count": null,
   "outputs": [],
   "source": [
    "import pandas as pd\n",
    "\n",
    "def apply(df, func, axis=0):\n",
    "    result_list = []\n",
    "\n",
    "    if axis == 0:  # apply function to each column\n",
    "        for col in df.columns:\n",
    "            result = func(df[col])\n",
    "            result_list.append(result)\n",
    "    elif axis == 1:  # apply function to each row\n",
    "        for index, row in df.iterrows():\n",
    "            result = func(row)\n",
    "            result_list.append(result)\n",
    "    else:\n",
    "        raise ValueError(\"axis must be 0 or 1\")\n",
    "\n",
    "    if isinstance(result_list[0], pd.Series):\n",
    "        return pd.DataFrame(result_list).T  # transpose if necessary\n",
    "    else:\n",
    "        return pd.Series(result_list)"
   ],
   "metadata": {
    "collapsed": false
   }
  }
 ],
 "metadata": {
  "kernelspec": {
   "display_name": "Python 3",
   "language": "python",
   "name": "python3"
  },
  "language_info": {
   "codemirror_mode": {
    "name": "ipython",
    "version": 2
   },
   "file_extension": ".py",
   "mimetype": "text/x-python",
   "name": "python",
   "nbconvert_exporter": "python",
   "pygments_lexer": "ipython2",
   "version": "2.7.6"
  }
 },
 "nbformat": 4,
 "nbformat_minor": 0
}
