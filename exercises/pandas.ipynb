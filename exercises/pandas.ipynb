{
 "cells": [
  {
   "cell_type": "markdown",
   "source": [
    "## Creating Pandas Multiindex DataFrames"
   ],
   "metadata": {
    "collapsed": false
   }
  },
  {
   "cell_type": "code",
   "execution_count": 4,
   "outputs": [
    {
     "data": {
      "text/plain": "Level                       Level1                                         \\\nSublevel                 Sublevel1                 Sublevel2                \nSubSublevel           SubSublevel1 SubSublevel2 SubSublevel1 SubSublevel2   \nColumn                           A            B            C            D   \nDate       Category                                                         \n2020-01-01 Category_A     0.428824    -1.117670     0.996947     0.484753   \n2020-01-02 Category_B    -2.059823     1.761559    -1.367234    -0.378457   \n2020-01-03 Category_A    -0.567443     0.055042     1.023173     1.682686   \n2020-01-04 Category_B    -0.737508     0.668691     1.427486     0.948627   \n2020-01-05 Category_A     1.396011     0.341423     1.129948    -0.802137   \n\nLevel                                 Level2                            \\\nSublevel                           Sublevel1                 Sublevel2   \nSubSublevel                     SubSublevel1 SubSublevel2 SubSublevel1   \nColumn                        E            A            B            C   \nDate       Category                                                      \n2020-01-01 Category_A -0.369068    -0.968686     0.981833     0.824888   \n2020-01-02 Category_B -0.199870     0.625944     0.779647    -1.596062   \n2020-01-03 Category_A -1.129521     0.060575    -1.069053     1.254086   \n2020-01-04 Category_B  1.040523     0.856683     0.722530     0.002275   \n2020-01-05 Category_A -0.424978    -0.172283    -0.465962    -0.590785   \n\nLevel                                         \nSublevel                                      \nSubSublevel           SubSublevel2            \nColumn                           D         E  \nDate       Category                           \n2020-01-01 Category_A    -0.971678  0.341656  \n2020-01-02 Category_B     1.492111  0.063398  \n2020-01-03 Category_A     1.284352 -0.655844  \n2020-01-04 Category_B    -0.173562 -0.649742  \n2020-01-05 Category_A     1.639668 -0.880584  ",
      "text/html": "<div>\n<style scoped>\n    .dataframe tbody tr th:only-of-type {\n        vertical-align: middle;\n    }\n\n    .dataframe tbody tr th {\n        vertical-align: top;\n    }\n\n    .dataframe thead tr th {\n        text-align: left;\n    }\n\n    .dataframe thead tr:last-of-type th {\n        text-align: right;\n    }\n</style>\n<table border=\"1\" class=\"dataframe\">\n  <thead>\n    <tr>\n      <th></th>\n      <th>Level</th>\n      <th colspan=\"5\" halign=\"left\">Level1</th>\n      <th colspan=\"5\" halign=\"left\">Level2</th>\n    </tr>\n    <tr>\n      <th></th>\n      <th>Sublevel</th>\n      <th colspan=\"2\" halign=\"left\">Sublevel1</th>\n      <th colspan=\"3\" halign=\"left\">Sublevel2</th>\n      <th colspan=\"2\" halign=\"left\">Sublevel1</th>\n      <th colspan=\"3\" halign=\"left\">Sublevel2</th>\n    </tr>\n    <tr>\n      <th></th>\n      <th>SubSublevel</th>\n      <th>SubSublevel1</th>\n      <th>SubSublevel2</th>\n      <th>SubSublevel1</th>\n      <th colspan=\"2\" halign=\"left\">SubSublevel2</th>\n      <th>SubSublevel1</th>\n      <th>SubSublevel2</th>\n      <th>SubSublevel1</th>\n      <th colspan=\"2\" halign=\"left\">SubSublevel2</th>\n    </tr>\n    <tr>\n      <th></th>\n      <th>Column</th>\n      <th>A</th>\n      <th>B</th>\n      <th>C</th>\n      <th>D</th>\n      <th>E</th>\n      <th>A</th>\n      <th>B</th>\n      <th>C</th>\n      <th>D</th>\n      <th>E</th>\n    </tr>\n    <tr>\n      <th>Date</th>\n      <th>Category</th>\n      <th></th>\n      <th></th>\n      <th></th>\n      <th></th>\n      <th></th>\n      <th></th>\n      <th></th>\n      <th></th>\n      <th></th>\n      <th></th>\n    </tr>\n  </thead>\n  <tbody>\n    <tr>\n      <th>2020-01-01</th>\n      <th>Category_A</th>\n      <td>0.428824</td>\n      <td>-1.117670</td>\n      <td>0.996947</td>\n      <td>0.484753</td>\n      <td>-0.369068</td>\n      <td>-0.968686</td>\n      <td>0.981833</td>\n      <td>0.824888</td>\n      <td>-0.971678</td>\n      <td>0.341656</td>\n    </tr>\n    <tr>\n      <th>2020-01-02</th>\n      <th>Category_B</th>\n      <td>-2.059823</td>\n      <td>1.761559</td>\n      <td>-1.367234</td>\n      <td>-0.378457</td>\n      <td>-0.199870</td>\n      <td>0.625944</td>\n      <td>0.779647</td>\n      <td>-1.596062</td>\n      <td>1.492111</td>\n      <td>0.063398</td>\n    </tr>\n    <tr>\n      <th>2020-01-03</th>\n      <th>Category_A</th>\n      <td>-0.567443</td>\n      <td>0.055042</td>\n      <td>1.023173</td>\n      <td>1.682686</td>\n      <td>-1.129521</td>\n      <td>0.060575</td>\n      <td>-1.069053</td>\n      <td>1.254086</td>\n      <td>1.284352</td>\n      <td>-0.655844</td>\n    </tr>\n    <tr>\n      <th>2020-01-04</th>\n      <th>Category_B</th>\n      <td>-0.737508</td>\n      <td>0.668691</td>\n      <td>1.427486</td>\n      <td>0.948627</td>\n      <td>1.040523</td>\n      <td>0.856683</td>\n      <td>0.722530</td>\n      <td>0.002275</td>\n      <td>-0.173562</td>\n      <td>-0.649742</td>\n    </tr>\n    <tr>\n      <th>2020-01-05</th>\n      <th>Category_A</th>\n      <td>1.396011</td>\n      <td>0.341423</td>\n      <td>1.129948</td>\n      <td>-0.802137</td>\n      <td>-0.424978</td>\n      <td>-0.172283</td>\n      <td>-0.465962</td>\n      <td>-0.590785</td>\n      <td>1.639668</td>\n      <td>-0.880584</td>\n    </tr>\n  </tbody>\n</table>\n</div>"
     },
     "execution_count": 4,
     "metadata": {},
     "output_type": "execute_result"
    }
   ],
   "source": [
    "import pandas as pd\n",
    "import numpy as np\n",
    "\n",
    "# Create a time series for one level of the row index\n",
    "dates = pd.date_range('2020-01-01', periods=200, freq='D')\n",
    "\n",
    "# Another level of the row index\n",
    "categories = ['Category_A', 'Category_B'] * 100\n",
    "\n",
    "# Create the MultiIndex for rows\n",
    "row_index = pd.MultiIndex.from_arrays([dates, categories], names=['Date', 'Category'])\n",
    "\n",
    "# Create a MultiIndex for columns\n",
    "levels = [['Level1', 'Level2'], ['Sublevel1', 'Sublevel2'], ['SubSublevel1', 'SubSublevel2'], ['A', 'B', 'C', 'D', 'E']]\n",
    "labels = [[0, 0, 0, 0, 0, 1, 1, 1, 1, 1], [0, 0, 1, 1, 1, 0, 0, 1, 1, 1], [0, 1, 0, 1, 1, 0, 1, 0, 1, 1], [0, 1, 2, 3, 4, 0, 1, 2, 3, 4]]\n",
    "column_index = pd.MultiIndex(levels=levels, codes=labels, names=['Level', 'Sublevel', 'SubSublevel', 'Column'])\n",
    "\n",
    "# Create DataFrame\n",
    "df = pd.DataFrame(np.random.randn(200, 10), index=row_index, columns=column_index)\n",
    "\n",
    "df.head()"
   ],
   "metadata": {
    "collapsed": false
   }
  },
  {
   "cell_type": "code",
   "execution_count": null,
   "outputs": [],
   "source": [],
   "metadata": {
    "collapsed": false
   }
  }
 ],
 "metadata": {
  "kernelspec": {
   "display_name": "Python 3",
   "language": "python",
   "name": "python3"
  },
  "language_info": {
   "codemirror_mode": {
    "name": "ipython",
    "version": 2
   },
   "file_extension": ".py",
   "mimetype": "text/x-python",
   "name": "python",
   "nbconvert_exporter": "python",
   "pygments_lexer": "ipython2",
   "version": "2.7.6"
  }
 },
 "nbformat": 4,
 "nbformat_minor": 0
}
