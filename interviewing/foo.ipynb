{
 "cells": [
  {
   "cell_type": "markdown",
   "source": [
    "## Class"
   ],
   "metadata": {
    "collapsed": false
   }
  },
  {
   "cell_type": "code",
   "execution_count": null,
   "outputs": [],
   "source": [],
   "metadata": {
    "collapsed": false
   }
  },
  {
   "cell_type": "markdown",
   "source": [
    "## Mutable default arguments"
   ],
   "metadata": {
    "collapsed": false
   },
   "execution_count": 1
  },
  {
   "cell_type": "code",
   "execution_count": 12,
   "outputs": [],
   "source": [
    "def foo(value, l =[]):\n",
    "    l.append(value)\n",
    "    return l\n"
   ],
   "metadata": {
    "collapsed": false
   }
  },
  {
   "cell_type": "code",
   "execution_count": 13,
   "outputs": [],
   "source": [
    "x = foo(3)\n",
    "y = foo(4)\n",
    "z = foo(5) #<--- what would z be?"
   ],
   "metadata": {
    "collapsed": false
   }
  },
  {
   "cell_type": "code",
   "execution_count": 14,
   "outputs": [
    {
     "data": {
      "text/plain": "[3, 4, 5]"
     },
     "execution_count": 14,
     "metadata": {},
     "output_type": "execute_result"
    }
   ],
   "source": [
    "z"
   ],
   "metadata": {
    "collapsed": false
   }
  },
  {
   "cell_type": "markdown",
   "source": [
    "## Decorator"
   ],
   "metadata": {
    "collapsed": false
   }
  },
  {
   "cell_type": "code",
   "execution_count": null,
   "outputs": [],
   "source": [],
   "metadata": {
    "collapsed": false
   }
  },
  {
   "cell_type": "markdown",
   "source": [
    "## When would you use a dictionary vs list"
   ],
   "metadata": {
    "collapsed": false
   }
  },
  {
   "cell_type": "code",
   "execution_count": null,
   "outputs": [],
   "source": [],
   "metadata": {
    "collapsed": false
   }
  },
  {
   "cell_type": "markdown",
   "source": [
    "## Create a class using @property decorator"
   ],
   "metadata": {
    "collapsed": false
   }
  },
  {
   "cell_type": "code",
   "execution_count": null,
   "outputs": [],
   "source": [
    "class Person:\n",
    "    def __init__(self, name, age):\n",
    "        self._name = name\n",
    "        self._age = age\n",
    "\n",
    "    @property\n",
    "    def age(self):\n",
    "        return self._age\n",
    "\n",
    "    @age.setter\n",
    "    def age(self, value):\n",
    "        if value >= 0:\n",
    "            self._age = value\n",
    "        else:\n",
    "            raise ValueError(\"Age cannot be negative.\")"
   ],
   "metadata": {
    "collapsed": false
   }
  },
  {
   "cell_type": "markdown",
   "source": [
    "## Pandas\n"
   ],
   "metadata": {
    "collapsed": false
   }
  },
  {
   "cell_type": "code",
   "execution_count": null,
   "outputs": [],
   "source": [],
   "metadata": {
    "collapsed": false
   }
  },
  {
   "cell_type": "markdown",
   "source": [
    "Write a function, add_it_up(), that takes a single integer as input and returns the sum of the integers from zero to the input parameter.\n",
    "\n",
    "The function should return 0 if a non-integer is passed in."
   ],
   "metadata": {
    "collapsed": false
   }
  },
  {
   "cell_type": "markdown",
   "source": [
    "## Python Memory Management"
   ],
   "metadata": {
    "collapsed": false
   }
  },
  {
   "cell_type": "markdown",
   "source": [
    "Python memory management is handled by a combination of mechanisms, including automatic memory allocation and deallocation, reference counting, and a garbage collector.\n",
    "\n",
    "Automatic Memory Allocation and Deallocation: Python automatically manages the allocation and deallocation of memory for objects. When an object is created, Python allocates memory to store its data. The memory is deallocated automatically when the object is no longer referenced or when the program terminates.\n",
    "\n",
    "Reference Counting: Python uses reference counting to keep track of the number of references to an object. Each object has a reference count associated with it, which is incremented when a new reference to the object is created and decremented when a reference is deleted. When the reference count reaches zero, meaning there are no more references to the object, the memory occupied by the object is freed.\n",
    "\n",
    "Garbage Collector: In addition to reference counting, Python employs a garbage collector to deal with cyclic references. Cyclic references occur when a group of objects reference each other, but there are no external references to the group. In such cases, reference counting alone cannot determine if the objects are still in use. The garbage collector periodically identifies and collects cyclically referenced objects that are no longer accessible, freeing up the memory they occupy.\n",
    "\n",
    "Python's garbage collector uses a generational garbage collection algorithm. It divides objects into different generations based on their age. Newly created objects are placed in the youngest generation (generation 0). If an object survives a garbage collection pass, it is moved to the next older generation. This approach allows the garbage collector to focus primarily on younger generations, as most objects become unreachable soon after they are created.\n",
    "\n",
    "It's worth noting that Python's memory management is abstracted from the programmer, which simplifies memory handling compared to low-level languages. However, it's still important to be mindful of memory usage and avoid unnecessary object creation or retaining references to objects that are no longer needed, to ensure efficient memory utilization."
   ],
   "metadata": {
    "collapsed": false
   }
  },
  {
   "cell_type": "markdown",
   "source": [
    "## Outlier Values"
   ],
   "metadata": {
    "collapsed": false
   }
  },
  {
   "cell_type": "code",
   "execution_count": 4,
   "outputs": [],
   "source": [
    "import pandas as pd\n",
    "import numpy as np"
   ],
   "metadata": {
    "collapsed": false
   }
  },
  {
   "cell_type": "code",
   "execution_count": 5,
   "outputs": [],
   "source": [
    "\n",
    "# Create a DataFrame with a datetime index\n",
    "np.random.seed(42)\n",
    "start_date = pd.to_datetime('2023-01-01')\n",
    "dates = pd.date_range(start_date, periods=100, freq='D')\n",
    "df = pd.DataFrame({'Value': np.random.randn(100)}, index=dates)"
   ],
   "metadata": {
    "collapsed": false
   }
  },
  {
   "cell_type": "code",
   "execution_count": 6,
   "outputs": [
    {
     "data": {
      "text/plain": "               Value\n2023-01-01  0.496714\n2023-01-02 -0.138264\n2023-01-03  0.647689\n2023-01-04  1.523030\n2023-01-05 -0.234153\n...              ...\n2023-04-06 -1.463515\n2023-04-07  0.296120\n2023-04-08  0.261055\n2023-04-09  0.005113\n2023-04-10 -0.234587\n\n[100 rows x 1 columns]",
      "text/html": "<div>\n<style scoped>\n    .dataframe tbody tr th:only-of-type {\n        vertical-align: middle;\n    }\n\n    .dataframe tbody tr th {\n        vertical-align: top;\n    }\n\n    .dataframe thead th {\n        text-align: right;\n    }\n</style>\n<table border=\"1\" class=\"dataframe\">\n  <thead>\n    <tr style=\"text-align: right;\">\n      <th></th>\n      <th>Value</th>\n    </tr>\n  </thead>\n  <tbody>\n    <tr>\n      <th>2023-01-01</th>\n      <td>0.496714</td>\n    </tr>\n    <tr>\n      <th>2023-01-02</th>\n      <td>-0.138264</td>\n    </tr>\n    <tr>\n      <th>2023-01-03</th>\n      <td>0.647689</td>\n    </tr>\n    <tr>\n      <th>2023-01-04</th>\n      <td>1.523030</td>\n    </tr>\n    <tr>\n      <th>2023-01-05</th>\n      <td>-0.234153</td>\n    </tr>\n    <tr>\n      <th>...</th>\n      <td>...</td>\n    </tr>\n    <tr>\n      <th>2023-04-06</th>\n      <td>-1.463515</td>\n    </tr>\n    <tr>\n      <th>2023-04-07</th>\n      <td>0.296120</td>\n    </tr>\n    <tr>\n      <th>2023-04-08</th>\n      <td>0.261055</td>\n    </tr>\n    <tr>\n      <th>2023-04-09</th>\n      <td>0.005113</td>\n    </tr>\n    <tr>\n      <th>2023-04-10</th>\n      <td>-0.234587</td>\n    </tr>\n  </tbody>\n</table>\n<p>100 rows × 1 columns</p>\n</div>"
     },
     "execution_count": 6,
     "metadata": {},
     "output_type": "execute_result"
    }
   ],
   "source": [
    "df"
   ],
   "metadata": {
    "collapsed": false
   }
  },
  {
   "cell_type": "code",
   "execution_count": 7,
   "outputs": [],
   "source": [
    "\n",
    "# Add 5 outlier values\n",
    "outlier_dates = np.random.choice(dates, size=5, replace=False)"
   ],
   "metadata": {
    "collapsed": false
   }
  },
  {
   "cell_type": "code",
   "execution_count": 8,
   "outputs": [
    {
     "data": {
      "text/plain": "array(['2023-01-31T00:00:00.000000000', '2023-02-26T00:00:00.000000000',\n       '2023-01-14T00:00:00.000000000', '2023-02-11T00:00:00.000000000',\n       '2023-01-08T00:00:00.000000000'], dtype='datetime64[ns]')"
     },
     "execution_count": 8,
     "metadata": {},
     "output_type": "execute_result"
    }
   ],
   "source": [
    "outlier_dates"
   ],
   "metadata": {
    "collapsed": false
   }
  },
  {
   "cell_type": "code",
   "execution_count": 9,
   "outputs": [],
   "source": [
    "\n",
    "df.loc[outlier_dates, 'Value'] = np.random.uniform(low=10, high=20, size=5)"
   ],
   "metadata": {
    "collapsed": false
   }
  },
  {
   "cell_type": "code",
   "execution_count": 10,
   "outputs": [],
   "source": [
    "\n",
    "# Find the dates of the outlier values\n",
    "outlier_dates = df.loc[df['Value'] > 3, :].index"
   ],
   "metadata": {
    "collapsed": false
   }
  },
  {
   "cell_type": "code",
   "execution_count": 11,
   "outputs": [
    {
     "data": {
      "text/plain": "DatetimeIndex(['2023-01-08', '2023-01-14', '2023-01-31', '2023-02-11',\n               '2023-02-26'],\n              dtype='datetime64[ns]', freq=None)"
     },
     "execution_count": 11,
     "metadata": {},
     "output_type": "execute_result"
    }
   ],
   "source": [
    "outlier_dates"
   ],
   "metadata": {
    "collapsed": false
   }
  },
  {
   "cell_type": "code",
   "execution_count": null,
   "outputs": [],
   "source": [
    "\n",
    "print(\"Dates of outlier values:\")\n",
    "print(outlier_dates)"
   ],
   "metadata": {
    "collapsed": false
   }
  }
 ],
 "metadata": {
  "kernelspec": {
   "display_name": "Python 3",
   "language": "python",
   "name": "python3"
  },
  "language_info": {
   "codemirror_mode": {
    "name": "ipython",
    "version": 2
   },
   "file_extension": ".py",
   "mimetype": "text/x-python",
   "name": "python",
   "nbconvert_exporter": "python",
   "pygments_lexer": "ipython2",
   "version": "2.7.6"
  }
 },
 "nbformat": 4,
 "nbformat_minor": 0
}
