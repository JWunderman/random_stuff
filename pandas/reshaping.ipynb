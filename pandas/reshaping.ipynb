{
 "cells": [
  {
   "cell_type": "markdown",
   "source": [
    "\n",
    "### 1. **Pivot and Pivot Table**"
   ],
   "metadata": {
    "collapsed": false
   }
  },
  {
   "cell_type": "code",
   "execution_count": null,
   "outputs": [],
   "source": [
    "\n",
    "#These functions are used to reshape data based on column values and aggregate functions.\n",
    "\n",
    "\n",
    "df.pivot(index='date', columns='variable', values='value')\n",
    "\n",
    "df.pivot_table(values='value', index='date', columns='variable', aggfunc='mean')\n"
   ],
   "metadata": {
    "collapsed": false
   }
  },
  {
   "cell_type": "markdown",
   "source": [
    "\n",
    "### 2. **Melt**"
   ],
   "metadata": {
    "collapsed": false
   }
  },
  {
   "cell_type": "code",
   "execution_count": null,
   "outputs": [],
   "source": [
    "\n",
    "#This function is used to transform a DataFrame from a wide format to a long format.\n",
    "\n",
    "\n",
    "pd.melt(df, id_vars=['date'], value_vars=['variable1', 'variable2'])\n"
   ],
   "metadata": {
    "collapsed": false
   }
  },
  {
   "cell_type": "markdown",
   "source": [
    "\n",
    "### 3. **Stack and Unstack**"
   ],
   "metadata": {
    "collapsed": false
   }
  },
  {
   "cell_type": "code",
   "execution_count": null,
   "outputs": [],
   "source": [
    "\n",
    "#These functions are used to pivot a level of a DataFrame’s columns or index.\n",
    "\n",
    "\n",
    "df.stack(level=-1, dropna=True)\n",
    "df.unstack(level=-1, fill_value=None)\n"
   ],
   "metadata": {
    "collapsed": false
   }
  },
  {
   "cell_type": "markdown",
   "source": [
    "\n",
    "### 4. **Wide to Long**"
   ],
   "metadata": {
    "collapsed": false
   }
  },
  {
   "cell_type": "code",
   "execution_count": null,
   "outputs": [],
   "source": [
    "\n",
    "#This function is used to transform a wide DataFrame to a long format.\n",
    "\n",
    "\n",
    "pd.wide_to_long(df, stubnames='variable', i='id', j='date')\n"
   ],
   "metadata": {
    "collapsed": false
   }
  },
  {
   "cell_type": "markdown",
   "source": [
    "\n",
    "### 5. **Resample**"
   ],
   "metadata": {
    "collapsed": false
   }
  },
  {
   "cell_type": "code",
   "execution_count": null,
   "outputs": [],
   "source": [
    "\n",
    "#This function is used to change the frequency of your time series data.\n",
    "\n",
    "\n",
    "df.resample('M').mean()  # Resample to monthly data, taking the mean\n"
   ],
   "metadata": {
    "collapsed": false
   }
  },
  {
   "cell_type": "markdown",
   "source": [
    "\n",
    "### 6. **Asfreq**"
   ],
   "metadata": {
    "collapsed": false
   }
  },
  {
   "cell_type": "code",
   "execution_count": null,
   "outputs": [],
   "source": [
    "\n",
    "#This function is used to convert a time series to a specified frequency.\n",
    "\n",
    "\n",
    "df.asfreq('M', method='ffill')  # Change frequency to monthly, forward fill missing values\n"
   ],
   "metadata": {
    "collapsed": false
   }
  },
  {
   "cell_type": "markdown",
   "source": [
    "\n",
    "### 7. **Set Index and Reset Index**"
   ],
   "metadata": {
    "collapsed": false
   }
  },
  {
   "cell_type": "code",
   "execution_count": null,
   "outputs": [],
   "source": [
    "\n",
    "#These functions are used to set a DataFrame’s index and reset it.\n",
    "\n",
    "\n",
    "df.set_index('date')\n",
    "df.reset_index(drop=True)\n"
   ],
   "metadata": {
    "collapsed": false
   }
  },
  {
   "cell_type": "markdown",
   "source": [
    "\n",
    "### 8. **Group By**"
   ],
   "metadata": {
    "collapsed": false
   }
  },
  {
   "cell_type": "code",
   "execution_count": null,
   "outputs": [],
   "source": [
    "\n",
    "#This function is used for aggregating data based on some criteria, which is useful for time-based grouping.\n",
    "\n",
    "\n",
    "df.groupby(pd.Grouper(key='date', freq='M')).mean()  # Group by month and calculate the mean\n"
   ],
   "metadata": {
    "collapsed": false
   }
  },
  {
   "cell_type": "markdown",
   "source": [
    "\n",
    "### 9. **T (Transpose)**"
   ],
   "metadata": {
    "collapsed": false
   }
  },
  {
   "cell_type": "code",
   "execution_count": null,
   "outputs": [],
   "source": [
    "\n",
    "#This property is used to transpose the index and columns of the DataFrame.\n",
    "\n",
    "\n",
    "df.T\n"
   ],
   "metadata": {
    "collapsed": false
   }
  },
  {
   "cell_type": "markdown",
   "source": [
    "\n",
    "### 10. **Pivot Wider and Pivot Longer**"
   ],
   "metadata": {
    "collapsed": false
   }
  },
  {
   "cell_type": "code",
   "execution_count": null,
   "outputs": [],
   "source": [
    "\n",
    "#These are recent additions to Pandas and offer functionalities similar to `pivot`, `melt`, and `wide_to_long`.\n",
    "\n",
    "\n",
    "df.pivot_wider(id_cols='date', value_cols=['variable1', 'variable2'])\n",
    "df.pivot_longer(index_to='date', column_names='variable', values_to='value')\n"
   ],
   "metadata": {
    "collapsed": false
   }
  }
 ],
 "metadata": {
  "kernelspec": {
   "display_name": "Python 3",
   "language": "python",
   "name": "python3"
  },
  "language_info": {
   "codemirror_mode": {
    "name": "ipython",
    "version": 2
   },
   "file_extension": ".py",
   "mimetype": "text/x-python",
   "name": "python",
   "nbconvert_exporter": "python",
   "pygments_lexer": "ipython2",
   "version": "2.7.6"
  }
 },
 "nbformat": 4,
 "nbformat_minor": 0
}
