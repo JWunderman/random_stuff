{
 "cells": [
  {
   "cell_type": "markdown",
   "source": [
    "# Window Operations"
   ],
   "metadata": {
    "collapsed": false
   }
  },
  {
   "cell_type": "markdown",
   "source": [
    "\n",
    "\n",
    "1. Rolling Mean:"
   ],
   "metadata": {
    "collapsed": false
   }
  },
  {
   "cell_type": "code",
   "execution_count": null,
   "outputs": [],
   "source": [
    "\n",
    "import pandas as pd\n",
    "\n",
    "df = pd.DataFrame({'A': [1, 2, 3, 4, 5]})\n",
    "rolling_mean = df['A'].rolling(window=3).mean()\n",
    "print(rolling_mean)"
   ],
   "metadata": {
    "collapsed": false
   }
  },
  {
   "cell_type": "markdown",
   "source": [
    "\n",
    "This calculates the rolling mean over a window of size 3. The resulting Series will have NaN values for the first two elements (as the window is not complete) and the mean value for subsequent elements."
   ],
   "metadata": {
    "collapsed": false
   }
  },
  {
   "cell_type": "markdown",
   "source": [
    "\n",
    "2. Rolling Sum:"
   ],
   "metadata": {
    "collapsed": false
   }
  },
  {
   "cell_type": "code",
   "execution_count": null,
   "outputs": [],
   "source": [
    "\n",
    "import pandas as pd\n",
    "\n",
    "df = pd.DataFrame({'A': [1, 2, 3, 4, 5]})\n",
    "rolling_sum = df['A'].rolling(window=2).sum()\n",
    "print(rolling_sum)"
   ],
   "metadata": {
    "collapsed": false
   }
  },
  {
   "cell_type": "markdown",
   "source": [
    "\n",
    "This calculates the rolling sum over a window of size 2. The resulting Series will have NaN values for the first element (as the window is not complete) and the sum of adjacent values for subsequent elements."
   ],
   "metadata": {
    "collapsed": false
   }
  },
  {
   "cell_type": "markdown",
   "source": [
    "\n",
    "3. Expanding Minimum:"
   ],
   "metadata": {
    "collapsed": false
   }
  },
  {
   "cell_type": "code",
   "execution_count": null,
   "outputs": [],
   "source": [
    "\n",
    "import pandas as pd\n",
    "\n",
    "df = pd.DataFrame({'A': [1, 2, 3, 4, 5]})\n",
    "expanding_min = df['A'].expanding().min()\n",
    "print(expanding_min)"
   ],
   "metadata": {
    "collapsed": false
   }
  },
  {
   "cell_type": "markdown",
   "source": [
    "\n",
    "This calculates the expanding minimum, which computes the minimum value from the start of the data up to the current index. The resulting Series will have the minimum value seen so far at each index."
   ],
   "metadata": {
    "collapsed": false
   }
  },
  {
   "cell_type": "markdown",
   "source": [
    "\n",
    "4. Expanding Sum:"
   ],
   "metadata": {
    "collapsed": false
   }
  },
  {
   "cell_type": "code",
   "execution_count": null,
   "outputs": [],
   "source": [
    "\n",
    "import pandas as pd\n",
    "\n",
    "df = pd.DataFrame({'A': [1, 2, 3, 4, 5]})\n",
    "expanding_sum = df['A'].expanding().sum()\n",
    "print(expanding_sum)"
   ],
   "metadata": {
    "collapsed": false
   }
  },
  {
   "cell_type": "markdown",
   "source": [
    "\n",
    "This calculates the expanding sum, which computes the cumulative sum of the data from the start up to the current index. The resulting Series will have the cumulative sum at each index.\n",
    "\n",
    "These are just a few examples of common window operations in Pandas. There are many more available, such as rolling standard deviation, expanding mean, rolling count, etc. Window operations are powerful tools for analyzing and manipulating time series or sequential data in Pandas."
   ],
   "metadata": {
    "collapsed": false
   }
  },
  {
   "cell_type": "markdown",
   "source": [
    "## Custom Function"
   ],
   "metadata": {
    "collapsed": false
   }
  },
  {
   "cell_type": "code",
   "execution_count": null,
   "outputs": [],
   "source": [
    "import pandas as pd\n",
    "\n",
    "# Custom function for window operation\n",
    "def custom_window_operation(data):\n",
    "    return data.sum() * 2  # Example: Multiply the sum of the window by 2\n",
    "\n",
    "# Create a DataFrame\n",
    "df = pd.DataFrame({'A': [1, 2, 3, 4, 5]})\n",
    "\n",
    "# Rolling window operation\n",
    "rolling_result = df['A'].rolling(window=3).apply(custom_window_operation)\n",
    "print(\"Rolling Window Operation:\")\n",
    "print(rolling_result)\n",
    "\n",
    "# Expanding window operation\n",
    "expanding_result = df['A'].expanding().apply(custom_window_operation)\n",
    "print(\"\\nExpanding Window Operation:\")\n",
    "print(expanding_result)"
   ],
   "metadata": {
    "collapsed": false
   }
  },
  {
   "cell_type": "markdown",
   "source": [
    "\n",
    "\n",
    "In this example, we define a custom function `custom_window_operation` that takes a window of data and performs a specific calculation on it. In this case, the function simply multiplies the sum of the window by 2.\n",
    "\n",
    "We then apply the custom window operation to our DataFrame using the rolling window method `rolling` with `window=3` to create a rolling window of size 3. The `apply` function is used to apply the custom function to each window, and the result is stored in the `rolling_result` Series.\n",
    "\n",
    "Similarly, we apply the custom window operation to the DataFrame using the expanding window method `expanding`, which considers all data from the start up to the current index. Again, the `apply` function is used to apply the custom function to each expanding window, and the result is stored in the `expanding_result` Series.\n",
    "\n",
    "The output will show the result of the rolling window operation and the expanding window operation, applying the custom function to each window."
   ],
   "metadata": {
    "collapsed": false
   }
  }
 ],
 "metadata": {
  "kernelspec": {
   "display_name": "Python 3",
   "language": "python",
   "name": "python3"
  },
  "language_info": {
   "codemirror_mode": {
    "name": "ipython",
    "version": 2
   },
   "file_extension": ".py",
   "mimetype": "text/x-python",
   "name": "python",
   "nbconvert_exporter": "python",
   "pygments_lexer": "ipython2",
   "version": "2.7.6"
  }
 },
 "nbformat": 4,
 "nbformat_minor": 0
}
