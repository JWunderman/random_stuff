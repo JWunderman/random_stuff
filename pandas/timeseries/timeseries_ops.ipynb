{
 "cells": [
  {
   "cell_type": "markdown",
   "source": [
    "\n",
    "### 1. Date Range Creation"
   ],
   "metadata": {
    "collapsed": false
   }
  },
  {
   "cell_type": "code",
   "execution_count": 2,
   "outputs": [
    {
     "name": "stdout",
     "output_type": "stream",
     "text": [
      "DatetimeIndex(['2023-01-01', '2023-01-02', '2023-01-03', '2023-01-04',\n",
      "               '2023-01-05', '2023-01-06', '2023-01-07', '2023-01-08',\n",
      "               '2023-01-09', '2023-01-10'],\n",
      "              dtype='datetime64[ns]', freq='D')\n"
     ]
    }
   ],
   "source": [
    "\n",
    "#You can create a range of dates using `pd.date_range()`.\n",
    "\n",
    "\n",
    "import pandas as pd\n",
    "\n",
    "date_range = pd.date_range(start='2023-01-01', periods=10, freq='D')\n",
    "print(date_range)\n"
   ],
   "metadata": {
    "collapsed": false
   }
  },
  {
   "cell_type": "markdown",
   "source": [
    "\n",
    "### 2. Time Series Data Generation"
   ],
   "metadata": {
    "collapsed": false
   }
  },
  {
   "cell_type": "code",
   "execution_count": null,
   "outputs": [],
   "source": [
    "\n",
    "#You can generate time series data using Pandas.\n",
    "\n",
    "import numpy as np\n",
    "\n",
    "data = np.random.randn(10)\n",
    "time_series = pd.Series(data, index=date_range)\n",
    "print(time_series)\n"
   ],
   "metadata": {
    "collapsed": false
   }
  },
  {
   "cell_type": "markdown",
   "source": [
    "\n",
    "### 3. Resampling"
   ],
   "metadata": {
    "collapsed": false
   }
  },
  {
   "cell_type": "code",
   "execution_count": null,
   "outputs": [],
   "source": [
    "\n",
    "#Resampling is used to change the frequency of your time series data. For example, converting daily data to monthly data.\n",
    "\n",
    "monthly_resampled_data = time_series.resample('M').mean()\n",
    "print(monthly_resampled_data)\n"
   ],
   "metadata": {
    "collapsed": false
   }
  },
  {
   "cell_type": "markdown",
   "source": [
    "\n",
    "### 4. Shifting"
   ],
   "metadata": {
    "collapsed": false
   }
  },
  {
   "cell_type": "code",
   "execution_count": null,
   "outputs": [],
   "source": [
    "\n",
    "#Shifting is used to move the data forward or backward in time.\n",
    "\n",
    "shifted_series = time_series.shift(1)\n",
    "print(shifted_series)\n"
   ],
   "metadata": {
    "collapsed": false
   }
  },
  {
   "cell_type": "markdown",
   "source": [
    "\n",
    "### 5. Rolling"
   ],
   "metadata": {
    "collapsed": false
   }
  },
  {
   "cell_type": "code",
   "execution_count": null,
   "outputs": [],
   "source": [
    "\n",
    "#Rolling provides rolling window calculations.\n",
    "\n",
    "rolling_series = time_series.rolling(window=3).mean()\n",
    "print(rolling_series)\n"
   ],
   "metadata": {
    "collapsed": false
   }
  },
  {
   "cell_type": "markdown",
   "source": [
    "\n",
    "### 6. Time Zone Handling"
   ],
   "metadata": {
    "collapsed": false
   }
  },
  {
   "cell_type": "code",
   "execution_count": null,
   "outputs": [],
   "source": [
    "\n",
    "#You can convert time zones using Pandas.\n",
    "\n",
    "time_series_utc = time_series.tz_localize('UTC')\n",
    "time_series_est = time_series_utc.tz_convert('US/Eastern')\n",
    "print(time_series_est)\n"
   ],
   "metadata": {
    "collapsed": false
   }
  },
  {
   "cell_type": "markdown",
   "source": [
    "\n",
    "### 7. Time Deltas"
   ],
   "metadata": {
    "collapsed": false
   }
  },
  {
   "cell_type": "code",
   "execution_count": null,
   "outputs": [],
   "source": [
    "\n",
    "#You can calculate time differences.\n",
    "\n",
    "time_difference = time_series.index.to_series().diff().dropna()\n",
    "print(time_difference)\n"
   ],
   "metadata": {
    "collapsed": false
   }
  },
  {
   "cell_type": "markdown",
   "source": [
    "\n",
    "### 8. Period and PeriodIndex"
   ],
   "metadata": {
    "collapsed": false
   }
  },
  {
   "cell_type": "code",
   "execution_count": null,
   "outputs": [],
   "source": [
    "\n",
    "#You can work with period data in pandas.\n",
    "\n",
    "periods = pd.period_range('2023-01-01', periods=10, freq='M')\n",
    "period_series = pd.Series(data, index=periods)\n",
    "print(period_series)\n"
   ],
   "metadata": {
    "collapsed": false
   }
  },
  {
   "cell_type": "markdown",
   "source": [
    "\n",
    "### 9. Lag and Lead"
   ],
   "metadata": {
    "collapsed": false
   }
  },
  {
   "cell_type": "code",
   "execution_count": null,
   "outputs": [],
   "source": [
    "\n",
    "#You can compute lag (shift forward) or lead (shift backward) of a series.\n",
    "\n",
    "lagged_series = time_series.shift(1)\n",
    "lead_series = time_series.shift(-1)\n",
    "print(\"Lagged Series:\\n\", lagged_series)\n",
    "print(\"\\nLead Series:\\n\", lead_series)\n"
   ],
   "metadata": {
    "collapsed": false
   }
  },
  {
   "cell_type": "markdown",
   "source": [
    "\n",
    "### 10. Frequency Conversion"
   ],
   "metadata": {
    "collapsed": false
   }
  },
  {
   "cell_type": "code",
   "execution_count": null,
   "outputs": [],
   "source": [
    "\n",
    "#You can change the frequency of your time series data, and decide how to handle the resampling.\n",
    "\n",
    "# Upsampling from daily to hourly and filling missing values forward\n",
    "upsampled_series = time_series.resample('H').ffill()\n",
    "print(upsampled_series)\n"
   ],
   "metadata": {
    "collapsed": false
   }
  }
 ],
 "metadata": {
  "kernelspec": {
   "display_name": "Python 3",
   "language": "python",
   "name": "python3"
  },
  "language_info": {
   "codemirror_mode": {
    "name": "ipython",
    "version": 2
   },
   "file_extension": ".py",
   "mimetype": "text/x-python",
   "name": "python",
   "nbconvert_exporter": "python",
   "pygments_lexer": "ipython2",
   "version": "2.7.6"
  }
 },
 "nbformat": 4,
 "nbformat_minor": 0
}
