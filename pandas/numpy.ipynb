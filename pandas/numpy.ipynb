{
 "cells": [
  {
   "cell_type": "markdown",
   "source": [
    "NumPy is a widely used library in Python for numerical computing. Some of the most popular commands and functions in NumPy include:\n",
    "\n",
    "1. Array Creation:\n",
    "   - `numpy.array`: Creates a NumPy array from a Python list or tuple.\n",
    "   - `numpy.zeros`: Creates an array filled with zeros.\n",
    "   - `numpy.ones`: Creates an array filled with ones.\n",
    "   - `numpy.arange`: Creates an array with regularly spaced values.\n",
    "   - `numpy.linspace`: Creates an array with a specified number of evenly spaced values.\n",
    "\n",
    "2. Array Manipulation:\n",
    "   - `numpy.reshape`: Reshapes an array into a different shape.\n",
    "   - `numpy.concatenate`: Concatenates multiple arrays along a specified axis.\n",
    "   - `numpy.transpose`: Transposes an array (switches dimensions).\n",
    "   - `numpy.flatten`: Flattens a multi-dimensional array into a 1D array.\n",
    "   - `numpy.squeeze`: Removes single-dimensional entries from the shape of an array.\n",
    "\n",
    "3. Mathematical Operations:\n",
    "   - `numpy.add`, `numpy.subtract`, `numpy.multiply`, `numpy.divide`: Perform element-wise arithmetic operations between arrays.\n",
    "   - `numpy.dot`: Computes the dot product of two arrays.\n",
    "   - `numpy.sum`, `numpy.mean`, `numpy.min`, `numpy.max`: Perform common mathematical operations on arrays, such as sum, mean, minimum, and maximum.\n",
    "   - `numpy.sqrt`, `numpy.exp`, `numpy.sin`, `numpy.cos`: Apply various mathematical functions element-wise to an array.\n",
    "\n",
    "4. Indexing and Slicing:\n",
    "   - `numpy.ndarray[index]`: Accesses elements of an array using indexing.\n",
    "   - `numpy.ndarray[start:end:step]`: Performs array slicing to extract a subset of elements.\n",
    "   - `numpy.where`: Returns indices that satisfy a condition.\n",
    "   - `numpy.argmax`, `numpy.argmin`: Returns the indices of the maximum and minimum values in an array.\n",
    "\n",
    "5. Random Number Generation:\n",
    "   - `numpy.random.rand`: Generates random numbers from a uniform distribution.\n",
    "   - `numpy.random.randn`: Generates random numbers from a standard normal distribution.\n",
    "   - `numpy.random.randint`: Generates random integers within a specified range.\n",
    "   - `numpy.random.choice`: Generates a random sample from an array.\n",
    "\n",
    "These are just a few of the many commands and functions available in NumPy. NumPy provides a comprehensive set of tools for array manipulation, mathematical operations, indexing, slicing, and random number generation, making it a fundamental library for scientific computing and data analysis in Python."
   ],
   "metadata": {
    "collapsed": false
   }
  },
  {
   "cell_type": "code",
   "execution_count": null,
   "outputs": [],
   "source": [],
   "metadata": {
    "collapsed": false
   }
  }
 ],
 "metadata": {
  "kernelspec": {
   "display_name": "Python 3",
   "language": "python",
   "name": "python3"
  },
  "language_info": {
   "codemirror_mode": {
    "name": "ipython",
    "version": 2
   },
   "file_extension": ".py",
   "mimetype": "text/x-python",
   "name": "python",
   "nbconvert_exporter": "python",
   "pygments_lexer": "ipython2",
   "version": "2.7.6"
  }
 },
 "nbformat": 4,
 "nbformat_minor": 0
}
