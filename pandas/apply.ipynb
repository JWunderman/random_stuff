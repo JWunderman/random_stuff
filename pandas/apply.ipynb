{
 "cells": [
  {
   "cell_type": "markdown",
   "source": [
    "iteritems()\n",
    "iterrows()\n",
    "itertuples()"
   ],
   "metadata": {
    "collapsed": false
   }
  },
  {
   "cell_type": "markdown",
   "source": [
    "## Apply"
   ],
   "metadata": {
    "collapsed": false
   }
  },
  {
   "cell_type": "markdown",
   "source": [
    "Performance: The apply method can be slower compared to other built-in vectorized operations in Pandas or NumPy. This is because apply applies the function row-wise or column-wise, which involves iterating over each element or row. In scenarios where performance is critical, using vectorized operations or specialized Pandas methods can often be faster."
   ],
   "metadata": {
    "collapsed": false
   }
  },
  {
   "cell_type": "markdown",
   "source": [
    "Why is \"apply\" not so great?"
   ],
   "metadata": {
    "collapsed": false
   }
  },
  {
   "cell_type": "markdown",
   "source": [
    "## Using Transform instead of Apply"
   ],
   "metadata": {
    "collapsed": false
   }
  },
  {
   "cell_type": "markdown",
   "source": [
    "The `transform` method in Pandas is often a better choice than `apply` in the following scenarios:\n",
    "\n",
    "1. Aggregation: When you need to perform aggregation operations, such as calculating group-wise statistics, and want to preserve the original shape of the DataFrame, `transform` is a better option. It allows you to apply an aggregation function to each group independently and returns a Series or DataFrame with the same shape as the original DataFrame, where the aggregated values are aligned with the corresponding groups.\n",
    "\n",
    "2. Broadcasting: If you want to broadcast a scalar value or a value computed from the entire group to every element within the group, `transform` is more suitable. It enables you to perform group-wise calculations and propagate the result to each individual element, maintaining the original shape of the DataFrame.\n",
    "\n",
    "3. Efficient Computation: Compared to `apply`, `transform` can offer performance benefits in certain cases. Since `transform` operates on each group independently, it can leverage NumPy's optimized operations and avoid unnecessary iterations. This can lead to faster execution times, especially when dealing with large datasets or complex calculations.\n",
    "\n",
    "4. Combined Operations: If you need to perform multiple calculations within each group and want to avoid redundant computations, `transform` is advantageous. It allows you to apply multiple functions simultaneously and efficiently compute various statistics or derived features within each group, eliminating the need for multiple passes over the data.\n",
    "\n",
    "To summarize, `transform` is particularly useful when performing group-wise operations that require aggregations, broadcasting, efficient computation, or combining multiple calculations. It offers better performance and preserves the shape of the DataFrame, making it a powerful tool for data manipulation and analysis tasks in Pandas."
   ],
   "metadata": {
    "collapsed": false
   }
  },
  {
   "cell_type": "markdown",
   "source": [
    "## Using np.where instead"
   ],
   "metadata": {
    "collapsed": false
   },
   "execution_count": 1
  },
  {
   "cell_type": "markdown",
   "source": [
    "Using `numpy.where` in combination with Pandas can improve performance in certain scenarios by leveraging the efficiency of NumPy's vectorized operations. Here are a few ways you can utilize `numpy.where` to enhance the performance of Pandas:\n",
    "\n",
    "1. Conditional Assignment: Instead of using a loop or `apply` function to assign values based on a condition, you can use `numpy.where` to perform conditional assignment in a vectorized manner. This avoids the need for iterative operations.\n",
    "\n",
    "2. Filtering: When filtering a DataFrame based on a condition, `numpy.where` can be used to create a boolean mask. This mask can then be used to filter rows or select specific columns efficiently.\n",
    "\n",
    "3. Element-wise Operations: For element-wise operations on DataFrame columns, `numpy.where` can be used to apply the operation conditionally. This allows you to perform operations on selected elements based on a condition, improving performance compared to using loops or `apply` functions.\n",
    "\n",
    "4. Handling Missing Values: `numpy.where` can be used to fill missing values in a DataFrame column based on a condition. This enables efficient replacement of missing values with a specific value or a calculated value.\n"
   ],
   "metadata": {
    "collapsed": false
   }
  },
  {
   "cell_type": "code",
   "execution_count": 3,
   "outputs": [],
   "source": [
    "import numpy as np\n",
    "import pandas as pd"
   ],
   "metadata": {
    "collapsed": false
   }
  },
  {
   "cell_type": "markdown",
   "source": [
    "### Conditional Assignment"
   ],
   "metadata": {
    "collapsed": false
   }
  },
  {
   "cell_type": "code",
   "execution_count": null,
   "outputs": [],
   "source": [
    "# Create a DataFrame\n",
    "df = pd.DataFrame({'A': [1, 2, 3, 4, 5]})\n",
    "\n",
    "# Use np.where for conditional assignment\n",
    "df['B'] = np.where(df['A'] > 3, 'High', 'Low')\n",
    "\n",
    "print(df)\n"
   ],
   "metadata": {
    "collapsed": false
   }
  },
  {
   "cell_type": "markdown",
   "source": [
    "### Filtering"
   ],
   "metadata": {
    "collapsed": false
   }
  },
  {
   "cell_type": "code",
   "execution_count": null,
   "outputs": [],
   "source": [
    "# Create a DataFrame\n",
    "df = pd.DataFrame({'A': [1, 2, 3, 4, 5]})\n",
    "\n",
    "# Filter rows using np.where\n",
    "filtered_df = df[np.where(df['A'] > 3, True, False)]\n",
    "\n",
    "print(filtered_df)\n"
   ],
   "metadata": {
    "collapsed": false
   }
  },
  {
   "cell_type": "markdown",
   "source": [
    "### Element-wise Operation"
   ],
   "metadata": {
    "collapsed": false
   }
  },
  {
   "cell_type": "code",
   "execution_count": null,
   "outputs": [],
   "source": [
    "# Create a DataFrame\n",
    "df = pd.DataFrame({'A': [1, 2, 3, 4, 5]})\n",
    "\n",
    "# Apply element-wise operation using np.where\n",
    "df['B'] = np.where(df['A'] > 3, df['A'] * 2, df['A'] * 3)\n",
    "\n",
    "print(df)\n"
   ],
   "metadata": {
    "collapsed": false
   }
  },
  {
   "cell_type": "markdown",
   "source": [
    "### Handling Missing Values"
   ],
   "metadata": {
    "collapsed": false
   }
  },
  {
   "cell_type": "code",
   "execution_count": null,
   "outputs": [],
   "source": [
    "# Create a DataFrame with missing values\n",
    "df = pd.DataFrame({'A': [1, np.nan, 3, np.nan, 5]})\n",
    "\n",
    "# Fill missing values using np.where\n",
    "df['A'] = np.where(df['A'].isnull(), 0, df['A'])\n",
    "\n",
    "print(df)\n"
   ],
   "metadata": {
    "collapsed": false
   }
  }
 ],
 "metadata": {
  "kernelspec": {
   "display_name": "Python 3",
   "language": "python",
   "name": "python3"
  },
  "language_info": {
   "codemirror_mode": {
    "name": "ipython",
    "version": 2
   },
   "file_extension": ".py",
   "mimetype": "text/x-python",
   "name": "python",
   "nbconvert_exporter": "python",
   "pygments_lexer": "ipython2",
   "version": "2.7.6"
  }
 },
 "nbformat": 4,
 "nbformat_minor": 0
}
