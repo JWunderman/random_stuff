{
 "cells": [
  {
   "cell_type": "markdown",
   "source": [
    "# Aggregations"
   ],
   "metadata": {
    "collapsed": false
   }
  },
  {
   "cell_type": "markdown",
   "source": [
    "In Pandas, the `df.agg('mean')` and `df.agg` are two different ways of using the `agg` function to perform aggregation operations on a DataFrame.\n",
    "\n",
    "When you use `df.agg('mean')`, you are specifying a specific aggregation function to apply to each column of the DataFrame. In this case, `'mean'` is passed as an argument, indicating that you want to compute the mean (average) value for each column. The result will be a Series where the index represents the columns of the DataFrame, and the values correspond to the mean value of each column.\n",
    "\n",
    "On the other hand, when you use `df.agg` without specifying a specific function, it behaves differently. In this case, the `agg` function is used to apply one or more aggregation operations to the columns of the DataFrame. It can take different types of arguments to specify the aggregation operations. For example, you can pass a list of functions as arguments to compute multiple aggregations at once.\n",
    "\n",
    "Here's an example to illustrate the difference:"
   ],
   "metadata": {
    "collapsed": false
   }
  },
  {
   "cell_type": "code",
   "execution_count": null,
   "outputs": [],
   "source": [
    "import pandas as pd\n",
    "\n",
    "df = pd.DataFrame({'A': [1, 2, 3], 'B': [4, 5, 6]})\n",
    "\n",
    "# Using df.agg('mean')\n",
    "result1 = df.agg('mean')\n",
    "print(result1)\n",
    "# Output:\n",
    "# A    2.0\n",
    "# B    5.0\n",
    "# dtype: float64\n",
    "\n",
    "# Using df.agg without specifying a function\n",
    "result2 = df.agg(['mean', 'sum'])\n",
    "print(result2)\n",
    "# Output:\n",
    "#        A   B\n",
    "# mean   2   5\n",
    "# sum    6  15"
   ],
   "metadata": {
    "collapsed": false
   }
  },
  {
   "cell_type": "markdown",
   "source": [
    "\n",
    "\n",
    "In the first example (`df.agg('mean')`), the mean value for each column is computed separately, resulting in a Series with column names as indices and mean values as values. In the second example (`df.agg(['mean', 'sum'])`), multiple aggregation operations (mean and sum) are applied to each column, resulting in a DataFrame with the specified operations as columns and column names as indices.\n",
    "\n",
    "In summary, `df.agg('mean')` applies a specific aggregation function (mean in this case) to each column separately and returns a Series, while `df.agg` without specifying a function allows you to apply multiple aggregation operations to the columns and returns a DataFrame with the results."
   ],
   "metadata": {
    "collapsed": false
   }
  },
  {
   "cell_type": "markdown",
   "source": [
    "## More Examples"
   ],
   "metadata": {
    "collapsed": false
   }
  },
  {
   "cell_type": "code",
   "execution_count": null,
   "outputs": [],
   "source": [
    "# Count of values that meet some criteria, use .sum\n",
    "s.gt(20).sum()\n",
    "\n",
    "# Percentage of values that meet some criteria, use .mean()\n",
    "s.gt(20).mul(100).mean()"
   ],
   "metadata": {
    "collapsed": false
   }
  },
  {
   "cell_type": "code",
   "execution_count": null,
   "outputs": [],
   "source": [
    "# Defining own agg\n",
    "\n",
    "import numpy as np\n",
    "def second_to_last (s):\n",
    "    return s.iloc [-2]\n",
    "\n",
    "s.agg(['mean ', np.var , max , second_to_last ])"
   ],
   "metadata": {
    "collapsed": false
   }
  },
  {
   "cell_type": "markdown",
   "source": [
    "## String Aggregations"
   ],
   "metadata": {
    "collapsed": false
   }
  },
  {
   "cell_type": "markdown",
   "source": [
    "```\n",
    "'all' Returns True if every value is truthy.\n",
    "'any' Returns True if any value is truthy.\n",
    "'autocorr' Returns Pearson correlation of series with shifted\n",
    "self. Can override lag as keyword\n",
    "argument(default is 1).\n",
    "'corr' Returns Pearson correlation of series with other\n",
    "series. Need to specify other.\n",
    "'count' Returns count of non-missing values.\n",
    "'cov' Return covariance of series with other series. Need to\n",
    "specify other.\n",
    "'dtype' Type of the series.\n",
    "'dtypes' Type of the series.\n",
    "'empty' True if no values in series.\n",
    "'hasnans' True if missing values in series.\n",
    "'idxmax' Returns index value of maximum value.\n",
    "'idxmin' Returns index value of minimum value.\n",
    "'is_monotonic' True if values always increase.\n",
    "'is_monotonic_decreasing' True if values always decrease.\n",
    "'is_monotonic_increasing' True if values always increase.\n",
    "'kurt' Return ”excess” kurtosis (0 is normal distribution).\n",
    "Values greater than 0 have more outliers than\n",
    "normal.\n",
    "'mad' Return the mean absolute deviation.\n",
    "'max' Return the maximum value.\n",
    "'mean' Return the mean value.\n",
    "'median' Return the median value.\n",
    "'min' Return the minimum value.\n",
    "'nbytes' Return the number of bytes of the data.\n",
    "'ndim' Return the number of dimensions (1) of the data.\n",
    "'nunique' Return the count of unique values.\n",
    "'quantile' Return the median value. Can override q to specify\n",
    "other quantile.\n",
    "'sem' Return the unbiased standard error.\n",
    "'size' Return the size of the data.\n",
    "'skew' Return the unbiased skew of the data. Negative\n",
    "indicates tail is on the left side.\n",
    "'std' Return the standard deviation of the data.\n",
    "'sum' Return the sum of the series.\n",
    "```"
   ],
   "metadata": {
    "collapsed": false
   }
  },
  {
   "cell_type": "code",
   "execution_count": null,
   "outputs": [],
   "source": [],
   "metadata": {
    "collapsed": false
   }
  }
 ],
 "metadata": {
  "kernelspec": {
   "display_name": "Python 3",
   "language": "python",
   "name": "python3"
  },
  "language_info": {
   "codemirror_mode": {
    "name": "ipython",
    "version": 2
   },
   "file_extension": ".py",
   "mimetype": "text/x-python",
   "name": "python",
   "nbconvert_exporter": "python",
   "pygments_lexer": "ipython2",
   "version": "2.7.6"
  }
 },
 "nbformat": 4,
 "nbformat_minor": 0
}
