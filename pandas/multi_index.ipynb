{
 "cells": [
  {
   "cell_type": "markdown",
   "source": [
    "# Multiindex Pandas"
   ],
   "metadata": {
    "collapsed": false
   }
  },
  {
   "cell_type": "markdown",
   "source": [
    "\n",
    "### 1. Slicing with `.loc`:"
   ],
   "metadata": {
    "collapsed": false
   }
  },
  {
   "cell_type": "code",
   "execution_count": null,
   "outputs": [],
   "source": [
    "import pandas as pd\n",
    "\n",
    "# Create a sample DataFrame with MultiIndex for rows and columns\n",
    "index = pd.MultiIndex.from_product([['A', 'B'], ['X', 'Y']], names=['Letter', 'Code'])\n",
    "columns = pd.MultiIndex.from_product([['I', 'II'], ['One', 'Two']], names=['Number', 'Category'])\n",
    "data = [[1, 2, 3, 4], [5, 6, 7, 8], [9, 10, 11, 12], [13, 14, 15, 16]]\n",
    "df = pd.DataFrame(data, index=index, columns=columns)\n",
    "\n",
    "# Slicing rows and columns using .loc\n",
    "print(df.loc['A', 'I'])  # Single cell\n",
    "print(df.loc[('A', 'X')])  # Single row\n",
    "print(df.loc[('A', 'X'):('B', 'Y'), ('I', 'One'):('II', 'Two')])  # Sub DataFrame\n"
   ],
   "metadata": {
    "collapsed": false
   }
  },
  {
   "cell_type": "markdown",
   "source": [
    "\n",
    "### 2. Slicing with `.xs`:"
   ],
   "metadata": {
    "collapsed": false
   },
   "execution_count": 1
  },
  {
   "cell_type": "code",
   "execution_count": null,
   "outputs": [],
   "source": [
    "import pandas as pd\n",
    "\n",
    "# Create a sample DataFrame with MultiIndex for rows and columns\n",
    "index = pd.MultiIndex.from_product([['A', 'B'], ['X', 'Y']], names=['Letter', 'Code'])\n",
    "columns = pd.MultiIndex.from_product([['I', 'II'], ['One', 'Two']], names=['Number', 'Category'])\n",
    "data = [[1, 2, 3, 4], [5, 6, 7, 8], [9, 10, 11, 12], [13, 14, 15, 16]]\n",
    "df = pd.DataFrame(data, index=index, columns=columns)\n",
    "\n",
    "# Slicing rows using .xs\n",
    "print(df.xs('A', level='Letter'))  # Rows with 'A' in 'Letter' level\n",
    "print(df.xs(('A', 'X')))  # Single row with ('A', 'X') in both levels\n",
    "\n",
    "# Slicing columns using .xs\n",
    "print(df.xs('I', level='Number', axis=1))  # Columns with 'I' in 'Number' level\n",
    "print(df.xs(('I', 'One'), level=('Number', 'Category'), axis=1))  # Single column with ('I', 'One') in both levels"
   ],
   "metadata": {
    "collapsed": false
   }
  },
  {
   "cell_type": "markdown",
   "source": [
    "\n",
    "The `.loc` method allows you to slice a MultiIndex DataFrame using label-based indexing. You can provide the labels for each level of the MultiIndex to specify the desired rows or columns.\n",
    "\n",
    "On the other hand, the `.xs` method allows you to cross-section a MultiIndex DataFrame along a particular level or levels, without explicitly specifying the labels for other levels. It provides a more concise way to slice data by ignoring the levels not mentioned.\n",
    "\n",
    "Both `.loc` and `.xs` methods are useful for slicing MultiIndex DataFrames, and their usage depends on the specific slicing needs and preferences."
   ],
   "metadata": {
    "collapsed": false
   }
  },
  {
   "cell_type": "markdown",
   "source": [
    "## Using `slice` function"
   ],
   "metadata": {
    "collapsed": false
   }
  },
  {
   "cell_type": "code",
   "execution_count": null,
   "outputs": [],
   "source": [
    "import pandas as pd\n",
    "\n",
    "# Create a sample DataFrame with MultiIndex for rows and columns\n",
    "index = pd.MultiIndex.from_product([['A', 'B'], ['X', 'Y', 'Z']], names=['Letter', 'Code'])\n",
    "columns = pd.MultiIndex.from_product([['I', 'II'], ['One', 'Two']], names=['Number', 'Category'])\n",
    "data = [[1, 2, 3, 4], [5, 6, 7, 8], [9, 10, 11, 12], [13, 14, 15, 16], [17, 18, 19, 20], [21, 22, 23, 24]]\n",
    "df = pd.DataFrame(data, index=index, columns=columns)\n",
    "\n",
    "# Slicing using slice() with MultiIndex DataFrame\n",
    "row_slice = pd.IndexSlice\n",
    "col_slice = pd.IndexSlice\n",
    "\n",
    "# Slice rows and columns using slice()\n",
    "print(df.loc[row_slice['A':'B'], col_slice[:, 'One']])\n",
    "\n",
    "# Slice rows using slice() with specific levels\n",
    "print(df.loc[row_slice[:, 'Y':'Z'], :])\n",
    "\n",
    "# Slice columns using slice() with specific levels\n",
    "print(df.loc[:, col_slice['I', :]])\n",
    "\n",
    "# Slice rows and columns simultaneously using slice()\n",
    "print(df.loc[row_slice['A':'B'], col_slice['I', 'One']])"
   ],
   "metadata": {
    "collapsed": false
   }
  },
  {
   "cell_type": "markdown",
   "source": [
    "\n",
    "\n",
    "In this example, the `slice()` function from the `pandas` library is used to define slices for row and column indexing with the MultiIndex DataFrame.\n",
    "\n",
    "The `row_slice` and `col_slice` variables are created using `pd.IndexSlice` to define the slices. Then, these slices are used in conjunction with the `.loc` accessor to perform the desired slicing.\n",
    "\n",
    "- `df.loc[row_slice['A':'B'], col_slice[:, 'One']]` slices rows from 'A' to 'B' (inclusive) and columns with the 'One' category in the second level of the MultiIndex.\n",
    "- `df.loc[row_slice[:, 'Y':'Z'], :]` slices rows with the 'Y' to 'Z' (inclusive) code in the second level of the MultiIndex, and selects all columns.\n",
    "- `df.loc[:, col_slice['I', :]]` slices columns with the 'I' number in the first level of the MultiIndex and selects all rows.\n",
    "- `df.loc[row_slice['A':'B'], col_slice['I', 'One']]` slices rows from 'A' to 'B' (inclusive) and columns with the 'I' number and 'One' category in the MultiIndex.\n",
    "\n",
    "By using the `slice()` function in combination with `.loc`, you can easily slice MultiIndex DataFrames in a concise and readable manner."
   ],
   "metadata": {
    "collapsed": false
   }
  },
  {
   "cell_type": "code",
   "execution_count": null,
   "outputs": [],
   "source": [],
   "metadata": {
    "collapsed": false
   }
  }
 ],
 "metadata": {
  "kernelspec": {
   "display_name": "Python 3",
   "language": "python",
   "name": "python3"
  },
  "language_info": {
   "codemirror_mode": {
    "name": "ipython",
    "version": 2
   },
   "file_extension": ".py",
   "mimetype": "text/x-python",
   "name": "python",
   "nbconvert_exporter": "python",
   "pygments_lexer": "ipython2",
   "version": "2.7.6"
  }
 },
 "nbformat": 4,
 "nbformat_minor": 0
}
