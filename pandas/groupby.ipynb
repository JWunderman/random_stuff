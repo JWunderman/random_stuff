{
 "cells": [
  {
   "cell_type": "markdown",
   "source": [
    "## Using pd.Grouper object"
   ],
   "metadata": {
    "collapsed": false
   }
  },
  {
   "cell_type": "markdown",
   "source": [
    "In Pandas, the `Grouper` object is used to define grouping specifications for aggregating data based on one or more columns or index levels. It provides a flexible and powerful way to group data within DataFrames or Series. Here are five examples that demonstrate how to use the `Grouper` object in Pandas:\n",
    "\n",
    "1. Grouping by a Single Column:\n",
    "   Group a DataFrame by a single column using the `Grouper` object and calculate the sum of another column within each group.\n",
    "\n",
    "   ```python\n",
    "   grouped = df.groupby(pd.Grouper(key='column_name')).sum()\n",
    "   ```\n",
    "\n",
    "2. Grouping by Multiple Columns:\n",
    "   Group a DataFrame by multiple columns using the `Grouper` object and compute the mean of a specific column within each group.\n",
    "\n",
    "   ```python\n",
    "   grouped = df.groupby([pd.Grouper(key='column1'), pd.Grouper(key='column2')]).mean()\n",
    "   ```\n",
    "\n",
    "3. Grouping by Time Frequency:\n",
    "   Group a DataFrame by a specific time frequency (e.g., hourly) using the `Grouper` object and calculate the count of records within each time period.\n",
    "\n",
    "   ```python\n",
    "   grouped = df.groupby(pd.Grouper(freq='H')).count()\n",
    "   ```\n",
    "\n",
    "4. Grouping by Time Period:\n",
    "   Group a DataFrame by a specific time period (e.g., month) using the `Grouper` object and calculate the maximum value of a column within each period.\n",
    "\n",
    "   ```python\n",
    "   grouped = df.groupby(pd.Grouper(freq='M')).max()\n",
    "   ```\n",
    "\n",
    "5. Grouping by Index Levels:\n",
    "   Group a DataFrame by index levels using the `Grouper` object and apply a custom aggregation function to each group.\n",
    "\n",
    "   ```python\n",
    "   grouped = df.groupby([pd.Grouper(level='index_level1'), pd.Grouper(level='index_level2')]).apply(custom_function)\n",
    "   ```\n",
    "\n",
    "In each example, the `Grouper` object is used to define the grouping specifications within the `groupby()` function. It allows for grouping by columns, time frequencies or periods, and index levels. This enables you to perform various aggregation operations on grouped data, such as calculating sums, means, counts, or applying custom functions."
   ],
   "metadata": {
    "collapsed": false
   }
  },
  {
   "cell_type": "markdown",
   "source": [
    "The `Grouper` object in Pandas is used to define grouping specifications when performing aggregations on data. It provides a flexible and powerful way to group data based on different criteria, such as time periods, specific columns, or index levels. Here are a few reasons why you might want to use a `Grouper` object in Pandas:\n",
    "\n",
    "1. Time-Based Aggregations:\n",
    "   The `Grouper` object is particularly useful for time-based data analysis. It allows you to group data into specific time periods, such as daily, weekly, monthly, or custom frequencies. This simplifies time-based aggregations and calculations, such as calculating sums, means, counts, or applying custom functions within each time period.\n",
    "\n",
    "2. Multi-Level Indexing:\n",
    "   When working with multi-indexed DataFrames, the `Grouper` object helps in grouping data based on specific index levels. It allows you to aggregate data at different levels of the index hierarchy, providing a convenient way to analyze and summarize data across multiple dimensions.\n",
    "\n",
    "3. Flexibility in Column-Based Grouping:\n",
    "   With the `Grouper` object, you can group data based on specific columns or combinations of columns. This flexibility enables you to define custom groupings beyond simple column names, such as grouping by categories, subcategories, or other criteria, providing more granular control over your aggregations.\n",
    "\n",
    "4. Resampling and Frequency Conversion:\n",
    "   The `Grouper` object works seamlessly with the `resample()` function in Pandas. It allows you to resample time series data at different frequencies, such as upsampling or downsampling, and apply aggregations within each time period. This is valuable for analyzing and summarizing time series data at various resolutions.\n",
    "\n",
    "5. Custom Aggregation Functions:\n",
    "   The `Grouper` object allows you to apply custom aggregation functions to each group. This flexibility is useful when you need to perform complex calculations or apply specific logic within each group, beyond standard aggregations provided by Pandas.\n",
    "\n",
    "By utilizing the `Grouper` object, you can leverage its powerful functionality to perform group-based aggregations, time-based analyses, multi-level indexing, and custom calculations, enabling you to extract meaningful insights from your data in a structured and efficient manner."
   ],
   "metadata": {
    "collapsed": false
   }
  },
  {
   "cell_type": "markdown",
   "source": [
    "Here's an example of using two `Grouper` objects in Pandas:"
   ],
   "metadata": {
    "collapsed": false
   }
  },
  {
   "cell_type": "code",
   "execution_count": 22,
   "outputs": [],
   "source": [
    "\n",
    "import pandas as pd\n",
    "import numpy as np\n",
    "\n",
    "# Create a DataFrame\n",
    "data = {\n",
    "    'Category': ['A', 'A', 'B', 'B', 'B'],\n",
    "    'Subcategory': ['X', 'Y', 'X', 'Y', 'Z'],\n",
    "    'Value': [10, 20, 30, 40, 50]\n",
    "}\n",
    "df = pd.DataFrame(data)\n",
    "\n",
    "# Grouping using two Grouper objects\n",
    "grouped = df.groupby([pd.Grouper(key='Category'), pd.Grouper(key='Subcategory')]).sum()\n"
   ],
   "metadata": {
    "collapsed": false
   }
  },
  {
   "cell_type": "code",
   "execution_count": 23,
   "outputs": [
    {
     "data": {
      "text/plain": "                      Value\nCategory Subcategory       \nA        X               10\n         Y               20\nB        X               30\n         Y               40\n         Z               50",
      "text/html": "<div>\n<style scoped>\n    .dataframe tbody tr th:only-of-type {\n        vertical-align: middle;\n    }\n\n    .dataframe tbody tr th {\n        vertical-align: top;\n    }\n\n    .dataframe thead th {\n        text-align: right;\n    }\n</style>\n<table border=\"1\" class=\"dataframe\">\n  <thead>\n    <tr style=\"text-align: right;\">\n      <th></th>\n      <th></th>\n      <th>Value</th>\n    </tr>\n    <tr>\n      <th>Category</th>\n      <th>Subcategory</th>\n      <th></th>\n    </tr>\n  </thead>\n  <tbody>\n    <tr>\n      <th rowspan=\"2\" valign=\"top\">A</th>\n      <th>X</th>\n      <td>10</td>\n    </tr>\n    <tr>\n      <th>Y</th>\n      <td>20</td>\n    </tr>\n    <tr>\n      <th rowspan=\"3\" valign=\"top\">B</th>\n      <th>X</th>\n      <td>30</td>\n    </tr>\n    <tr>\n      <th>Y</th>\n      <td>40</td>\n    </tr>\n    <tr>\n      <th>Z</th>\n      <td>50</td>\n    </tr>\n  </tbody>\n</table>\n</div>"
     },
     "execution_count": 23,
     "metadata": {},
     "output_type": "execute_result"
    }
   ],
   "source": [
    "grouped"
   ],
   "metadata": {
    "collapsed": false
   }
  },
  {
   "cell_type": "markdown",
   "source": [
    "In this example, we create a DataFrame with columns 'Category', 'Subcategory', and 'Value'. To group the data using two `Grouper` objects, we pass a list of the `Grouper` objects to the `groupby()` function. Here, we group the DataFrame by 'Category' and 'Subcategory'.\n",
    "\n",
    "The resulting grouped DataFrame will show the sum of the 'Value' column for each unique combination of 'Category' and 'Subcategory'."
   ],
   "metadata": {
    "collapsed": false
   }
  },
  {
   "cell_type": "code",
   "execution_count": null,
   "outputs": [],
   "source": [],
   "metadata": {
    "collapsed": false
   }
  },
  {
   "cell_type": "code",
   "execution_count": null,
   "outputs": [],
   "source": [],
   "metadata": {
    "collapsed": false
   }
  },
  {
   "cell_type": "code",
   "execution_count": null,
   "outputs": [],
   "source": [],
   "metadata": {
    "collapsed": false
   }
  },
  {
   "cell_type": "code",
   "execution_count": null,
   "outputs": [],
   "source": [],
   "metadata": {
    "collapsed": false
   }
  },
  {
   "cell_type": "markdown",
   "source": [
    "\n",
    "### Example 1: Multi-level Group By with Different Aggregations for Each Column"
   ],
   "metadata": {
    "collapsed": false
   }
  },
  {
   "cell_type": "code",
   "execution_count": null,
   "outputs": [],
   "source": [
    "\n",
    "#In this example, let's say we have sales data and we want to group by both the `region` and the `product_type`, calculating the total sales, average sales, and total number of #transactions for each combination.\n",
    "\n",
    "import pandas as pd\n",
    "\n",
    "# Creating a sample DataFrame\n",
    "data = {\n",
    "    'date': pd.to_datetime(['2023-01-01', '2023-01-01', '2023-01-02', '2023-01-02', '2023-01-03', '2023-01-03']),\n",
    "    'region': ['North', 'South', 'North', 'South', 'North', 'South'],\n",
    "    'product_type': ['A', 'B', 'A', 'B', 'A', 'B'],\n",
    "    'sales': [100, 200, 300, 400, 500, 600]\n",
    "}\n",
    "df = pd.DataFrame(data)\n",
    "\n",
    "# Group by multiple columns and applying different aggregation functions to each column\n",
    "result = df.groupby(['region', 'product_type']).agg(total_sales=pd.NamedAgg(column='sales', aggfunc='sum'),\n",
    "                                                    average_sales=pd.NamedAgg(column='sales', aggfunc='mean'),\n",
    "                                                    transaction_count=pd.NamedAgg(column='sales', aggfunc='count'))\n"
   ],
   "metadata": {
    "collapsed": false
   }
  },
  {
   "cell_type": "markdown",
   "source": [
    "\n",
    "### Example 2: Applying Custom Functions during Group By"
   ],
   "metadata": {
    "collapsed": false
   }
  },
  {
   "cell_type": "code",
   "execution_count": null,
   "outputs": [],
   "source": [
    "\n",
    "#Sometimes you may want to apply a custom function to each group.\n",
    "\n",
    "# Defining a custom function to calculate a custom metric\n",
    "def custom_metric(x):\n",
    "    return (x.max() - x.min()) / x.mean()\n",
    "\n",
    "# Applying the custom function to each group\n",
    "custom_result = df.groupby('region')['sales'].agg(custom_metric)\n",
    "print(custom_result)"
   ],
   "metadata": {
    "collapsed": false
   }
  },
  {
   "cell_type": "markdown",
   "source": [
    "\n",
    "### Example 3: Group By with Filtering"
   ],
   "metadata": {
    "collapsed": false
   }
  },
  {
   "cell_type": "code",
   "execution_count": null,
   "outputs": [],
   "source": [
    "\n",
    "#You can filter the groups before applying an aggregation function.\n",
    "\n",
    "# Filtering groups with a lambda function\n",
    "filtered_result = df.groupby('region').filter(lambda x: x['sales'].sum() > 300).groupby('region')['sales'].mean()\n",
    "print(filtered_result)\n",
    "\n",
    "#In this example, regions with total sales less than 300 are excluded before calculating the average sales per region.\n"
   ],
   "metadata": {
    "collapsed": false
   }
  }
 ],
 "metadata": {
  "kernelspec": {
   "display_name": "Python 3",
   "language": "python",
   "name": "python3"
  },
  "language_info": {
   "codemirror_mode": {
    "name": "ipython",
    "version": 2
   },
   "file_extension": ".py",
   "mimetype": "text/x-python",
   "name": "python",
   "nbconvert_exporter": "python",
   "pygments_lexer": "ipython2",
   "version": "2.7.6"
  }
 },
 "nbformat": 4,
 "nbformat_minor": 0
}
