{
 "cells": [
  {
   "cell_type": "markdown",
   "source": [
    "## Converting dtypes"
   ],
   "metadata": {
    "collapsed": false
   }
  },
  {
   "cell_type": "code",
   "execution_count": null,
   "outputs": [],
   "source": [
    "convert_dtypes\n",
    "\n",
    ".astypeb\n"
   ],
   "metadata": {
    "collapsed": false
   }
  },
  {
   "cell_type": "code",
   "execution_count": 2,
   "outputs": [
    {
     "data": {
      "text/plain": "iinfo(min=-9223372036854775808, max=9223372036854775807, dtype=int64)"
     },
     "execution_count": 2,
     "metadata": {},
     "output_type": "execute_result"
    }
   ],
   "source": [
    "import numpy as np\n",
    "\n",
    "np.iinfo('int64')"
   ],
   "metadata": {
    "collapsed": false
   }
  },
  {
   "cell_type": "code",
   "execution_count": 3,
   "outputs": [
    {
     "data": {
      "text/plain": "iinfo(min=0, max=255, dtype=uint8)"
     },
     "execution_count": 3,
     "metadata": {},
     "output_type": "execute_result"
    }
   ],
   "source": [
    "\n",
    "np.iinfo('uint8')"
   ],
   "metadata": {
    "collapsed": false
   }
  },
  {
   "cell_type": "code",
   "execution_count": 4,
   "outputs": [
    {
     "data": {
      "text/plain": "finfo(resolution=0.001, min=-6.55040e+04, max=6.55040e+04, dtype=float16)"
     },
     "execution_count": 4,
     "metadata": {},
     "output_type": "execute_result"
    }
   ],
   "source": [
    "\n",
    "np.finfo('float16')"
   ],
   "metadata": {
    "collapsed": false
   }
  },
  {
   "cell_type": "code",
   "execution_count": 5,
   "outputs": [
    {
     "data": {
      "text/plain": "finfo(resolution=1e-15, min=-1.7976931348623157e+308, max=1.7976931348623157e+308, dtype=float64)"
     },
     "execution_count": 5,
     "metadata": {},
     "output_type": "execute_result"
    }
   ],
   "source": [
    "\n",
    "np.finfo('float64')\n"
   ],
   "metadata": {
    "collapsed": false
   }
  },
  {
   "cell_type": "markdown",
   "source": [
    "## Memory Usage"
   ],
   "metadata": {
    "collapsed": false
   }
  },
  {
   "cell_type": "code",
   "execution_count": null,
   "outputs": [],
   "source": [
    ".nbytes\n",
    "\n",
    ".memory_usage"
   ],
   "metadata": {
    "collapsed": false
   }
  },
  {
   "cell_type": "markdown",
   "source": [
    "```\n",
    "s.convert_dtypes(infer_objects=True,convert_string=True, convert_integer=True,convert_boolean=True, convert_floating=True)\n",
    "Convert types to appropriate pandas 1 types (that support NA). Doesn’t try to reduce size of integer or float types.\n",
    "\n",
    "s.astype(dtype, copy=True, errors='raise') Cast series into particular type. If errors='ignore' then return original series on error.\n",
    "\n",
    "pd.to_datetime(arg, errors='raise', dayfirst=False,yearfirst=False, utc=None, format=None,exact=True, unit=None,infer_datetime_format=False, origin='unix',cache=True)\n",
    "Convert arg (a series) into datetime. Use format to specify strftime string.\n",
    "\n",
    "s.to_numpy(dtype=None, copy=False,na_value=object,**kwargs) - Convert the series to a NumPy array.\n",
    "\n",
    "s.values Convert the series to a NumPy array.\n",
    "\n",
    "s.to_frame(name=None) Return a dataframe representation of the series.\n",
    "\n",
    "pd.CategoricalDtype(categories=None, ordered=False) Create a type for categorical data.\n",
    "```"
   ],
   "metadata": {
    "collapsed": false
   }
  },
  {
   "cell_type": "markdown",
   "source": [
    "## Exercises"
   ],
   "metadata": {
    "collapsed": false
   }
  },
  {
   "cell_type": "markdown",
   "source": [
    "With a dataset of your choice:\n",
    "1. Convert a numeric column to a smaller type.\n",
    "2. Calculate the memory savings by converting to smaller numeric types.\n",
    "3. Convert a string column into a categorical type.\n",
    "4. Calculate the memory savings by converting to a categorical type."
   ],
   "metadata": {
    "collapsed": false
   }
  },
  {
   "cell_type": "code",
   "execution_count": null,
   "outputs": [],
   "source": [],
   "metadata": {
    "collapsed": false
   }
  }
 ],
 "metadata": {
  "kernelspec": {
   "display_name": "Python 3",
   "language": "python",
   "name": "python3"
  },
  "language_info": {
   "codemirror_mode": {
    "name": "ipython",
    "version": 2
   },
   "file_extension": ".py",
   "mimetype": "text/x-python",
   "name": "python",
   "nbconvert_exporter": "python",
   "pygments_lexer": "ipython2",
   "version": "2.7.6"
  }
 },
 "nbformat": 4,
 "nbformat_minor": 0
}
