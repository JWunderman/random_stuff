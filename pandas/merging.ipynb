{
 "cells": [
  {
   "cell_type": "markdown",
   "source": [
    "## Helper Functions"
   ],
   "metadata": {
    "collapsed": false
   }
  },
  {
   "cell_type": "code",
   "execution_count": 8,
   "outputs": [],
   "source": [
    "from IPython.display import display, HTML\n",
    "\n",
    "def display_side_by_side(*dfs):\n",
    "    html_str = ''\n",
    "    for df in dfs:\n",
    "        html_str += df.to_html().replace('table', 'table style=\"display:inline\"')\n",
    "    display(HTML(html_str))"
   ],
   "metadata": {
    "collapsed": false
   }
  },
  {
   "cell_type": "markdown",
   "source": [
    "Different ways to merge:\n",
    "\n",
    "- merge\n",
    "- join\n",
    "- concat"
   ],
   "metadata": {
    "collapsed": false
   }
  },
  {
   "cell_type": "markdown",
   "source": [
    "## Sample Code"
   ],
   "metadata": {
    "collapsed": false
   }
  },
  {
   "cell_type": "code",
   "execution_count": 12,
   "outputs": [],
   "source": [
    "import pandas as pd\n",
    "\n",
    "# DataFrame 1\n",
    "date_range = pd.date_range(start='2023-01-01', end='2023-01-05')\n",
    "df1 = pd.DataFrame({'Value1': [10, 20, 30, 40, 50]}, index=date_range)\n",
    "\n",
    "# DataFrame 2\n",
    "date_range = pd.date_range(start='2023-01-03', end='2023-01-07')\n",
    "df2 = pd.DataFrame({'Value2': [100, 200, 300, 400, 500]}, index=date_range)\n",
    "\n",
    "# DataFrame 3\n",
    "date_range = pd.date_range(start='2023-01-04', end='2023-01-08')\n",
    "df3 = pd.DataFrame({'Value3': [1000, 2000, 3000, 4000, 5000]}, index=date_range)\n"
   ],
   "metadata": {
    "collapsed": false
   }
  },
  {
   "cell_type": "code",
   "execution_count": 13,
   "outputs": [
    {
     "data": {
      "text/plain": "<IPython.core.display.HTML object>",
      "text/html": "<table style=\"display:inline\" border=\"1\" class=\"dataframe\">\n  <thead>\n    <tr style=\"text-align: right;\">\n      <th></th>\n      <th>Value1</th>\n    </tr>\n  </thead>\n  <tbody>\n    <tr>\n      <th>2023-01-01</th>\n      <td>10</td>\n    </tr>\n    <tr>\n      <th>2023-01-02</th>\n      <td>20</td>\n    </tr>\n    <tr>\n      <th>2023-01-03</th>\n      <td>30</td>\n    </tr>\n    <tr>\n      <th>2023-01-04</th>\n      <td>40</td>\n    </tr>\n    <tr>\n      <th>2023-01-05</th>\n      <td>50</td>\n    </tr>\n  </tbody>\n</table style=\"display:inline\"><table style=\"display:inline\" border=\"1\" class=\"dataframe\">\n  <thead>\n    <tr style=\"text-align: right;\">\n      <th></th>\n      <th>Value2</th>\n    </tr>\n  </thead>\n  <tbody>\n    <tr>\n      <th>2023-01-03</th>\n      <td>100</td>\n    </tr>\n    <tr>\n      <th>2023-01-04</th>\n      <td>200</td>\n    </tr>\n    <tr>\n      <th>2023-01-05</th>\n      <td>300</td>\n    </tr>\n    <tr>\n      <th>2023-01-06</th>\n      <td>400</td>\n    </tr>\n    <tr>\n      <th>2023-01-07</th>\n      <td>500</td>\n    </tr>\n  </tbody>\n</table style=\"display:inline\"><table style=\"display:inline\" border=\"1\" class=\"dataframe\">\n  <thead>\n    <tr style=\"text-align: right;\">\n      <th></th>\n      <th>Value3</th>\n    </tr>\n  </thead>\n  <tbody>\n    <tr>\n      <th>2023-01-04</th>\n      <td>1000</td>\n    </tr>\n    <tr>\n      <th>2023-01-05</th>\n      <td>2000</td>\n    </tr>\n    <tr>\n      <th>2023-01-06</th>\n      <td>3000</td>\n    </tr>\n    <tr>\n      <th>2023-01-07</th>\n      <td>4000</td>\n    </tr>\n    <tr>\n      <th>2023-01-08</th>\n      <td>5000</td>\n    </tr>\n  </tbody>\n</table style=\"display:inline\">"
     },
     "metadata": {},
     "output_type": "display_data"
    }
   ],
   "source": [
    "display_side_by_side(df1,df2,df3)"
   ],
   "metadata": {
    "collapsed": false
   }
  },
  {
   "cell_type": "markdown",
   "source": [
    "## Merge"
   ],
   "metadata": {
    "collapsed": false
   }
  },
  {
   "cell_type": "code",
   "execution_count": 17,
   "outputs": [],
   "source": [
    "merged_df = pd.merge(df1, df2, left_index=True,right_index=True,how='outer')\n",
    "final_df = pd.merge(merged_df, df3, left_index=True,right_index=True,how='outer')"
   ],
   "metadata": {
    "collapsed": false
   }
  },
  {
   "cell_type": "code",
   "execution_count": 18,
   "outputs": [
    {
     "data": {
      "text/plain": "            Value1  Value2  Value3\n2023-01-01    10.0     NaN     NaN\n2023-01-02    20.0     NaN     NaN\n2023-01-03    30.0   100.0     NaN\n2023-01-04    40.0   200.0  1000.0\n2023-01-05    50.0   300.0  2000.0\n2023-01-06     NaN   400.0  3000.0\n2023-01-07     NaN   500.0  4000.0\n2023-01-08     NaN     NaN  5000.0",
      "text/html": "<div>\n<style scoped>\n    .dataframe tbody tr th:only-of-type {\n        vertical-align: middle;\n    }\n\n    .dataframe tbody tr th {\n        vertical-align: top;\n    }\n\n    .dataframe thead th {\n        text-align: right;\n    }\n</style>\n<table border=\"1\" class=\"dataframe\">\n  <thead>\n    <tr style=\"text-align: right;\">\n      <th></th>\n      <th>Value1</th>\n      <th>Value2</th>\n      <th>Value3</th>\n    </tr>\n  </thead>\n  <tbody>\n    <tr>\n      <th>2023-01-01</th>\n      <td>10.0</td>\n      <td>NaN</td>\n      <td>NaN</td>\n    </tr>\n    <tr>\n      <th>2023-01-02</th>\n      <td>20.0</td>\n      <td>NaN</td>\n      <td>NaN</td>\n    </tr>\n    <tr>\n      <th>2023-01-03</th>\n      <td>30.0</td>\n      <td>100.0</td>\n      <td>NaN</td>\n    </tr>\n    <tr>\n      <th>2023-01-04</th>\n      <td>40.0</td>\n      <td>200.0</td>\n      <td>1000.0</td>\n    </tr>\n    <tr>\n      <th>2023-01-05</th>\n      <td>50.0</td>\n      <td>300.0</td>\n      <td>2000.0</td>\n    </tr>\n    <tr>\n      <th>2023-01-06</th>\n      <td>NaN</td>\n      <td>400.0</td>\n      <td>3000.0</td>\n    </tr>\n    <tr>\n      <th>2023-01-07</th>\n      <td>NaN</td>\n      <td>500.0</td>\n      <td>4000.0</td>\n    </tr>\n    <tr>\n      <th>2023-01-08</th>\n      <td>NaN</td>\n      <td>NaN</td>\n      <td>5000.0</td>\n    </tr>\n  </tbody>\n</table>\n</div>"
     },
     "execution_count": 18,
     "metadata": {},
     "output_type": "execute_result"
    }
   ],
   "source": [
    "final_df"
   ],
   "metadata": {
    "collapsed": false
   }
  },
  {
   "cell_type": "markdown",
   "source": [
    "## Join"
   ],
   "metadata": {
    "collapsed": false
   }
  },
  {
   "cell_type": "code",
   "execution_count": null,
   "outputs": [],
   "source": [],
   "metadata": {
    "collapsed": false
   }
  },
  {
   "cell_type": "markdown",
   "source": [
    "## Concat"
   ],
   "metadata": {
    "collapsed": false
   }
  },
  {
   "cell_type": "code",
   "execution_count": null,
   "outputs": [],
   "source": [],
   "metadata": {
    "collapsed": false
   }
  },
  {
   "cell_type": "markdown",
   "source": [],
   "metadata": {
    "collapsed": false
   }
  },
  {
   "cell_type": "code",
   "execution_count": null,
   "outputs": [],
   "source": [],
   "metadata": {
    "collapsed": false
   }
  },
  {
   "cell_type": "code",
   "execution_count": null,
   "outputs": [],
   "source": [],
   "metadata": {
    "collapsed": false
   }
  },
  {
   "cell_type": "code",
   "execution_count": null,
   "outputs": [],
   "source": [],
   "metadata": {
    "collapsed": false
   }
  },
  {
   "cell_type": "code",
   "execution_count": null,
   "outputs": [],
   "source": [],
   "metadata": {
    "collapsed": false
   }
  }
 ],
 "metadata": {
  "kernelspec": {
   "display_name": "Python 3",
   "language": "python",
   "name": "python3"
  },
  "language_info": {
   "codemirror_mode": {
    "name": "ipython",
    "version": 2
   },
   "file_extension": ".py",
   "mimetype": "text/x-python",
   "name": "python",
   "nbconvert_exporter": "python",
   "pygments_lexer": "ipython2",
   "version": "2.7.6"
  }
 },
 "nbformat": 4,
 "nbformat_minor": 0
}
