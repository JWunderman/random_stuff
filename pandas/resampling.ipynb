{
 "cells": [
  {
   "cell_type": "code",
   "execution_count": null,
   "metadata": {
    "collapsed": true
   },
   "outputs": [],
   "source": []
  },
  {
   "cell_type": "markdown",
   "source": [
    "Here are five different examples of using the `df.resample()` method in Pandas:\n",
    "\n",
    "1. Resampling to a Lower Frequency with Mean Aggregation:\n",
    "   Resample a DataFrame to a lower frequency (e.g., from daily to monthly) and calculate the mean of each group.\n",
    "\n",
    "   ```python\n",
    "   df_resampled = df.resample('M').mean()\n",
    "   ```\n",
    "\n",
    "2. Resampling to a Higher Frequency with Forward Fill:\n",
    "   Resample a DataFrame to a higher frequency (e.g., from monthly to daily) and propagate non-null values forward.\n",
    "\n",
    "   ```python\n",
    "   df_resampled = df.resample('D').ffill()\n",
    "   ```\n",
    "\n",
    "3. Resampling with Multiple Aggregations:\n",
    "   Resample a DataFrame to a lower frequency (e.g., from hourly to daily) and apply multiple aggregation functions (e.g., mean, sum) to each group.\n",
    "\n",
    "   ```python\n",
    "   df_resampled = df.resample('D').agg({'column1': 'mean', 'column2': 'sum'})\n",
    "   ```\n",
    "\n",
    "4. Resampling with Custom Function:\n",
    "   Resample a DataFrame to a lower frequency (e.g., from minutes to hours) and apply a custom aggregation function to each group.\n",
    "\n",
    "   ```python\n",
    "   def custom_agg(x):\n",
    "       return x.max() - x.min()\n",
    "\n",
    "   df_resampled = df.resample('H').apply(custom_agg)\n",
    "   ```\n",
    "\n",
    "5. Resampling with Windowed Function:\n",
    "   Resample a DataFrame to a lower frequency (e.g., from daily to weekly) and apply a windowed function (e.g., rolling mean) to each group.\n",
    "\n",
    "   ```python\n",
    "   df_resampled = df.resample('W').rolling(window=7).mean()\n",
    "   ```\n",
    "\n",
    "These examples showcase different ways to use the `df.resample()` method in Pandas. By specifying the desired frequency and choosing the appropriate aggregation function or method, you can easily perform resampling operations to analyze data at different time resolutions."
   ],
   "metadata": {
    "collapsed": false
   }
  },
  {
   "cell_type": "code",
   "execution_count": null,
   "outputs": [],
   "source": [],
   "metadata": {
    "collapsed": false
   }
  }
 ],
 "metadata": {
  "kernelspec": {
   "display_name": "Python 3",
   "language": "python",
   "name": "python3"
  },
  "language_info": {
   "codemirror_mode": {
    "name": "ipython",
    "version": 2
   },
   "file_extension": ".py",
   "mimetype": "text/x-python",
   "name": "python",
   "nbconvert_exporter": "python",
   "pygments_lexer": "ipython2",
   "version": "2.7.6"
  }
 },
 "nbformat": 4,
 "nbformat_minor": 0
}
